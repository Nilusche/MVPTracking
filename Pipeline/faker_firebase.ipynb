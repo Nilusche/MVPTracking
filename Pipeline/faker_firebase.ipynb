{
 "cells": [
  {
   "cell_type": "markdown",
   "metadata": {},
   "source": [
    "# Config"
   ]
  },
  {
   "cell_type": "code",
   "execution_count": null,
   "metadata": {},
   "outputs": [],
   "source": [
    "!pip install firebase-admin faker --quiet"
   ]
  },
  {
   "cell_type": "code",
   "execution_count": 1,
   "metadata": {},
   "outputs": [],
   "source": [
    "import firebase_admin\n",
    "from firebase_admin import credentials, firestore\n",
    "from faker import Faker"
   ]
  },
  {
   "cell_type": "code",
   "execution_count": 2,
   "metadata": {},
   "outputs": [
    {
     "data": {
      "text/plain": [
       "<firebase_admin.App at 0x21cb8c99540>"
      ]
     },
     "execution_count": 2,
     "metadata": {},
     "output_type": "execute_result"
    }
   ],
   "source": [
    "cred = credentials.Certificate('serviceAccount.json')\n",
    "firebase_admin.initialize_app(cred)"
   ]
  },
  {
   "cell_type": "markdown",
   "metadata": {},
   "source": [
    "# Checkout the collections and documents"
   ]
  },
  {
   "cell_type": "code",
   "execution_count": 38,
   "metadata": {},
   "outputs": [
    {
     "name": "stdout",
     "output_type": "stream",
     "text": [
      "['Coach', 'Masterclass', 'users']\n"
     ]
    }
   ],
   "source": [
    "#get list of collections\n",
    "db = firestore.client()\n",
    "collections = [x.id for x in db.collections()]\n",
    "print(collections)"
   ]
  },
  {
   "cell_type": "code",
   "execution_count": 17,
   "metadata": {},
   "outputs": [
    {
     "name": "stdout",
     "output_type": "stream",
     "text": [
      "Id:  1 Data:  {'description': 'How to found a company', 'tags': ['Unternehmen', 'Gründung', 'Job'], 'thumbnail': '/images/masterclass.jpg', 'videoUrl': 'https://www.youtube.com/watch?v=9Q7Vr3yQYWQ', 'duration': 60, 'points': 100, 'id': 1, 'filterTags': ['Unternehmen', 'Gründung', 'Job'], 'status': 'unlocked', 'courseOverview': {'AboutCourse': 'This course is about how to found a company and how to get your first customers.', 'AboutAuthor': 'John Doe is a serial entrepreneur and has founded 5 companies in the last 10 years.'}, 'progress': 0, 'art': 'Masterclass', 'courseLessons': [1], 'lessons': 5, 'classroom': ['Gründung', 'Job'], 'level': 'Beginner', 'title': 'How to found a company', 'author': 'John Doe'}\n"
     ]
    }
   ],
   "source": [
    "#get collection \"Masterclass\" and print it\n",
    "docs = db.collection(\"Masterclass\").get()\n",
    "for doc in docs:\n",
    "    print(\"Id: \", doc.id, \"Data: \",doc.to_dict())"
   ]
  },
  {
   "cell_type": "code",
   "execution_count": 22,
   "metadata": {},
   "outputs": [
    {
     "name": "stdout",
     "output_type": "stream",
     "text": [
      "Id:  FfQRaL6WIdFoyJSSFevp Data:  {'postalCode': '12345', 'firstName': 'Admin', 'accType': 'customer', 'joined': DatetimeWithNanoseconds(2023, 10, 2, 12, 32, 53, 202000, tzinfo=datetime.timezone.utc), 'surname': 'Minda', 'advisor': 'Max Mustermann', 'role': 'none', 'advisorACID': 'advisor reference ACID', 'email': 'hello@dagmarverse.de', 'city': 'AdminCity', 'lifetime': 4, 'refACID': 'invite reference ACID'}\n"
     ]
    }
   ],
   "source": [
    "users = db.collection(\"users\").get()\n",
    "for user in users:\n",
    "    print(\"Id: \", user.id, \"Data: \",user.to_dict())"
   ]
  },
  {
   "cell_type": "code",
   "execution_count": 30,
   "metadata": {},
   "outputs": [
    {
     "name": "stdout",
     "output_type": "stream",
     "text": [
      "Id:  GpDGMyuHUSuPgzzamlKt Data:  {'website': '', 'xing': '', 'id': '', 'instagram': '', 'about': '', 'name': '', 'blogs': '', 'image': ['', '', ''], 'linkedin': '', 'link': '', 'facebook': '', 'position': '', 'podcasts': '', 'books': '', 'masterclass': ['']}\n"
     ]
    }
   ],
   "source": [
    "coaches = db.collection(\"Coach\").get()\n",
    "for coach in coaches:\n",
    "    print(\"Id: \", coach.id, \"Data: \",coach.to_dict())"
   ]
  },
  {
   "cell_type": "markdown",
   "metadata": {},
   "source": [
    "# Generate fake data and load into firestore"
   ]
  },
  {
   "cell_type": "markdown",
   "metadata": {},
   "source": [
    "### Masterclasses Collection"
   ]
  },
  {
   "cell_type": "code",
   "execution_count": 39,
   "metadata": {},
   "outputs": [],
   "source": [
    "masterclassCollection = db.collection('Masterclass')\n",
    "fake = Faker()\n",
    "\n",
    "list_of_levels = [\"Beginner\", \"Intermediate\", \"Advanced\"]\n",
    "list_of_status = [\"locked\", \"unlocked\", \"completed\"]\n",
    "\n",
    "for i in range(100):\n",
    "    data = {\n",
    "        \"art\": \"Masterclass\",\n",
    "        \"author\": fake.name(),\n",
    "        \"classroom\" : [fake.text() for i in range(fake.random_int(1, 5))],\n",
    "        \"courseLessons\" : [fake.random_int(1, 5) for i in range(fake.random_int(1, 5))],\n",
    "        \"courseOverview\": {\"AboutAuthor\" : fake.text(), \"AboutCourse\" : fake.text()},\n",
    "        \"description\" : fake.text(),\n",
    "        \"duration\" : fake.random_int(1, 100),\n",
    "        \"filterTags\": [fake.text() for i in range(fake.random_int(1, 5))],\n",
    "        \"id\": i+2,\n",
    "        \"lessons\": fake.random_int(1, 100),\n",
    "        \"level\": list_of_levels[fake.random_int(0, 2)],\n",
    "        \"points\": fake.random_int(1, 100),\n",
    "        \"progress\": 0,\n",
    "        \"status\": list_of_status[fake.random_int(0, 2)],\n",
    "        \"tags\" : [fake.text() for i in range(fake.random_int(1, 5))],\n",
    "        \"thumbnail\" : \"/images/masterclass.jpg\",\n",
    "        \"title\" : fake.text(),\n",
    "        \"videoUrl\" : fake.url(),\n",
    "\n",
    "    }\n",
    "    masterclassCollection.add(data)\n"
   ]
  },
  {
   "cell_type": "code",
   "execution_count": 21,
   "metadata": {},
   "outputs": [
    {
     "name": "stdout",
     "output_type": "stream",
     "text": [
      "Id:  920HEDRTWMNfTx8nnVmx Data:  {'description': 'Note home interview community party. Government describe say prove.\\nSurface like study say behind. Opportunity likely magazine life. For garden answer be red money others.', 'tags': ['Minute most enter. Option house reveal season interview discussion throw now.\\nGrow practice recent budget. They three item always table deal five.', 'Father administration blood can decision behind. Study read want owner feeling attention. Fast official next along keep red computer. When success very.', 'Source step assume dream. Who thank memory someone.\\nMeeting bad author fine marriage down relationship enter. Generation impact field him learn rise.', 'Then cell consider same person itself. Support race number money pick air. House provide during son paper. Take ask against age.'], 'thumbnail': '/images/masterclass.jpg', 'videoUrl': 'http://www.anderson-perry.com/', 'duration': 13, 'points': 2, 'id': 2, 'filterTags': ['Analysis figure goal learn customer attack form. Process book cover while.\\nMight almost lot main day growth he stay. Yard with first explain. Inside or model. Section effort sometimes film knowledge.', 'Often long data middle cell from rather. Blood operation stuff officer summer.', 'Position face foot director buy same wonder item. Leader at own half democratic. Successful itself participant foot us find.', 'Attack above oil raise control. Section you so star action prove.\\nProfessional attack whose chance. Development option listen live sound task. Early no that grow should.'], 'status': 'locked', 'courseOverview': {'AboutCourse': 'Catch call back consumer. Sign represent chair build finish. Central color election room investment thank.\\nAgainst baby practice same agent. Per former current any.', 'AboutAuthor': 'Enter serious outside nature. Kitchen necessary tree environmental want. Yard almost seem human lot.\\nRisk investment maintain try officer. Student with team actually full arm decide.'}, 'progress': 0, 'art': 'Masterclass', 'courseLessons': [2, 5, 4], 'lessons': 92, 'classroom': ['Ago analysis board argue forward half technology night. Radio account as time sometimes use wait. Oil trip drive question.', 'Professional wonder small week himself day pass. To cause man dark happen show once.\\nBlue face fish teach quite sea. Field PM forget especially nearly machine nor.', 'Industry these item customer. Cold stop commercial support.\\nSouth like late successful. Write remain door. Need history fire rich yes evidence.', 'Market plan school live idea. Responsibility this husband place Republican strategy.\\nLast gun role. Include interest nor score this level gun bank. Daughter true anything tend both know candidate.'], 'level': 'Beginner', 'title': 'Feel issue knowledge develop serve itself stand.\\nNor light social common finally. Expert should thing full commercial. Under player direction step.', 'author': 'Joseph Curry'}\n",
      "Id:  Ru7C34iQs0hwB5Lxt1lJ Data:  {'description': 'Economic thing bit strong attention west little. Police employee rock identify.\\nSerious than other away speak.', 'tags': ['Provide decision degree speak wall form else. Attention relationship focus data every sense often.', 'Happen paper create through. Response say painting.\\nRace size he front half. Fear where send next or.\\nUpon player show. Take operation himself in know ok.'], 'thumbnail': '/images/masterclass.jpg', 'videoUrl': 'https://johnson.com/', 'duration': 74, 'points': 11, 'id': 11, 'filterTags': ['Around listen camera medical position can hair. Camera positive account animal leg order candidate. Cause should as land doctor him. Oil argue effort back among can think.'], 'status': 'unlocked', 'courseOverview': {'AboutCourse': 'Car view page care. Indeed kind store crime time result.\\nSafe soon phone hour at commercial. Officer short you wait base. Dark most poor environmental especially agreement learn.', 'AboutAuthor': 'Field arrive director rule wide upon option. Reveal stock set phone.\\nMatter movie much response American customer. Expect take economy yard effort job table view.'}, 'progress': 0, 'art': 'Masterclass', 'courseLessons': [1, 3, 4, 4], 'lessons': 85, 'classroom': ['Improve read drive travel home. Want political power phone system probably admit account.\\nFinancial off study.', 'Success worker nor wear strong vote few. Treat tend it color. Military down issue talk war now. Build nearly rise country forget party.', 'Yourself with discuss same us simply. Central enjoy effect pressure service effort.\\nMovie call I inside this entire. World fund information to party attention respond.'], 'level': 'Beginner', 'title': 'Behind song cup. Never claim six believe short past. Water wife science land number single specific.\\nEducation lay bank firm government. Home happen teach officer yes control establish.', 'author': 'Amy Brown'}\n",
      "Id:  2OWyNgPKRKlMx4Vd4ou9 Data:  {'description': 'Assume admit rock cold. Sure hot role.\\nDream direction room attention. However military study bill. Anyone increase song sound stage amount vote.\\nUntil yet enough. Area audience much over.', 'tags': ['Mouth television sing western. A similar decision read.\\nSeveral interest education study go simple. True little quickly difficult. Study rest establish city class exist.', 'Performance check process service race popular before. Question million write two since.', 'Of maybe hit soldier sense paper necessary. Table beyond foreign also discussion. Design professor difference offer various always.', 'Door citizen community all point. Fast camera man firm. Standard crime federal full listen.\\nUp Democrat guess perhaps. Thing game move pay.'], 'thumbnail': '/images/masterclass.jpg', 'videoUrl': 'https://cochran-thornton.info/', 'duration': 16, 'points': 54, 'id': 8, 'filterTags': ['Exactly small agree hit decision approach floor. Well wait shoulder heavy voice. Mother short dream career. Water with yourself hand structure remain.'], 'status': 'completed', 'courseOverview': {'AboutCourse': 'Politics food charge collection television interview skill design. Court always station push. Serve yard politics.\\nData idea college fact can have.', 'AboutAuthor': 'Call other Democrat quite amount. Institution continue while candidate discuss pay social.\\nTable sit chair well natural. Increase drop people reason degree teacher term.'}, 'progress': 0, 'art': 'Masterclass', 'courseLessons': [1, 5, 4, 5, 1], 'lessons': 35, 'classroom': ['Local child responsibility tend. Eight actually dinner.\\nEvidence coach Democrat. Produce tend budget candidate civil again.'], 'level': 'Intermediate', 'title': 'Choice both measure system. Fight over official. Radio nature institution meeting firm whose threat.\\nTree site question form. Night team author million. Travel peace along condition pick strong.', 'author': 'Kathy Raymond'}\n"
     ]
    }
   ],
   "source": [
    "#get collection \"Masterclass\" and print it\n",
    "docs = db.collection(\"Masterclass\").get()\n",
    "print(len(docs))\n",
    "\n",
    "#print 3 random documents\n",
    "import random\n",
    "random_documents = random.sample(list(docs), 3)\n",
    "for doc in random_documents:\n",
    "    print(\"Id: \", doc.id, \"Data: \",doc.to_dict())"
   ]
  },
  {
   "cell_type": "markdown",
   "metadata": {},
   "source": [
    "### Users Collection"
   ]
  },
  {
   "cell_type": "code",
   "execution_count": 40,
   "metadata": {},
   "outputs": [],
   "source": [
    "usersCollection = db.collection('users')\n",
    "fake = Faker()\n",
    "\n",
    "list_of_account_Types = [\"customer\", \"admin\", \"master\", \"superadmin\", \"instructor\"]\n",
    "\n",
    "for i in range(100): \n",
    "    data = {\n",
    "        \"accType\": list_of_account_Types[fake.random_int(0, 4)],\n",
    "        \"advisor\": fake.name(),\n",
    "        \"advisorACID\": \"advisor reference\" + str(i),\n",
    "        \"city\": fake.city(),\n",
    "        \"email\": fake.email(),\n",
    "        \"firstName\": fake.first_name(),\n",
    "        \"joined\": fake.date(),\n",
    "        \"lifetime\" : fake.random_int(1, 100),\n",
    "        \"postalCode\": fake.postcode(),\n",
    "        \"refACID\": \"reference\" + str(i),\n",
    "        \"role\": fake.job(),\n",
    "        \"surname\": fake.last_name(),\n",
    "    }\n",
    "    usersCollection.add(data)"
   ]
  },
  {
   "cell_type": "code",
   "execution_count": 25,
   "metadata": {},
   "outputs": [
    {
     "name": "stdout",
     "output_type": "stream",
     "text": [
      "11\n",
      "Id:  FfQRaL6WIdFoyJSSFevp Data:  {'postalCode': '12345', 'firstName': 'Admin', 'accType': 'customer', 'joined': DatetimeWithNanoseconds(2023, 10, 2, 12, 32, 53, 202000, tzinfo=datetime.timezone.utc), 'surname': 'Minda', 'advisor': 'Max Mustermann', 'role': 'none', 'advisorACID': 'advisor reference ACID', 'email': 'hello@dagmarverse.de', 'city': 'AdminCity', 'lifetime': 4, 'refACID': 'invite reference ACID'}\n",
      "Id:  uac86WgKkwiF6VRzMtXB Data:  {'lifetime': 99, 'firstName': 'Logan', 'surname': 'Chang', 'joined': '2008-06-04', 'accType': 'customer', 'role': 'Actuary', 'advisor': 'Kelly Robinson', 'advisorACID': 'advisor reference8', 'email': 'kayla40@example.net', 'city': 'Jackiehaven', 'postalCode': '71606', 'refACID': 'reference8'}\n",
      "Id:  CirgNXAW7BRhtQNF3n9U Data:  {'lifetime': 30, 'firstName': 'Travis', 'surname': 'Richardson', 'joined': '2004-01-10', 'accType': 'master', 'role': 'Engineer, manufacturing', 'advisor': 'Elizabeth Rogers', 'advisorACID': 'advisor reference5', 'email': 'haley95@example.org', 'city': 'Port Julie', 'postalCode': '04652', 'refACID': 'reference5'}\n"
     ]
    }
   ],
   "source": [
    "#get collection \"users\" and print it\n",
    "users = db.collection(\"users\").get()\n",
    "print(len(users))\n",
    "\n",
    "#print 3 random documents\n",
    "import random\n",
    "random_documents = random.sample(list(users), 3)\n",
    "for user in random_documents:\n",
    "    print(\"Id: \", user.id, \"Data: \",user.to_dict())\n"
   ]
  },
  {
   "cell_type": "markdown",
   "metadata": {},
   "source": [
    "### Coach Collection"
   ]
  },
  {
   "cell_type": "code",
   "execution_count": 41,
   "metadata": {},
   "outputs": [],
   "source": [
    "coachCollection = db.collection('Coach')\n",
    "fake = Faker()\n",
    "\n",
    "for i in range(100): \n",
    "    data = {\n",
    "        \"about\": fake.text(),\n",
    "        \"blogs\": [fake.text() for i in range(fake.random_int(1, 5))],\n",
    "        \"books\": [fake.text() for i in range(fake.random_int(1, 5))],\n",
    "        \"facebook\": fake.url(),\n",
    "        \"id\": i+2,\n",
    "        \"image\": [fake.name()+ \".jpg\" for i in range(fake.random_int(1, 5))],\n",
    "        \"instagram\": fake.url(),\n",
    "        \"linkedin\": fake.url(),\n",
    "        \"link\": fake.url(),\n",
    "        \"masterclass\": [{\"name\": fake.name()} for i in range(fake.random_int(1, 5))],\n",
    "        \"podcasts\" : [{\"position\": fake.job(), \"website\": fake.url(), \"xing\": fake.url()} for i in range(fake.random_int(1, 5))],\n",
    "    }\n",
    "    coachCollection.add(data)"
   ]
  },
  {
   "cell_type": "code",
   "execution_count": 42,
   "metadata": {},
   "outputs": [
    {
     "name": "stdout",
     "output_type": "stream",
     "text": [
      "111\n",
      "Id:  85ZzV2RaSrsSsXweHw9u Data:  {'blogs': ['Hard chair money. Recently success stand right high.\\nAir kind assume impact. Last whose choice arm threat kid door.', 'Whole total since professional much science. About bag south reduce.\\nIt effort determine next they. Point sister thought return.', 'Begin skill make serve office everyone media arm.\\nChoice police return food door agency. Brother artist own Mr admit control.', 'Participant head nothing church.\\nCenter country later some TV within listen. Which husband raise teach.', 'Our no investment should. Ahead fly third bill message.\\nVisit go technology foot. According letter rest rest early.'], 'image': ['Danielle Matthews.jpg'], 'id': 44, 'linkedin': 'http://www.reynolds.net/', 'link': 'https://www.larson-garcia.com/', 'facebook': 'https://barr.com/', 'instagram': 'http://ferguson.com/', 'about': 'Arrive list inside society behind own physical. Decision let then not really either gun.\\nTwo consider success minute bed week hour low. Side blood eat. Congress boy item kind take white.', 'podcasts': [{'position': 'Therapist, speech and language', 'website': 'http://perry.com/', 'xing': 'https://moss.com/'}, {'position': 'Careers adviser', 'website': 'https://www.richardson.com/', 'xing': 'https://www.coleman.net/'}], 'books': ['Reduce we affect science. Different rate yourself worry. Significant draw fill throw record model alone.\\nCharge computer least score wall. Later store why begin east figure about worry.', 'Those inside economy material live. Network fact attention because southern. Near goal may each go future.', 'Same thought character appear. Listen current keep time trial.\\nAvoid do sound. Act tough open at. Fund important five.'], 'masterclass': [{'name': 'Holly Fernandez'}, {'name': 'Jessica Turner'}, {'name': 'Morgan Reid'}, {'name': 'Brad Burgess'}]}\n",
      "Id:  CE6C2L24P445sPPTBAch Data:  {'blogs': ['Special security investment each expert. Live task yeah education score. Ever tough edge every green area meet simply.', 'Level check religious born. Find mean again third admit receive way. Effort class government reality method model.\\nPrice never store light. Baby single source.'], 'image': ['Morgan Foster.jpg', 'Colin Warren.jpg'], 'id': 61, 'linkedin': 'https://rogers.com/', 'link': 'https://www.walker.info/', 'facebook': 'http://bartlett.net/', 'instagram': 'https://www.bates.com/', 'about': 'Light entire build camera feeling scene four peace. Able why effect important bed within simply community.\\nSong manage conference fire. Everybody western weight.', 'podcasts': [{'position': 'Animal technologist', 'website': 'https://anderson.com/', 'xing': 'https://ward-smith.com/'}, {'position': 'Print production planner', 'website': 'http://blair-roberts.biz/', 'xing': 'https://guerrero.org/'}], 'books': ['Else ability structure these course. Garden let apply response few hold. Listen crime half these treat strategy box.', 'Must lead ahead more. Still area quickly understand figure. State ten choice wonder.\\nOn population girl able end. Though red material learn.', 'Number receive pass. Final international politics southern back concern service author.', 'Well yet doctor beat where politics. Third four the design arrive finally.'], 'masterclass': [{'name': 'Kayla Horton'}, {'name': 'Shannon Butler'}, {'name': 'Jamie Miller'}]}\n",
      "Id:  h0Www1lpLKzdlqgYdYWr Data:  {'blogs': ['So wide talk. Sometimes most media respond citizen cell.\\nLearn move fire community out. Student good require.\\nNearly hundred rule. Expect natural through me doctor strong speak.', 'Old player eat where least rock. Apply someone serve relationship hold nation. Democrat blue chair site thought style.', 'Customer attorney north father. Agency against before.\\nSuddenly opportunity by value. Majority risk hold all little protect east eight.'], 'image': ['Steven Carrillo.jpg', 'Samantha Harris.jpg'], 'id': 94, 'linkedin': 'http://www.allen-mccullough.com/', 'link': 'http://www.murphy-meyer.com/', 'facebook': 'http://wong-brown.biz/', 'instagram': 'http://ford.org/', 'about': 'Teach memory care book office only. Include democratic impact American player word.\\nThrow hotel show happy soon one would everybody. Draw animal respond really baby.', 'podcasts': [{'position': 'Maintenance engineer', 'website': 'https://www.figueroa.com/', 'xing': 'https://cochran.com/'}, {'position': 'Biomedical engineer', 'website': 'https://www.mendez.com/', 'xing': 'http://lyons-rodriguez.com/'}, {'position': 'Academic librarian', 'website': 'http://taylor-shields.com/', 'xing': 'https://evans-long.com/'}], 'books': ['Still someone visit image add school. There law store east.\\nDifferent future out believe career international. Nature area candidate education television. Address if bar today month it.', 'Consumer loss thousand Mrs pay need director. Participant try picture college. Beautiful talk let newspaper far north. Throughout already pay just along artist when.', 'If personal know pull. Spend drive professional because. Perhaps enjoy of reality.', 'Toward do for camera nature million discover. Professor throughout decade animal. Painting where rich doctor allow.'], 'masterclass': [{'name': 'Samantha King'}]}\n"
     ]
    }
   ],
   "source": [
    "#get collection \"users\" and print it\n",
    "coaches = db.collection(\"Coach\").get()\n",
    "print(len(coaches))\n",
    "\n",
    "#print 3 random documents\n",
    "import random\n",
    "random_documents = random.sample(list(coaches), 3)\n",
    "for coach in random_documents:\n",
    "    print(\"Id: \", coach.id, \"Data: \",coach.to_dict())"
   ]
  }
 ],
 "metadata": {
  "kernelspec": {
   "display_name": "Python 3",
   "language": "python",
   "name": "python3"
  },
  "language_info": {
   "codemirror_mode": {
    "name": "ipython",
    "version": 3
   },
   "file_extension": ".py",
   "mimetype": "text/x-python",
   "name": "python",
   "nbconvert_exporter": "python",
   "pygments_lexer": "ipython3",
   "version": "3.10.4"
  }
 },
 "nbformat": 4,
 "nbformat_minor": 2
}
