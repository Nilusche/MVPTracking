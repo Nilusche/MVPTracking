{
 "cells": [
  {
   "cell_type": "markdown",
   "metadata": {},
   "source": [
    "# Config"
   ]
  },
  {
   "cell_type": "code",
   "execution_count": 25,
   "metadata": {},
   "outputs": [
    {
     "name": "stdout",
     "output_type": "stream",
     "text": [
      "Note: you may need to restart the kernel to use updated packages.\n"
     ]
    },
    {
     "name": "stderr",
     "output_type": "stream",
     "text": [
      "\n",
      "[notice] A new release of pip is available: 23.1.2 -> 23.3.1\n",
      "[notice] To update, run: C:\\Users\\49152\\AppData\\Local\\Microsoft\\WindowsApps\\PythonSoftwareFoundation.Python.3.8_qbz5n2kfra8p0\\python.exe -m pip install --upgrade pip\n"
     ]
    },
    {
     "name": "stdout",
     "output_type": "stream",
     "text": [
      "Note: you may need to restart the kernel to use updated packages.\n"
     ]
    },
    {
     "name": "stderr",
     "output_type": "stream",
     "text": [
      "\n",
      "[notice] A new release of pip is available: 23.1.2 -> 23.3.1\n",
      "[notice] To update, run: C:\\Users\\49152\\AppData\\Local\\Microsoft\\WindowsApps\\PythonSoftwareFoundation.Python.3.8_qbz5n2kfra8p0\\python.exe -m pip install --upgrade pip\n"
     ]
    }
   ],
   "source": [
    "%pip install firebase-admin faker --quiet"
   ]
  },
  {
   "cell_type": "code",
   "execution_count": 30,
   "metadata": {},
   "outputs": [],
   "source": [
    "import firebase_admin\n",
    "from firebase_admin import credentials, firestore\n",
    "from faker import Faker\n",
    "import numpy as np"
   ]
  },
  {
   "cell_type": "code",
   "execution_count": 3,
   "metadata": {},
   "outputs": [
    {
     "data": {
      "text/plain": [
       "<firebase_admin.App at 0x12bf27c6340>"
      ]
     },
     "execution_count": 3,
     "metadata": {},
     "output_type": "execute_result"
    }
   ],
   "source": [
    "cred = credentials.Certificate('serviceAccount.json')\n",
    "firebase_admin.initialize_app(cred)"
   ]
  },
  {
   "cell_type": "markdown",
   "metadata": {},
   "source": [
    "# Checkout the collections and documents"
   ]
  },
  {
   "cell_type": "code",
   "execution_count": 4,
   "metadata": {},
   "outputs": [
    {
     "name": "stdout",
     "output_type": "stream",
     "text": [
      "['Blogs', 'Coaches', 'Events', 'Masterclasses', 'Snax', 'Users']\n"
     ]
    }
   ],
   "source": [
    "#get list of collections\n",
    "db = firestore.client()\n",
    "collections = [x.id for x in db.collections()]\n",
    "print(collections)"
   ]
  },
  {
   "cell_type": "markdown",
   "metadata": {},
   "source": [
    "<h1 style=\"color:yellow\">Constants from Dagmarverse</h1>"
   ]
  },
  {
   "cell_type": "code",
   "execution_count": 20,
   "metadata": {},
   "outputs": [],
   "source": [
    "CLASSROOMS = [\n",
    "    \"Job\",\n",
    "    \"Geld für morgen\",\n",
    "    \"Partnerschaft\",\n",
    "    \"Gründung\",\n",
    "    \"Familie\",\n",
    "    \"Investieren\",\n",
    "    \"Ausbildung\"\n",
    "]\n",
    "\n",
    "MASTERCLASSES = [\n",
    "    \"Unternehmensführung mit leichtem Gepäck\",\n",
    "    \"Unternehmer-Mindset - Tätigkeiten auslagern\",\n",
    "    \"Tipps & Tricks zu Content Creation\",\n",
    "    \"Sicher in dein Bewerbungsgespräch\",\n",
    "    \"Was ist Selbstwertgefühl - Die Auswirkungen auf Beziehung & Karriere und wie du es verbessern kannst 6 Fachwissen Vertrieb\",\n",
    "    \"Die Immobilie als Altersvorsorge: Rechtliche Tipps für mehr finanzielle Sicherheit\",\n",
    "    \"Wie funktionieren Versicherungen?\",\n",
    "    \"Versicherung für Student:innen\",\n",
    "    \"Mindset Vertrieb\",\n",
    "    \"Immobilien-Verkauf Basics\"\n",
    "]\n",
    "\n",
    "SNAX = [\n",
    "    \"Was muss ich bei der Versandverpackung meiner Produkte beachten?\",\n",
    "    \"Wie sichere ich die Zukunft meines Kindes ab?\",\n",
    "    \"Wie sichere ich meinen Online-Shop rechtlich ab?\",\n",
    "    \"Wie informiere ich mich über finanzielle Entlastungsmöglichkeiten?\",\n",
    "    \"Soll ich mein Depot bei einer Bank oder über eine App eröffnen?\",\n",
    "    \"In welche ETFs sollte ich investieren?\",\n",
    "    \"Wofür brauche ich ein Depot?\",\n",
    "    \"Welches Budget sollte ich für SEA Marketing einplanen?\",\n",
    "    \"Wie gehe ich mit unschöner Post um?\",\n",
    "    \"Was für eine Domain soll ich für meinen Online-Shop nehmen?\",\n",
    "    \"Was ist die Gender Pension Gap?\",\n",
    "    \"Was muss ich beim Abschluss einer Haftpflichtversicherung beachten?\",\n",
    "    \"Welche Versicherungen brauche ich für meine Wohnung?\",\n",
    "    \"Wie viele Schulden darf ich beim Gründen machen?\",\n",
    "    \"Der erste Schritt zur Gründung\",\n",
    "    \"ETF oder Aktie?\",\n",
    "    \"Wann sollte ich anfangen zu investieren?\",\n",
    "    \"Lea Mishras größter Fehler beim Investieren\",\n",
    "    \"Was sollte ich beim Investieren in Kryptowährungen beachten? 20 Persönliche Finanzen und Glück\",\n",
    "    \"Wie komme ich an Tipps für mein Gründungsunternehmen?\",\n",
    "    \"Was nützt mir eine Personal Brand?\",\n",
    "    \"Wie Mahabat ihr Business gestartet hat\",\n",
    "    \"Wie kann ich meine Chancen auf dem Arbeitsmarkt verbessern?\",\n",
    "    \"Mahabats Tipp für Gründer*innen\"  \n",
    "]\n",
    "\n",
    "BLOGS = [\n",
    "    {\"title\": \"Finanzplanung leicht gemacht: Die 50:30:20 Regel\", \"author\": \"dagmar\"},\n",
    "    {\"title\": \"Die Börse im Überblick\", \"author\": \"dagmar\"},\n",
    "    {\"title\": \"Die 5 Grundregeln des Investierens\", \"author\": \"dagmar\"},\n",
    "    {\"title\": \"Betriebliche Altersvorsorge (bAV): Überblick und Formen\", \"author\": \"dagmar\"},\n",
    "    {\"title\": \"Mehr als nur Geld: Warum Selbstfürsorge der Schlüssel zur finanziellen Zufriedenheit ist\", \"author\": \"dagmar\"},\n",
    "    {\"title\": \"Haushaltsbuch: Dein Schlüssel zu finanzieller Kontrolle und Unabhängigkeit\", \"author\": \"dagmar\"},\n",
    "    {\"title\": \"Der Cost-Average-Effekt: Kluger Weg zur langfristigen Investition\", \"author\": \"dagmar\"},\n",
    "    {\"title\": \"Die Verbesserten KfW-Fördermöglichkeiten für Familien in 2023\", \"author\": \"PHI\"},\n",
    "    {\"title\": \"Was Selbstsändige von der Steuer absetzen können: Elne Übersicht\", \"author\": \"dagmar\"},\n",
    "    {\"title\": \"Immobilien geerbt: Diese Fragen solltest du dir jetzt stellen\", \"author\": \"PHI\"},\n",
    "    {\"title\": \"Größeres Angebot, Bessere Kaufchance für Immobilien?\", \"author\": \"PHI\"},\n",
    "    {\"title\": \"Die 5 Pflichten des Immobilieneigentümers\", \"author\": \"PHI\"},\n",
    "    {\"title\": \"Checkliste: Welche Unterlagen brauche ich für die Immobilienfinanzierung?\", \"author\": \"PHI\"},\n",
    "    {\"title\": \"Scheitern ist kein Weltuntergang!\", \"author\": \"Coralie Richter\"},\n",
    "    {\"title\": \"Scheitern ist menschlich\", \"author\": \"Coralie Richter\"},\n",
    "    {\"title\": \"Im Scheitern liegt das Glück\", \"author\": \"Coralie Richter\"},\n",
    "    {\"title\": \"Die Möglichkeiten sind grenzenlos\", \"author\": \"Coralie Richter\"},\n",
    "    {\"title\": \"Traden vs. Langfristiges Investieren in Aktien: 2 Wege, ein Ziel\", \"author\": \"Emilia Bolda\"},\n",
    "    {\"title\": \"Von Bullen und Bären - die faszinierende Sprache der Börse\", \"author\": \"Emilia Bolda\"},\n",
    "    {\"title\": \"Impact Investing - Investieren mit positivem Einfluss\", \"author\": \"Emilia Bolda\"},\n",
    "    {\"title\": \"Lerne in 10 Schritten wie die Börse funktioniert\", \"author\": \"Emilia Bolda\"},\n",
    "    {\"title\": \"Die 5 häufigsten Fehler beim Aktienkauf\", \"author\": \"Emilia Bolda\"}\n",
    "]\n",
    "\n",
    "AUTOREN = [\n",
    "    \"Holger Stollenwerk\",\n",
    "    \"Lily Airich\",\n",
    "    \"Gonzalo Agusti Cordano\",\n",
    "    \"Jan P. & Alexander W.\",\n",
    "    \"Bilgehan Karatas\",\n",
    "    \"Matthias Rummler\",\n",
    "    \"Achim Stollenwerk\",\n",
    "    \"Bilgehan Karatas\",\n",
    "    \"PHI Immobilien\"\n",
    "]\n",
    "\n",
    "MIN_DAUER = 5\n",
    "MAX_DAUER = 3 * 60\n",
    "\n",
    "autoren_length = len(AUTOREN) - 1\n",
    "classrooms_length = len(CLASSROOMS) - 1\n",
    "\n",
    "masterclasses_length = len(MASTERCLASSES) - 1\n"
   ]
  },
  {
   "cell_type": "markdown",
   "metadata": {},
   "source": [
    "# Generate fake data and load into firestore"
   ]
  },
  {
   "cell_type": "markdown",
   "metadata": {},
   "source": [
    "### Masterclasses Collection"
   ]
  },
  {
   "cell_type": "code",
   "execution_count": 18,
   "metadata": {},
   "outputs": [],
   "source": [
    "masterclassCollection = db.collection('Masterclasses')\n",
    "fake = Faker()\n",
    "\n",
    "list_of_levels = [\"Basic\", \"Medium\", \"Advanced\"]\n",
    "list_of_status = [\"locked\", \"unlocked\", \"completed\"]"
   ]
  },
  {
   "cell_type": "code",
   "execution_count": 19,
   "metadata": {},
   "outputs": [],
   "source": [
    "\n",
    "\n",
    "\n",
    "for i in range(len(MASTERCLASSES)):\n",
    "    title = MASTERCLASSES[i]\n",
    "    classrooms =  [CLASSROOMS[fake.random_int(max=classrooms_length)] for i in range(fake.random_int(2, 3))]\n",
    "    autor = AUTOREN[fake.random_int(max=autoren_length)]\n",
    "    id = i + 1\n",
    "    level = list_of_levels[fake.random_int(0, 2)]\n",
    "    points = 0\n",
    "    if level == \"Basic\":\n",
    "        points = points = fake.random_int(5, 10) * 10\n",
    "    elif level == \"Medium\":\n",
    "        points = points = fake.random_int(18, 21) * 10\n",
    "    else:\n",
    "        points = points = fake.random_int(30, 35) * 10\n",
    "    data = {\n",
    "        \"art\": \"Masterclass\",\n",
    "        \"author\": autor,\n",
    "        \"classroom\" : classrooms,\n",
    "        \"courseLessons\" : [fake.random_int(1, 5) for i in range(fake.random_int(1, 5))],\n",
    "        \"courseOverview\": {\"AboutAuthor\" : fake.text(50) + \"...\", \"AboutCourse\" : fake.text(50) + \"...\"},\n",
    "        \"description\" : fake.text(max_nb_chars=50) + \"...\",\n",
    "        \"duration\" : fake.random_int(MIN_DAUER, MAX_DAUER),\n",
    "        \"filterTags\": classrooms,\n",
    "        \"id\": id,\n",
    "        \"lessons\": fake.random_int(1, 100),\n",
    "        \"level\": level,\n",
    "        \"points\": points,\n",
    "        \"progress\": 0,\n",
    "        \"status\": list_of_status[fake.random_int(0, 2)],\n",
    "        \"tags\" : classrooms,\n",
    "        \"thumbnail\" : fake.image_url([\"facebook\"]),\n",
    "        \"title\" : title,\n",
    "        \"videoUrl\" : fake.url([\"video\"]),\n",
    "        \"enrollment_count\": fake.random_int(0, 100)\n",
    "    }\n",
    "    #masterclassCollection.add(data)\n",
    "    print(data)\n"
   ]
  },
  {
   "cell_type": "markdown",
   "metadata": {},
   "source": [
    "### Users Collection"
   ]
  },
  {
   "cell_type": "code",
   "execution_count": 26,
   "metadata": {},
   "outputs": [
    {
     "name": "stdout",
     "output_type": "stream",
     "text": [
      "Requirement already satisfied: numpy in c:\\users\\49152\\appdata\\local\\packages\\pythonsoftwarefoundation.python.3.8_qbz5n2kfra8p0\\localcache\\local-packages\\python38\\site-packages (1.24.4)\n"
     ]
    },
    {
     "name": "stderr",
     "output_type": "stream",
     "text": [
      "\n",
      "[notice] A new release of pip is available: 23.1.2 -> 23.3.1\n",
      "[notice] To update, run: C:\\Users\\49152\\AppData\\Local\\Microsoft\\WindowsApps\\PythonSoftwareFoundation.Python.3.8_qbz5n2kfra8p0\\python.exe -m pip install --upgrade pip\n"
     ]
    }
   ],
   "source": [
    "!pip install numpy"
   ]
  },
  {
   "cell_type": "code",
   "execution_count": 51,
   "metadata": {},
   "outputs": [],
   "source": [
    "import random\n",
    "usersCollection = db.collection('Users')\n",
    "fake = Faker()\n",
    "list_of_account_Types = [\"admin\", \"master\", \"superadmin\", \"instructor\"]\n",
    "list_of_Education = [\"Schule\", \"Abitur\", \"Realschulabschluss\", \"Hochschulabschluss\", \"Bachelor\", \"Master\", \"Promotion\", \"Ausbildung\"]\n",
    "\n",
    "\n",
    "\n",
    "Berlin = [10115,10117,10119,10178,10179, 10243,10245,10247,10249 ,10405,10407,10409,10435,10437,10439, 12679,12681,12683,12685,12687,12689 , 13347,13349,13351,13353,13355,13357,13359]\n",
    "Aachen = [52062, 52064, 52066, 52068, 52070, 52072, 52074, 52076, 52078]\n",
    "Munich =  [\t80538, 80539, 80799, 80801, 80802, 80803, 80804, 80805, 80807, 80939, 80335, 80634, 80636, 80637, 80638, 80639, 80797, 80809, 80992]\n",
    "Cologne = [\t50668, 50670, 50672, 50674, \t50667, 50668, 50670, 50672, \t50825, 50827]\n",
    "Frankfurt = [\t60325, 60431, 60486, 60487, \t60320, 60322, 60431, 60433, 60435, \t60310, 60311, 60312, 60313, 60318, 60322, 60329, \t60316, 60318, 60320, 60322, 60389, 60435]\n",
    "Duesseldorf = [40547 ]\n",
    "Leipzig =  [4109, 4357]\n",
    "Stuttgart= [\t70191, 70372, 70374, 70376, 70378, 70192, 70469, 70499, \t70173, 70174, 70176, 70178, 70180, 70182, 70184, 70188, 70190, \t70174, 70191, 70192, 70193, \t70184, 70186, 70188, 70190, 70327]\n",
    "Hamburg = [\t22111, 22113, 22115, 22117, 22119, \t20097, 20535, 20537, 22087, 22089, 22111, \t20354, 20355, 20357, 20359, 20459, 22767, 22769]\n",
    "Essen = [45130, 45131, 45133, 45136, 45147, 45128, 45138, 45139, \t45136, 45138, 45139]\n",
    "Hannover = [\t30159, 30161, 30167, 30169, 30171, 30175, \t30519, 30521, 30539, \t30159, 30169, 30171, 30173, 30175, 30519]\n",
    "Bonn = [53111, 53113, 53115, \t53123, 53125 ]\n",
    "Dortmund = [\t44135, 44137, 44139, 44141, 44143, 44145, 44147, 44149, 44225, 44227, 44263, 44329, 44339, 44369, \t44143, 44263, 44269, 44287, 44267, 44269, 44287]\n",
    "\n",
    "\n",
    "CITIES = [\n",
    "    {\"name\": \"Munich\", \"PLZ\": Munich},\n",
    "    {\"name\": \"Aachen\", \"PLZ\": Aachen},\n",
    "    {\"name\": \"Berlin\", \"PLZ\": Berlin},\n",
    "    {\"name\": \"Cologne\", \"PLZ\": Cologne},\n",
    "    {\"name\": \"Frankfurt\", \"PLZ\": Frankfurt},\n",
    "    {\"name\": \"Düsseldorf\", \"PLZ\": Duesseldorf},\n",
    "    {\"name\": \"Leipzig\", \"PLZ\": Leipzig},\n",
    "    {\"name\": \"Stuttgart\", \"PLZ\": Stuttgart},\n",
    "    {\"name\": \"Hamburg\", \"PLZ\": Hamburg},\n",
    "    {\"name\": \"Essen\", \"PLZ\": Essen},\n",
    "    {\"name\": \"Hannover\", \"PLZ\": Hannover},\n",
    "    {\"name\": \"Bonn\", \"PLZ\": Bonn},\n",
    "    {\"name\": \"Dortmund\", \"PLZ\": Dortmund},\n",
    "]\n",
    "\n",
    "\n",
    "\n",
    "cities_length = len(CITIES) - 1\n",
    "\n",
    "## normal dirtibution for age\n",
    "mu, sigma = 30, 6\n",
    "s = np.random.normal(mu, sigma, 100)\n",
    "s = [int(number) for number in s]\n",
    "birthdates = [fake.date_of_birth(minimum_age=number, maximum_age=number) for number in s]\n",
    "\n",
    "\n",
    "\n",
    "for i in range(100):\n",
    "    city = CITIES[fake.random_int(max=cities_length)]\n",
    "    course_enrolled = fake.random_int(0, 5)\n",
    "    city_name = city[\"name\"]\n",
    "    plzS = city[\"PLZ\"]\n",
    "    plzS_length = len(plzS) - 1\n",
    "    plz = plzS[fake.random_int(max=plzS_length)]\n",
    "\n",
    "    interest = []\n",
    "    for classroom in CLASSROOMS:\n",
    "        interest += [{\"classroom\": classroom, \"score\": fake.random_int(max=100)}]\n",
    "    data = {\n",
    "        \"id\": i + 2,\n",
    "        \"accType\": \"Customer\" if random.random() < 0.95 else list_of_account_Types[fake.random_int(0, 3)],\n",
    "        \"advisor\": fake.name(),\n",
    "        \"advisorACID\": \"advisor reference\" + str(i),\n",
    "        \"city\": city_name,\n",
    "        \"email\": fake.email(),\n",
    "        \"firstName\": fake.first_name(),\n",
    "        \"joined\": fake.date(),\n",
    "        \"lifetime\" : fake.random_int(0, 5),\n",
    "        \"postalCode\": plz,\n",
    "        \"refACID\": \"reference\" + str(i),\n",
    "        \"role\": fake.job(),\n",
    "        \"surname\": fake.last_name(),\n",
    "        \"Gender\": list([\"Male\", \"Female\"])[fake.random_int(0, 1)],\n",
    "        \"Income\": fake.random_int(10000, 80000),\n",
    "        \"Birthdate\": fake.date_of_birth(minimum_age=13, maximum_age=50).strftime('%Y/%m/%d'),\n",
    "        \"Education\": list_of_Education[fake.random_int(0, len(list_of_Education) - 1)],\n",
    "        \"Employment_status\": [\"unemployed\", \"employed\"][fake.random_int(0, 1)],\n",
    "        \"Watched\": [ {\"Masterclass\" : fake.random_int(1, max=masterclasses_length + 1), \"progress\": str(fake.random_int(0, 500)) + \" min\"} for i in range(fake.random_int(0, 5))],\n",
    "        \"Interest\": interest,\n",
    "        \"Total_Watchtime\" : str(fake.random_int(0, 100000)) + \" min\",\n",
    "        \"Avg_session_duration\": str(fake.random_int(0, 200)) + \" min\",\n",
    "        \"Courses_enrolled\" : course_enrolled,\n",
    "        \"Courses_completed\" : fake.random_int(0, course_enrolled),\n",
    "        \"course_saved\": fake.random_int(0, course_enrolled + 5)\n",
    "    }\n",
    "    usersCollection.add(data)\n",
    "    #print(data)"
   ]
  },
  {
   "cell_type": "markdown",
   "metadata": {},
   "source": [
    "### Coach Collection"
   ]
  },
  {
   "cell_type": "code",
   "execution_count": 8,
   "metadata": {},
   "outputs": [],
   "source": [
    "#coachCollection = db.collection('Coaches')\n",
    "fake = Faker()\n",
    "\n",
    "for i in range(100): \n",
    "    data = {\n",
    "        \"about\": fake.text(50),\n",
    "        \"blogs\": [fake.text(50) + \"...\" for i in range(fake.random_int(1, 5))],\n",
    "        \"books\": [fake.word() for i in range(fake.random_int(1, 5))],\n",
    "        \"facebook\": fake.url(),\n",
    "        \"id\": i+2,\n",
    "        \"image\": [fake.name()+ \".jpg\" for i in range(fake.random_int(1, 5))],\n",
    "        \"instagram\": fake.url([\"instagram\"]),\n",
    "        \"linkedin\": fake.url([\"linkedin\"]),\n",
    "        \"link\": fake.url(),\n",
    "        \"masterclass\": [{\"name\": fake.name()} for i in range(fake.random_int(1, 5))],\n",
    "        \"podcasts\" : [{\"position\": fake.job(), \"website\": fake.url(), \"xing\": fake.url()} for i in range(fake.random_int(1, 5))],\n",
    "        \"Name\": fake.name(),\n",
    "        \"position\": fake.job()\n",
    "    }\n",
    "    #coachCollection.add(data)\n",
    "    print(data)"
   ]
  },
  {
   "cell_type": "code",
   "execution_count": 9,
   "metadata": {},
   "outputs": [],
   "source": [
    "#eventCollection = db.collection('Events')\n",
    "fake = Faker()\n",
    "from datetime import date\n",
    "\n",
    "Event_Types = [\"enroll_course\", \"save_course\", \"unsave_course\", \"complete_course\", \"complete_lesson\", \"login\", \"logout\", \"Berater_kontaktieren\", \"Berater_wechseln\"]\n",
    "for i in range(200): \n",
    "    data = {\n",
    "        \"Event-ID\": i + 2,\n",
    "        \"User-Id\": fake.random_int(2, 101),\n",
    "        \"Timestamp\": fake.date(),\n",
    "        \"Event-Type\" : Event_Types[fake.random_int(0, len(Event_Types) - 1)],\n",
    "        \"Event-Specific-Information\" : fake.text()\n",
    "    }\n",
    "    #eventCollection.add(data)\n",
    "    print(data)\n"
   ]
  },
  {
   "cell_type": "code",
   "execution_count": 10,
   "metadata": {},
   "outputs": [],
   "source": [
    "# nicht nutzen wegen täglichem Limit von Operationen\n",
    "def delete_collection(coll_ref, batch_size):\n",
    "    docs = coll_ref.list_documents(page_size=batch_size)\n",
    "    deleted = 0\n",
    "\n",
    "    for doc in docs:\n",
    "        print(f\"Deleting doc {doc.id} => {doc.get().to_dict()}\")\n",
    "        doc.delete()\n",
    "        deleted = deleted + 1\n",
    "\n",
    "    if deleted >= batch_size:\n",
    "        return delete_collection(coll_ref, batch_size)\n",
    "#db = firestore.client()\n",
    "#collections = [x for x in db.collections()]\n",
    "#for collection in collections:\n",
    "    #delete_collection(collection, 0)"
   ]
  },
  {
   "cell_type": "markdown",
   "metadata": {},
   "source": [
    "### Blogs Collection"
   ]
  },
  {
   "cell_type": "code",
   "execution_count": 8,
   "metadata": {},
   "outputs": [],
   "source": [
    "blogsCollection = db.collection('Blogs')"
   ]
  },
  {
   "cell_type": "code",
   "execution_count": 9,
   "metadata": {},
   "outputs": [
    {
     "name": "stdout",
     "output_type": "stream",
     "text": [
      "{'title': 'Two minute their.', 'author': 'Rachel Bryant', 'about': 'Than develop game sport method word third car.', 'details': 'Bag usually shake crime adult hotel.', 'image': \"https://picsum.photos/['facebook']/320\", 'introduction': 'Still father process bit.', 'tags': ['knowledge', 'all', 'challenge', 'prepare'], 'thumbnail': \"https://placekitten.com/['facebook']/989\", 'art': 'them', 'classroom': ['Alexischester', 'Kathryntown', 'South Angela'], 'duration': 57, 'blogData': 'Mention sister what manager born between place.', 'date': '1975-08-03'}\n",
      "{'title': 'Economic sport.', 'author': 'Mark Smith', 'about': 'Catch would catch which list.', 'details': 'Draw yes give guy wall bill occur.', 'image': \"https://dummyimage.com/['facebook']x1001\", 'introduction': 'International reveal security top specific.', 'tags': ['thousand', 'citizen', 'hold'], 'thumbnail': \"https://dummyimage.com/['facebook']x641\", 'art': 'tonight', 'classroom': ['North Eileen', 'West Kimberlychester'], 'duration': 93, 'blogData': 'Today show reflect only eat miss right.', 'date': '2009-05-08'}\n",
      "{'title': 'Course member able.', 'author': 'Adam Martin', 'about': 'Shake range response film summer.', 'details': 'Feel paper detail have light player.', 'image': \"https://dummyimage.com/['facebook']x380\", 'introduction': 'Professor hot enough cause.', 'tags': ['company', 'quite', 'close', 'agree'], 'thumbnail': \"https://picsum.photos/['facebook']/179\", 'art': 'tonight', 'classroom': ['Lake Bryantown', 'East Tracy', 'South Brandon', 'West Steventown', 'Carlhaven'], 'duration': 94, 'blogData': 'Soldier coach ability call knowledge.', 'date': '1997-09-30'}\n",
      "{'title': 'Only six successful.', 'author': 'William Norris', 'about': 'Miss Mr role should strategy you.', 'details': 'Indeed hard technology six.', 'image': \"https://picsum.photos/['facebook']/432\", 'introduction': 'Why head maintain carry fact nor strong.', 'tags': ['would', 'professor', 'way', 'wide'], 'thumbnail': \"https://placekitten.com/['facebook']/27\", 'art': 'worry', 'classroom': ['Deborahberg', 'Ericside'], 'duration': 83, 'blogData': 'Run break opportunity church beat theory morning.', 'date': '1977-02-20'}\n",
      "{'title': 'Purpose parent test.', 'author': 'Zoe Thompson', 'about': 'Audience dinner true medical.', 'details': 'See morning theory speech now probably follow I.', 'image': \"https://placekitten.com/['facebook']/339\", 'introduction': 'Long once PM manager.', 'tags': ['such'], 'thumbnail': \"https://picsum.photos/['facebook']/454\", 'art': 'ok', 'classroom': ['Lake Jerryberg', 'North Michaelbury'], 'duration': 45, 'blogData': 'Put now attorney. She check lawyer return school.', 'date': '2016-08-03'}\n",
      "{'title': 'Car raise history.', 'author': 'Thomas Lee', 'about': 'Deep reflect similar TV turn identify chance.', 'details': 'Do many newspaper instead treat hear.', 'image': \"https://picsum.photos/['facebook']/83\", 'introduction': 'Born exist process on without knowledge evening.', 'tags': ['much', 'pass', 'the'], 'thumbnail': \"https://picsum.photos/['facebook']/269\", 'art': 'arm', 'classroom': ['Andersonland'], 'duration': 52, 'blogData': 'Seem choose partner war.', 'date': '2019-03-23'}\n",
      "{'title': 'Peace history own.', 'author': 'Andrea Turner', 'about': 'Account pressure between leg.', 'details': 'Three expect read performance official industry.', 'image': \"https://dummyimage.com/['facebook']x64\", 'introduction': 'Like picture score right move training.', 'tags': ['thought'], 'thumbnail': \"https://placekitten.com/['facebook']/969\", 'art': 'stuff', 'classroom': ['Julieland', 'Cervantesville'], 'duration': 31, 'blogData': 'Child but prove fight best.', 'date': '1996-04-12'}\n",
      "{'title': 'Tax college rule.', 'author': 'Kathleen Lee', 'about': 'Realize security course reflect choose.', 'details': 'Anyone everybody whose serve last kitchen key.', 'image': \"https://placekitten.com/['facebook']/831\", 'introduction': 'Him however win thing local.', 'tags': ['practice', 'kid'], 'thumbnail': \"https://placekitten.com/['facebook']/316\", 'art': 'company', 'classroom': ['Kevinville', 'Port Amberview', 'Hickmanburgh', 'Mcfarlandview'], 'duration': 33, 'blogData': 'Purpose leader response man explain fill bed.', 'date': '2015-01-27'}\n",
      "{'title': 'Door cold wife.', 'author': 'Mark Smith MD', 'about': 'Morning political kid wife.', 'details': 'Me court put. Total game forget memory.', 'image': \"https://dummyimage.com/['facebook']x46\", 'introduction': 'Peace letter benefit.', 'tags': ['collection', 'themselves'], 'thumbnail': \"https://placekitten.com/['facebook']/497\", 'art': 'record', 'classroom': ['Port Chelsea', 'Victoriaview', 'Lake Michael', 'West William', 'West Joelside'], 'duration': 54, 'blogData': 'Among item about yeah upon well.', 'date': '1991-09-06'}\n",
      "{'title': 'Current yeah clear.', 'author': 'Heidi Smith', 'about': 'Else ahead who job sign just effect.', 'details': 'Practice rest necessary watch woman talk.', 'image': \"https://picsum.photos/['facebook']/399\", 'introduction': 'Section discussion charge test scientist.', 'tags': ['me', 'process'], 'thumbnail': \"https://dummyimage.com/['facebook']x260\", 'art': 'here', 'classroom': ['Frazierhaven', 'Arnoldmouth', 'Amandashire'], 'duration': 36, 'blogData': 'I necessary artist level rather bar probably.', 'date': '2002-01-07'}\n",
      "{'title': 'Agree matter.', 'author': 'Brandi Powers', 'about': 'Card fear food thing product hit.', 'details': 'Charge drop impact drop allow education likely.', 'image': \"https://picsum.photos/['facebook']/987\", 'introduction': 'Vote determine evidence.', 'tags': ['chance', 'prevent', 'there', 'strategy', 'peace'], 'thumbnail': \"https://dummyimage.com/['facebook']x181\", 'art': 'treatment', 'classroom': ['South Shelleychester'], 'duration': 79, 'blogData': 'Threat eat skin growth western right.', 'date': '1982-10-28'}\n",
      "{'title': 'Small better term.', 'author': 'Adam Berry', 'about': 'Sell foreign simple appear.', 'details': 'Military daughter particularly apply court.', 'image': \"https://picsum.photos/['facebook']/503\", 'introduction': 'Herself nor moment visit seem until democratic.', 'tags': ['movie', 'whose', 'visit'], 'thumbnail': \"https://picsum.photos/['facebook']/424\", 'art': 'ability', 'classroom': ['Port Deanchester', 'West Christopher', 'New Jonathan'], 'duration': 31, 'blogData': 'Appear adult likely six total.', 'date': '1996-10-24'}\n",
      "{'title': 'Night become want.', 'author': 'Gary Johnson', 'about': 'Kind painting government information left.', 'details': 'Successful into but international.', 'image': \"https://placekitten.com/['facebook']/871\", 'introduction': 'Why million say.', 'tags': ['alone', 'real', 'trip'], 'thumbnail': \"https://picsum.photos/['facebook']/412\", 'art': 'north', 'classroom': ['Brittanymouth'], 'duration': 85, 'blogData': 'Why beyond they discussion hot think very.', 'date': '1997-11-19'}\n",
      "{'title': 'One else half lot.', 'author': 'David Diaz', 'about': 'Movie soldier brother step.', 'details': 'Statement national thought strategy.', 'image': \"https://placekitten.com/['facebook']/33\", 'introduction': 'Fill get economic conference nothing than class.', 'tags': ['common', 'ever'], 'thumbnail': \"https://picsum.photos/['facebook']/496\", 'art': 'his', 'classroom': ['Ramirezstad', 'West Jacquelineburgh', 'Collinstown', 'New Stephaniechester'], 'duration': 22, 'blogData': 'Player travel ten ever serve marriage maintain.', 'date': '2021-04-01'}\n",
      "{'title': 'Look board green.', 'author': 'Stephanie Weiss', 'about': 'Bill sometimes able person picture will large.', 'details': 'Traditional surface evening lay beyond shoulder.', 'image': \"https://placekitten.com/['facebook']/634\", 'introduction': 'A stop someone and.', 'tags': ['front', 'talk', 'fact', 'establish', 'cell'], 'thumbnail': \"https://picsum.photos/['facebook']/515\", 'art': 'language', 'classroom': ['New Jessicatown', 'Ericshire', 'Leberg', 'Amandaburgh'], 'duration': 70, 'blogData': 'Something hot hot building suffer animal add.', 'date': '2020-10-07'}\n",
      "{'title': 'Another prevent.', 'author': 'Janice Torres', 'about': 'Week would feel image maintain clearly town.', 'details': 'Surface trial lot soon own official black.', 'image': \"https://dummyimage.com/['facebook']x820\", 'introduction': 'Food security political certain.', 'tags': ['one', 'behavior'], 'thumbnail': \"https://picsum.photos/['facebook']/206\", 'art': 'media', 'classroom': ['North Christian', 'West Adam', 'Brittanychester'], 'duration': 7, 'blogData': 'Different kid generation follow floor bar.', 'date': '2010-02-09'}\n",
      "{'title': 'Newspaper easy man.', 'author': 'Danielle Webb', 'about': 'Fight force answer fight door have.', 'details': 'Pm compare visit per protect manager.', 'image': \"https://placekitten.com/['facebook']/468\", 'introduction': 'Idea read available almost available.', 'tags': ['worry', 'peace', 'morning', 'then'], 'thumbnail': \"https://dummyimage.com/['facebook']x698\", 'art': 'skill', 'classroom': ['East Alyssamouth', 'Port Steven'], 'duration': 53, 'blogData': 'Business Democrat town threat follow.', 'date': '2021-08-24'}\n",
      "{'title': 'Player machine bed.', 'author': 'Cynthia Walker', 'about': 'Collection gas training which science.', 'details': 'Gun probably either build table loss account.', 'image': \"https://picsum.photos/['facebook']/672\", 'introduction': 'Reduce involve suddenly never week tough.', 'tags': ['fear'], 'thumbnail': \"https://dummyimage.com/['facebook']x88\", 'art': 'item', 'classroom': ['Gibsonburgh', 'Tonychester', 'East Michellechester'], 'duration': 82, 'blogData': 'Show top house my. Early some fill support.', 'date': '2022-01-02'}\n",
      "{'title': 'Time group rise.', 'author': 'Lawrence Lopez', 'about': 'Contain go main four surface actually.', 'details': 'Recent top always per meeting religious help add.', 'image': \"https://placekitten.com/['facebook']/1021\", 'introduction': 'Other still night hot.', 'tags': ['your', 'onto', 'receive', 'mission', 'service'], 'thumbnail': \"https://picsum.photos/['facebook']/638\", 'art': 'treatment', 'classroom': ['East Gail', 'Shaneview'], 'duration': 96, 'blogData': 'Entire eat Mr mission defense interesting tell.', 'date': '1990-01-19'}\n",
      "{'title': 'Decade budget name.', 'author': 'Donald Bradshaw', 'about': 'Half kind might different realize.', 'details': 'Consumer bring land culture.', 'image': \"https://picsum.photos/['facebook']/337\", 'introduction': 'Necessary between old hit.', 'tags': ['sure', 'five', 'cold'], 'thumbnail': \"https://dummyimage.com/['facebook']x165\", 'art': 'next', 'classroom': ['Port Linda', 'Port Garystad'], 'duration': 47, 'blogData': 'We rise most political may itself.', 'date': '2014-08-03'}\n",
      "{'title': 'Garden event happy.', 'author': 'Kimberly Johnson', 'about': 'Project you bag Congress choose public painting.', 'details': 'Girl interest ability floor style. Six guess kid.', 'image': \"https://dummyimage.com/['facebook']x734\", 'introduction': 'Major reach look film forget.', 'tags': ['hotel', 'section', 'peace', 'similar', 'appear'], 'thumbnail': \"https://placekitten.com/['facebook']/385\", 'art': 'through', 'classroom': ['North Brianna', 'East Samuel', 'Port Jennifer', 'Port Davidmouth'], 'duration': 14, 'blogData': 'Around team none stop onto court.', 'date': '2001-05-25'}\n",
      "{'title': 'Yes never next.', 'author': 'Sarah Andrews', 'about': 'Prevent culture act loss fear discussion.', 'details': 'Deep capital play account wide.', 'image': \"https://dummyimage.com/['facebook']x861\", 'introduction': 'Star sell dog family make trouble.', 'tags': ['contain', 'rule', 'appear', 'catch'], 'thumbnail': \"https://placekitten.com/['facebook']/638\", 'art': 'total', 'classroom': ['Lake Williamfurt', 'South Rebecca', 'East Davidstad'], 'duration': 50, 'blogData': 'From cultural stuff player expert central couple.', 'date': '2008-03-04'}\n",
      "{'title': 'Contain collection.', 'author': 'Morgan Wilson', 'about': 'Science around party safe dog clearly.', 'details': 'Future treat power little class new health.', 'image': \"https://placekitten.com/['facebook']/699\", 'introduction': 'Defense product we leg level so.', 'tags': ['record', 'office', 'wind', 'garden'], 'thumbnail': \"https://placekitten.com/['facebook']/110\", 'art': 'memory', 'classroom': ['Mitchellport'], 'duration': 22, 'blogData': 'Again same cut trip.', 'date': '2022-10-29'}\n",
      "{'title': 'Nature very leg.', 'author': 'Angela Miller', 'about': 'Project area change notice director.', 'details': 'Push forget into place decade note product last.', 'image': \"https://placekitten.com/['facebook']/404\", 'introduction': 'Man magazine control who song.', 'tags': ['movie', 'series', 'each'], 'thumbnail': \"https://placekitten.com/['facebook']/830\", 'art': 'which', 'classroom': ['Chadchester', 'Port Lisafurt', 'Lewisburgh', 'Liuberg', 'West Brianbury'], 'duration': 6, 'blogData': 'Nor show leave word.', 'date': '2012-07-19'}\n",
      "{'title': 'Life give even.', 'author': 'Eric Thompson', 'about': 'Year in sing believe. Avoid Mrs threat.', 'details': 'Whatever enjoy never likely rest event spend.', 'image': \"https://placekitten.com/['facebook']/127\", 'introduction': 'Agent million top. Cause reveal else couple.', 'tags': ['size', 'us', 'piece', 'perform', 'sell'], 'thumbnail': \"https://picsum.photos/['facebook']/71\", 'art': 'safe', 'classroom': ['Amandabury'], 'duration': 21, 'blogData': 'Weight occur second fire.', 'date': '1997-12-21'}\n",
      "{'title': 'Away quality around.', 'author': 'Eric Bird', 'about': 'None network in.', 'details': 'On everything word traditional sister reason.', 'image': \"https://picsum.photos/['facebook']/99\", 'introduction': 'Line make thousand current to consider.', 'tags': ['including', 'market'], 'thumbnail': \"https://picsum.photos/['facebook']/183\", 'art': 'quality', 'classroom': ['Stephensonfurt'], 'duration': 79, 'blogData': 'Offer pull discover mission method.', 'date': '1986-08-02'}\n",
      "{'title': 'She end available.', 'author': 'Edward Ayers', 'about': 'Music movie fine door together even similar.', 'details': 'Always it cell.', 'image': \"https://dummyimage.com/['facebook']x286\", 'introduction': 'Fish student data fly service.', 'tags': ['almost', 'form', 'within', 'his'], 'thumbnail': \"https://placekitten.com/['facebook']/294\", 'art': 'economy', 'classroom': ['Lewisville', 'Hernandezview', 'Lesliehaven'], 'duration': 59, 'blogData': 'New after listen world friend kid.', 'date': '2011-08-04'}\n",
      "{'title': 'Hour learn Mrs.', 'author': 'Madison Cook', 'about': 'Clear control it student do.', 'details': 'Hot human allow best no week.', 'image': \"https://dummyimage.com/['facebook']x23\", 'introduction': 'Eat item build protect adult wide.', 'tags': ['your', 'low', 'set'], 'thumbnail': \"https://picsum.photos/['facebook']/365\", 'art': 'watch', 'classroom': ['Donnaton', 'Jamesview'], 'duration': 1, 'blogData': 'Hope yourself us member need generation involve.', 'date': '2023-08-29'}\n",
      "{'title': 'Level drive fund.', 'author': 'Michele Winters', 'about': 'Vote property guy really there task process.', 'details': 'During human student sit.', 'image': \"https://placekitten.com/['facebook']/168\", 'introduction': 'Alone take total mission.', 'tags': ['note', 'various', 'student'], 'thumbnail': \"https://placekitten.com/['facebook']/429\", 'art': 'look', 'classroom': ['North John', 'Williamsbury', 'Port Patricia', 'Samanthamouth'], 'duration': 46, 'blogData': 'Place consumer impact show.', 'date': '2005-05-08'}\n",
      "{'title': 'Personal establish.', 'author': 'Kyle Brady', 'about': 'Court middle beautiful your even structure plant.', 'details': 'Debate offer onto.', 'image': \"https://dummyimage.com/['facebook']x245\", 'introduction': 'Per consumer public none despite.', 'tags': ['now', 'candidate', 'meet'], 'thumbnail': \"https://picsum.photos/['facebook']/631\", 'art': 'lot', 'classroom': ['Kellyshire', 'Port Karenfort', 'Andrewland', 'Powellstad', 'New Karenmouth'], 'duration': 49, 'blogData': 'Nice public party case size place everyone.', 'date': '2023-09-12'}\n",
      "{'title': 'Sort second dark.', 'author': 'Rachel Cross', 'about': 'Size increase take.', 'details': 'Type try box effort.', 'image': \"https://placekitten.com/['facebook']/690\", 'introduction': 'Point young whatever season.', 'tags': ['PM', 'manage', 'would', 'enter', 'international'], 'thumbnail': \"https://dummyimage.com/['facebook']x495\", 'art': 'particular', 'classroom': ['Rickyport', 'Washingtonburgh', 'Rhondachester', 'Jessicaview', 'East Edgarland'], 'duration': 31, 'blogData': 'Order myself summer through film.', 'date': '1971-01-22'}\n",
      "{'title': 'Sign hour life.', 'author': 'Melanie Robinson', 'about': 'Would become himself year morning nice oil.', 'details': 'Create couple move ago stop whose poor.', 'image': \"https://dummyimage.com/['facebook']x608\", 'introduction': 'Science save ask everyone question wife probably.', 'tags': ['red'], 'thumbnail': \"https://dummyimage.com/['facebook']x244\", 'art': 'commercial', 'classroom': ['Solomonbury'], 'duration': 32, 'blogData': 'Question necessary sell its.', 'date': '2019-12-19'}\n",
      "{'title': 'Stand provide.', 'author': 'Heather Benton', 'about': 'Leg traditional seat.', 'details': 'View again town. Ten our PM wear.', 'image': \"https://placekitten.com/['facebook']/849\", 'introduction': 'Reflect such threat especially marriage.', 'tags': ['quickly', 'this', 'left', 'better', 'much'], 'thumbnail': \"https://dummyimage.com/['facebook']x520\", 'art': 'property', 'classroom': ['Rasmussenshire', 'North Markbury', 'South Shannonfort', 'Brownfort'], 'duration': 60, 'blogData': 'Manager put politics.', 'date': '1999-02-21'}\n",
      "{'title': 'Positive across.', 'author': 'Justin Fischer', 'about': 'Middle civil worry perform move.', 'details': 'Ago Congress risk. Report religious south rule.', 'image': \"https://picsum.photos/['facebook']/165\", 'introduction': 'Friend meeting financial bill when including.', 'tags': ['perform'], 'thumbnail': \"https://dummyimage.com/['facebook']x447\", 'art': 'off', 'classroom': ['Port Kristopher', 'South Amyshire', 'Garciamouth', 'West Laurenfurt'], 'duration': 39, 'blogData': 'Three collection and base feel thing.', 'date': '2006-02-22'}\n",
      "{'title': 'Hold new onto today.', 'author': 'Jane Montoya', 'about': 'None dinner professor adult language.', 'details': 'Note success ten cut include.', 'image': \"https://picsum.photos/['facebook']/149\", 'introduction': 'Audience than anyone.', 'tags': ['present', 'play'], 'thumbnail': \"https://placekitten.com/['facebook']/596\", 'art': 'hand', 'classroom': ['Collinsfort', 'Melaniemouth', 'Alyssatown', 'Cassandraville', 'Thompsonview'], 'duration': 18, 'blogData': 'Back population certainly.', 'date': '2017-11-24'}\n",
      "{'title': 'Oil economic truth.', 'author': 'Jennifer Hall', 'about': 'Coach service suffer garden about.', 'details': 'Reveal next drop argue.', 'image': \"https://placekitten.com/['facebook']/108\", 'introduction': 'Fear employee wait small their.', 'tags': ['sign', 'by', 'indicate'], 'thumbnail': \"https://dummyimage.com/['facebook']x822\", 'art': 'skin', 'classroom': ['Rochaburgh', 'Walkershire', 'South Debramouth', 'Friedmantown'], 'duration': 25, 'blogData': 'Off kid race. Find quite often accept growth.', 'date': '2020-05-02'}\n",
      "{'title': 'Company street hand.', 'author': 'Sarah Farrell', 'about': 'Every try sign production say.', 'details': 'Exactly window talk anything sea.', 'image': \"https://picsum.photos/['facebook']/172\", 'introduction': 'Alone whether network prepare hit at.', 'tags': ['media', 'interest'], 'thumbnail': \"https://picsum.photos/['facebook']/541\", 'art': 'structure', 'classroom': ['Port Susanmouth', 'Fletcherton', 'East Andrea'], 'duration': 79, 'blogData': 'Seat process catch political.', 'date': '1997-10-18'}\n",
      "{'title': 'Strong show.', 'author': 'Henry Adkins', 'about': 'Meet north store exist.', 'details': 'Far measure data believe.', 'image': \"https://picsum.photos/['facebook']/232\", 'introduction': 'Finish shoulder yard.', 'tags': ['degree', 'risk', 'save'], 'thumbnail': \"https://placekitten.com/['facebook']/822\", 'art': 'significant', 'classroom': ['Tonyland', 'South Mallorymouth', 'New Kevin', 'Lake Andrewberg', 'Lynnbury'], 'duration': 60, 'blogData': 'Especially style class expert report.', 'date': '1979-10-02'}\n",
      "{'title': 'Anyone human.', 'author': 'April Higgins', 'about': 'Suggest property two lead fly deep relate.', 'details': 'Require pass or particularly whom any work.', 'image': \"https://dummyimage.com/['facebook']x135\", 'introduction': 'Democratic where pass that reflect girl.', 'tags': ['position', 'near'], 'thumbnail': \"https://dummyimage.com/['facebook']x496\", 'art': 'want', 'classroom': ['West Christineside', 'New Joseph', 'Harperport', 'Alexanderland'], 'duration': 86, 'blogData': 'War see about.', 'date': '2001-08-09'}\n",
      "{'title': 'Result remain here.', 'author': 'Jeffery Gentry', 'about': 'Fear lose cover rest surface quickly.', 'details': 'Station natural adult so girl.', 'image': \"https://picsum.photos/['facebook']/639\", 'introduction': 'Two from study can agent.', 'tags': ['mouth', 'stock', 'perhaps', 'successful'], 'thumbnail': \"https://dummyimage.com/['facebook']x388\", 'art': 'become', 'classroom': ['New Curtis', 'South Heather', 'Paulaburgh', 'New Paulside'], 'duration': 21, 'blogData': 'Pull to voice nothing boy however.', 'date': '2007-12-23'}\n",
      "{'title': 'Mind effect return.', 'author': 'Laurie Hughes', 'about': 'Job market read bed important case.', 'details': 'Good any easy memory. Card end religious say buy.', 'image': \"https://dummyimage.com/['facebook']x351\", 'introduction': 'Fact seek sport cost case system sign any.', 'tags': ['from', 'money', 'smile', 'hour', 'guess'], 'thumbnail': \"https://placekitten.com/['facebook']/212\", 'art': 'pass', 'classroom': ['New Scottland', 'Joanneview', 'Lake Thomas', 'Port Glenton', 'Lake Tracy'], 'duration': 40, 'blogData': 'Place could run under increase.', 'date': '1999-02-17'}\n",
      "{'title': 'Shake again.', 'author': 'Denise Thomas', 'about': 'Detail allow budget hotel big media air.', 'details': 'Perform south human support claim friend wall.', 'image': \"https://dummyimage.com/['facebook']x328\", 'introduction': 'Board lot leave.', 'tags': ['study'], 'thumbnail': \"https://placekitten.com/['facebook']/375\", 'art': 'Democrat', 'classroom': ['Beckside', 'Adamshaven'], 'duration': 5, 'blogData': 'Care modern beat true floor body organization.', 'date': '2006-10-25'}\n",
      "{'title': 'Avoid mother.', 'author': 'Sonya Olsen', 'about': 'Name argue day most catch similar.', 'details': 'Surface contain finish herself win wear hope.', 'image': \"https://dummyimage.com/['facebook']x297\", 'introduction': 'Five argue will world this idea late.', 'tags': ['west', 'dinner', 'task'], 'thumbnail': \"https://picsum.photos/['facebook']/567\", 'art': 'position', 'classroom': ['New Melissa', 'Port Stephanie', 'Holmesland', 'Waltonland'], 'duration': 60, 'blogData': 'Very challenge also ago.', 'date': '2014-07-26'}\n",
      "{'title': 'Glass society city.', 'author': 'Leslie Maynard', 'about': 'Employee he fight staff. We pretty skin sell.', 'details': 'Exist industry reason interesting again.', 'image': \"https://picsum.photos/['facebook']/977\", 'introduction': 'Guess subject member commercial letter.', 'tags': ['still', 'throughout', 'state'], 'thumbnail': \"https://picsum.photos/['facebook']/290\", 'art': 'among', 'classroom': ['New Andremouth', 'New Amyville', 'Port Trevorville', 'North Amber', 'Rosebury'], 'duration': 73, 'blogData': 'None north area.', 'date': '2009-12-25'}\n",
      "{'title': 'Building member.', 'author': 'Tara Patterson', 'about': 'Card modern star series eight beautiful would.', 'details': 'World likely close learn customer.', 'image': \"https://dummyimage.com/['facebook']x368\", 'introduction': 'Really good occur.', 'tags': ['likely', 'choose', 'benefit', 'relate'], 'thumbnail': \"https://placekitten.com/['facebook']/886\", 'art': 'argue', 'classroom': ['New Robert', 'Johnsonshire'], 'duration': 43, 'blogData': 'Lot memory protect cause probably.', 'date': '1990-07-10'}\n",
      "{'title': 'Size vote present.', 'author': 'Stephanie Beck', 'about': 'Life popular could base.', 'details': 'Serve hear growth natural nothing.', 'image': \"https://dummyimage.com/['facebook']x775\", 'introduction': 'Main start old know nation.', 'tags': ['may'], 'thumbnail': \"https://dummyimage.com/['facebook']x226\", 'art': 'girl', 'classroom': ['West Julieburgh', 'South Karenmouth'], 'duration': 13, 'blogData': 'According card which understand skin.', 'date': '2002-06-02'}\n",
      "{'title': 'Price ever imagine.', 'author': 'Cory Rosario', 'about': 'Drop but issue wide. Pass ask research size.', 'details': 'Record accept catch say.', 'image': \"https://picsum.photos/['facebook']/429\", 'introduction': 'Field among Democrat million share few.', 'tags': ['century', 'forget'], 'thumbnail': \"https://picsum.photos/['facebook']/458\", 'art': 'pay', 'classroom': ['Hughesview', 'Angelaburgh', 'West Cassidy', 'West Shawnmouth', 'New April'], 'duration': 25, 'blogData': 'World goal create pressure. Style white poor.', 'date': '1972-12-18'}\n",
      "{'title': 'Star instead lose.', 'author': 'Victoria Berg', 'about': 'Charge world possible watch probably give.', 'details': 'Mother new behavior let develop during modern.', 'image': \"https://placekitten.com/['facebook']/740\", 'introduction': 'Star voice painting. Soon with impact.', 'tags': ['back', 'wait', 'yourself'], 'thumbnail': \"https://picsum.photos/['facebook']/212\", 'art': 'suddenly', 'classroom': ['Pamelahaven'], 'duration': 25, 'blogData': 'Almost blue final choose. Itself hard myself.', 'date': '2019-08-10'}\n",
      "{'title': 'However fund bed.', 'author': 'Kyle Meza', 'about': 'Peace suggest military imagine.', 'details': 'Threat radio born letter language spring.', 'image': \"https://dummyimage.com/['facebook']x680\", 'introduction': 'Everything throughout few attorney within show.', 'tags': ['spring', 'window'], 'thumbnail': \"https://dummyimage.com/['facebook']x491\", 'art': 'drive', 'classroom': ['Ronaldport'], 'duration': 12, 'blogData': 'Happen hand by focus serve nice site.', 'date': '1985-07-06'}\n",
      "{'title': 'Collection.', 'author': 'Stephanie Walker', 'about': 'Husband government decide relate hotel.', 'details': 'Whole join almost expect sense.', 'image': \"https://dummyimage.com/['facebook']x676\", 'introduction': 'Tough western right star firm.', 'tags': ['speak', 'ask'], 'thumbnail': \"https://picsum.photos/['facebook']/219\", 'art': 'relationship', 'classroom': ['Lake Garyberg', 'West Erin', 'South Stephenfort', 'Dorseychester'], 'duration': 96, 'blogData': 'Do discuss discover you information.', 'date': '2009-03-22'}\n",
      "{'title': 'Knowledge gas move.', 'author': 'William Rice MD', 'about': 'Become play worry officer.', 'details': 'Fast off method way western.', 'image': \"https://picsum.photos/['facebook']/683\", 'introduction': 'Teach gun face indicate local and alone.', 'tags': ['account', 'page', 'life', 'but'], 'thumbnail': \"https://picsum.photos/['facebook']/261\", 'art': 'capital', 'classroom': ['East Gregory'], 'duration': 33, 'blogData': 'Soon line eye have.', 'date': '2014-12-02'}\n",
      "{'title': 'Heavy southern.', 'author': 'Curtis Diaz', 'about': 'List sell usually. Piece although travel garden.', 'details': 'No nothing reveal toward budget western phone.', 'image': \"https://picsum.photos/['facebook']/516\", 'introduction': 'Realize option technology drive defense no.', 'tags': ['including', 'successful'], 'thumbnail': \"https://picsum.photos/['facebook']/1021\", 'art': 'really', 'classroom': ['Hooverchester', 'Williamsberg', 'Briannaton', 'North Brittney'], 'duration': 62, 'blogData': 'Energy ball second. Unit watch life better.', 'date': '1970-08-18'}\n",
      "{'title': 'Nothing offer.', 'author': 'Cindy Villegas', 'about': 'Good just new career majority economic.', 'details': 'Safe right analysis baby American.', 'image': \"https://dummyimage.com/['facebook']x550\", 'introduction': 'Soon positive enter. Agent create actually.', 'tags': ['rise', 'table'], 'thumbnail': \"https://picsum.photos/['facebook']/648\", 'art': 'quickly', 'classroom': ['West Heidi'], 'duration': 71, 'blogData': 'Any maintain space represent.', 'date': '2016-08-14'}\n",
      "{'title': 'Measure girl push.', 'author': 'Jason Torres', 'about': 'Despite page hotel subject huge southern writer.', 'details': 'Pull particular those wind new difficult money.', 'image': \"https://placekitten.com/['facebook']/92\", 'introduction': 'Camera late white. And any job new.', 'tags': ['list', 'author', 'foreign', 'consider'], 'thumbnail': \"https://placekitten.com/['facebook']/719\", 'art': 'stuff', 'classroom': ['Lake Sharonberg', 'Lorimouth', 'Staceymouth'], 'duration': 64, 'blogData': 'Population authority buy.', 'date': '1989-11-21'}\n",
      "{'title': 'Space office miss.', 'author': 'Justin Hardy', 'about': 'Foreign speech require right.', 'details': 'Stuff film current difficult everything.', 'image': \"https://placekitten.com/['facebook']/913\", 'introduction': 'Require country social public issue price.', 'tags': ['call'], 'thumbnail': \"https://placekitten.com/['facebook']/486\", 'art': 'heart', 'classroom': ['Hubbardland', 'New Kristina'], 'duration': 42, 'blogData': 'Nature care decade. Red smile house.', 'date': '1972-07-25'}\n",
      "{'title': 'General blue.', 'author': 'William Caldwell', 'about': 'Occur that arrive really discuss sometimes unit.', 'details': 'Me threat born field base.', 'image': \"https://placekitten.com/['facebook']/779\", 'introduction': 'Light north speak rather pressure war next.', 'tags': ['political', 'coach', 'cut', 'dream'], 'thumbnail': \"https://placekitten.com/['facebook']/115\", 'art': 'end', 'classroom': ['Zacharymouth', 'Lake Lisa'], 'duration': 84, 'blogData': 'Medical enough you laugh fire physical avoid.', 'date': '2011-04-04'}\n",
      "{'title': 'Majority recognize.', 'author': 'Jeffrey Valenzuela', 'about': 'State protect standard movement protect base his.', 'details': 'Past skin southern its trial live build his.', 'image': \"https://placekitten.com/['facebook']/341\", 'introduction': 'Building activity interview activity bag.', 'tags': ['card'], 'thumbnail': \"https://placekitten.com/['facebook']/236\", 'art': 'stock', 'classroom': ['North Maria', 'North Sierraport', 'Morrisside'], 'duration': 4, 'blogData': 'Ability follow dream then determine official.', 'date': '2007-11-27'}\n",
      "{'title': 'Remain message.', 'author': 'Barbara Dennis', 'about': 'Budget go mother pressure onto.', 'details': 'Today experience none building.', 'image': \"https://dummyimage.com/['facebook']x673\", 'introduction': 'Shoulder under provide question per learn.', 'tags': ['professor', 'machine', 'item', 'she'], 'thumbnail': \"https://dummyimage.com/['facebook']x847\", 'art': 'magazine', 'classroom': ['Ortizberg', 'South Susanborough', 'Lake Tammy', 'Jaclyntown', 'Garyport'], 'duration': 66, 'blogData': 'Image side of ball instead of.', 'date': '1978-11-15'}\n",
      "{'title': 'Gun through tough.', 'author': 'Virginia West', 'about': 'Charge front these dark eye.', 'details': 'Who face ten traditional example recent kind.', 'image': \"https://picsum.photos/['facebook']/549\", 'introduction': 'North produce put gun arrive cause inside.', 'tags': ['only', 'cold'], 'thumbnail': \"https://dummyimage.com/['facebook']x969\", 'art': 'present', 'classroom': ['New Margarethaven', 'Lake Jeffrey', 'South Robert', 'East Jennifer'], 'duration': 14, 'blogData': 'Raise section I medical.', 'date': '2018-02-24'}\n",
      "{'title': 'Spring term power.', 'author': 'William Reyes', 'about': 'News wind worry pattern southern.', 'details': 'Mouth well heart three box national game.', 'image': \"https://dummyimage.com/['facebook']x940\", 'introduction': 'To hotel material figure food than.', 'tags': ['place', 'hot'], 'thumbnail': \"https://dummyimage.com/['facebook']x878\", 'art': 'mother', 'classroom': ['Stevenport', 'Nguyenfurt'], 'duration': 81, 'blogData': 'Degree wide because.', 'date': '1993-03-01'}\n",
      "{'title': 'Mission can be.', 'author': 'Jacob Chase', 'about': 'Nothing walk realize individual citizen.', 'details': 'Southern say effect against.', 'image': \"https://dummyimage.com/['facebook']x702\", 'introduction': 'Foot decade history floor eye discuss decision.', 'tags': ['surface'], 'thumbnail': \"https://dummyimage.com/['facebook']x595\", 'art': 'answer', 'classroom': ['Benjaminland', 'Vanessatown', 'Williamburgh', 'Larrymouth', 'Cynthiaberg'], 'duration': 54, 'blogData': 'Else authority also however avoid would though.', 'date': '1975-11-14'}\n",
      "{'title': 'Food without check.', 'author': 'Andrea Ramos', 'about': 'Song scientist type owner threat old plant rise.', 'details': 'Wait actually him mission those.', 'image': \"https://dummyimage.com/['facebook']x52\", 'introduction': 'Goal chance green such kid maintain bag.', 'tags': ['green'], 'thumbnail': \"https://dummyimage.com/['facebook']x225\", 'art': 'food', 'classroom': ['Veronicaberg', 'West Paula'], 'duration': 51, 'blogData': 'Above somebody great service approach.', 'date': '1974-03-07'}\n",
      "{'title': 'Degree four force.', 'author': 'Kevin Allen', 'about': 'Woman effect six ball Democrat painting value.', 'details': 'Choose decision seven exactly dream.', 'image': \"https://picsum.photos/['facebook']/171\", 'introduction': 'Sure ago figure seek minute think must face.', 'tags': ['require', 'window', 'exist', 'be'], 'thumbnail': \"https://dummyimage.com/['facebook']x445\", 'art': 'agreement', 'classroom': ['Andrewland', 'Lake Maryton'], 'duration': 82, 'blogData': 'Moment skill less idea goal manager.', 'date': '2010-12-03'}\n",
      "{'title': 'Suddenly role.', 'author': 'Angela Davis', 'about': 'Blue rather among four participant smile.', 'details': 'Morning speak process. Lot add like high compare.', 'image': \"https://picsum.photos/['facebook']/176\", 'introduction': 'Ever throw dream prepare simply.', 'tags': ['maybe', 'do', 'whole', 'box'], 'thumbnail': \"https://picsum.photos/['facebook']/204\", 'art': 'responsibility', 'classroom': ['Brianfort', 'Brandonton', 'Lisafort', 'Courtneyfurt'], 'duration': 80, 'blogData': 'Determine camera more player.', 'date': '2018-12-04'}\n",
      "{'title': 'Partner poor.', 'author': 'Stacy Valdez', 'about': 'Go type data long child behind.', 'details': 'Identify fly eye finally would firm peace.', 'image': \"https://placekitten.com/['facebook']/174\", 'introduction': 'Professor environmental knowledge.', 'tags': ['week'], 'thumbnail': \"https://dummyimage.com/['facebook']x7\", 'art': 'stop', 'classroom': ['Williebury'], 'duration': 13, 'blogData': 'Tax should stand establish process people trip.', 'date': '1979-04-12'}\n",
      "{'title': 'Local truth.', 'author': 'Amy Torres', 'about': 'Special country clear choose method.', 'details': 'Until agent ok capital together.', 'image': \"https://placekitten.com/['facebook']/612\", 'introduction': 'She guy buy certain likely day mouth.', 'tags': ['cost', 'large', 'democratic', 'population', 'political'], 'thumbnail': \"https://placekitten.com/['facebook']/381\", 'art': 'participant', 'classroom': ['South Samanthaberg', 'West Alexander'], 'duration': 25, 'blogData': 'War people total. Social another religious fine.', 'date': '2002-12-28'}\n",
      "{'title': 'Would he get strong.', 'author': 'Kaitlin Wilson', 'about': 'Eat especially seat if indeed.', 'details': 'Rise perform theory center develop.', 'image': \"https://picsum.photos/['facebook']/15\", 'introduction': 'Yeah cost look style too picture.', 'tags': ['build', 'over', 'foreign', 'me'], 'thumbnail': \"https://placekitten.com/['facebook']/334\", 'art': 'guess', 'classroom': ['Lake Tammy', 'Maryton'], 'duration': 25, 'blogData': 'Responsibility over morning test subject.', 'date': '2023-06-29'}\n",
      "{'title': 'International.', 'author': 'Heidi Christensen', 'about': 'Democrat order news watch address different.', 'details': 'Less tree write management if out role.', 'image': \"https://placekitten.com/['facebook']/30\", 'introduction': 'Professor eat miss rate language music national.', 'tags': ['speech', 'example', 'environment'], 'thumbnail': \"https://dummyimage.com/['facebook']x746\", 'art': 'spend', 'classroom': ['Shannonfort', 'Whiteberg', 'Garciafurt'], 'duration': 5, 'blogData': 'Crime that person cut choose.', 'date': '1979-01-30'}\n",
      "{'title': 'Shoulder million.', 'author': 'Christopher Hayes', 'about': 'Risk rock test far best arrive on artist.', 'details': 'Significant it worker both.', 'image': \"https://dummyimage.com/['facebook']x1003\", 'introduction': 'Visit experience space face voice itself.', 'tags': ['everybody', 'wear', 'five'], 'thumbnail': \"https://dummyimage.com/['facebook']x509\", 'art': 'of', 'classroom': ['Lake Peggy', 'New Daniel'], 'duration': 67, 'blogData': 'Development that enough maybe couple middle.', 'date': '1992-08-01'}\n",
      "{'title': 'Artist everything.', 'author': 'Keith Garcia', 'about': 'Game while ever bad beat modern.', 'details': 'Fall factor campaign reality idea.', 'image': \"https://placekitten.com/['facebook']/821\", 'introduction': 'Opportunity successful like foreign executive.', 'tags': ['nation', 'care', 'author'], 'thumbnail': \"https://placekitten.com/['facebook']/460\", 'art': 'bring', 'classroom': ['Lake Andrewside'], 'duration': 61, 'blogData': 'Cultural law director suddenly rather court hand.', 'date': '1980-04-11'}\n",
      "{'title': 'Describe nice.', 'author': 'Carrie Morales', 'about': 'Require staff friend dinner charge increase near.', 'details': 'Water concern budget happy ago.', 'image': \"https://picsum.photos/['facebook']/246\", 'introduction': 'Certainly foreign major item.', 'tags': ['none', 'car'], 'thumbnail': \"https://dummyimage.com/['facebook']x641\", 'art': 'near', 'classroom': ['Jenniferburgh', 'North Davidfurt', 'Lewismouth'], 'duration': 47, 'blogData': 'Smile near chair candidate scientist seek.', 'date': '2016-07-19'}\n",
      "{'title': 'Learn visit well.', 'author': 'Robert Flores', 'about': 'Tough single reduce huge treatment.', 'details': 'Model eight within traditional cell assume.', 'image': \"https://picsum.photos/['facebook']/954\", 'introduction': 'Safe lose camera environmental yes will so.', 'tags': ['work', 'its', 'focus'], 'thumbnail': \"https://picsum.photos/['facebook']/301\", 'art': 'sign', 'classroom': ['West Andrewville'], 'duration': 92, 'blogData': 'Piece number matter sound wife step itself.', 'date': '1994-07-05'}\n",
      "{'title': 'Forward throw.', 'author': 'Margaret Ortega', 'about': 'Get attorney include home your quite no.', 'details': 'Customer entire always movie seem me hear.', 'image': \"https://placekitten.com/['facebook']/758\", 'introduction': 'Writer law grow drug almost less.', 'tags': ['president', 'section', 'hear', 'open', 'result'], 'thumbnail': \"https://dummyimage.com/['facebook']x378\", 'art': 'discuss', 'classroom': ['New Michaelfort', 'Fischerbury'], 'duration': 62, 'blogData': 'President dark lawyer place his. At only be hour.', 'date': '1988-09-26'}\n",
      "{'title': 'Magazine personal.', 'author': 'Jennifer Hubbard', 'about': 'Natural clearly floor call clear beyond.', 'details': 'Product five throw difficult thousand.', 'image': \"https://dummyimage.com/['facebook']x751\", 'introduction': 'Health present plan mention concern.', 'tags': ['life', 'item', 'catch'], 'thumbnail': \"https://placekitten.com/['facebook']/0\", 'art': 'society', 'classroom': ['Lorifort', 'Williamburgh', 'Smithfurt', 'Martinburgh', 'Schaefermouth'], 'duration': 20, 'blogData': 'Role magazine do environment we.', 'date': '1994-12-10'}\n",
      "{'title': 'Knowledge condition.', 'author': 'Cynthia Moore', 'about': 'They down establish just.', 'details': 'Stuff office address education prepare including.', 'image': \"https://picsum.photos/['facebook']/667\", 'introduction': 'Least central quite candidate candidate.', 'tags': ['prove', 'magazine', 'kind'], 'thumbnail': \"https://picsum.photos/['facebook']/386\", 'art': 'my', 'classroom': ['Evanton', 'East Sherri', 'New Shawn', 'Grantside', 'West Scott'], 'duration': 98, 'blogData': 'Fund pressure expert top consider catch.', 'date': '2006-01-23'}\n",
      "{'title': 'Particularly.', 'author': 'Kenneth Smith', 'about': 'Rule economic real apply use.', 'details': 'Start serve program any goal whole.', 'image': \"https://dummyimage.com/['facebook']x522\", 'introduction': 'Name use allow.', 'tags': ['girl', 'pick', 'no'], 'thumbnail': \"https://dummyimage.com/['facebook']x833\", 'art': 'easy', 'classroom': ['North Jessica', 'Barnesberg', 'West April', 'Ellenport'], 'duration': 13, 'blogData': 'Serve food send unit increase.', 'date': '1996-06-03'}\n",
      "{'title': 'Attack sort relate.', 'author': 'Shawn Hughes', 'about': 'Evidence have sense exactly.', 'details': 'Thus answer claim. Stuff book if between fill.', 'image': \"https://picsum.photos/['facebook']/569\", 'introduction': 'Well enter from. Vote glass position per.', 'tags': ['list', 'after', 'set'], 'thumbnail': \"https://dummyimage.com/['facebook']x60\", 'art': 'day', 'classroom': ['North Isabella', 'Herringhaven', 'Kristintown', 'New Michael', 'Tiffanyfort'], 'duration': 6, 'blogData': 'Describe charge then employee.', 'date': '1977-04-11'}\n",
      "{'title': 'Simply bar sure he.', 'author': 'David Hart DDS', 'about': 'Face among from say only wall where.', 'details': 'Simply professor mother stage return effort.', 'image': \"https://picsum.photos/['facebook']/26\", 'introduction': 'Popular you chance beat modern point.', 'tags': ['paper', 'surface', 'personal', 'rise', 'bill'], 'thumbnail': \"https://picsum.photos/['facebook']/994\", 'art': 'condition', 'classroom': ['Jenniferstad'], 'duration': 8, 'blogData': 'Do than job direction debate color.', 'date': '1971-05-04'}\n",
      "{'title': 'Behavior fast with.', 'author': 'Darren Phillips', 'about': 'Value capital never cause six.', 'details': 'These relate none part toward hospital forget.', 'image': \"https://picsum.photos/['facebook']/891\", 'introduction': 'Result able economy weight evidence.', 'tags': ['state', 'person'], 'thumbnail': \"https://dummyimage.com/['facebook']x970\", 'art': 'agency', 'classroom': ['New Justin', 'Cruzchester', 'North Gabrielshire', 'Lake Bobbyview'], 'duration': 50, 'blogData': 'Newspaper entire return bed.', 'date': '1988-06-01'}\n",
      "{'title': 'Road both set among.', 'author': 'Ronald Clark', 'about': 'Decade challenge wish perform traditional.', 'details': 'Public assume change sea best scene.', 'image': \"https://picsum.photos/['facebook']/718\", 'introduction': 'Some finish buy with into.', 'tags': ['ahead', 'whatever', 'amount', 'commercial'], 'thumbnail': \"https://dummyimage.com/['facebook']x125\", 'art': 'best', 'classroom': ['South Jeffreyshire'], 'duration': 12, 'blogData': 'Design then ever growth realize.', 'date': '2015-01-10'}\n",
      "{'title': 'Evidence challenge.', 'author': 'Alexander Reeves', 'about': 'Help professor probably.', 'details': 'Building return feel speech well a partner.', 'image': \"https://picsum.photos/['facebook']/872\", 'introduction': 'Act into understand lead lead second exist.', 'tags': ['to'], 'thumbnail': \"https://dummyimage.com/['facebook']x600\", 'art': 'series', 'classroom': ['South Carlos', 'Lake Jamie', 'Jesseburgh', 'West Jonathanshire'], 'duration': 91, 'blogData': 'Federal data career some she full compare.', 'date': '1972-01-21'}\n",
      "{'title': 'Dream spring left.', 'author': 'Lisa Murphy', 'about': 'Pick may you role read stay.', 'details': 'Easy central significant choice.', 'image': \"https://placekitten.com/['facebook']/273\", 'introduction': 'Short blue quite.', 'tags': ['message', 'send', 'recently'], 'thumbnail': \"https://dummyimage.com/['facebook']x291\", 'art': 'your', 'classroom': ['Alexburgh', 'New William', 'Berryfort', 'North Dawn', 'Colleenberg'], 'duration': 82, 'blogData': 'Law tonight close quality case.', 'date': '2011-12-11'}\n",
      "{'title': 'True president.', 'author': 'Misty Walsh', 'about': 'High yourself we key.', 'details': 'Those pressure memory ok between.', 'image': \"https://picsum.photos/['facebook']/80\", 'introduction': 'Never just sit speak. If year movie think blue.', 'tags': ['again', 'product', 'into'], 'thumbnail': \"https://dummyimage.com/['facebook']x830\", 'art': 'fund', 'classroom': ['New Kimberly', 'Racheltown'], 'duration': 79, 'blogData': 'Hand wonder teacher value TV time grow as.', 'date': '1970-02-04'}\n",
      "{'title': 'Adult religious.', 'author': 'David Johnson', 'about': 'Piece side compare source.', 'details': 'Final popular rest address certain fish between.', 'image': \"https://dummyimage.com/['facebook']x325\", 'introduction': 'Pass similar history. Account center artist.', 'tags': ['you'], 'thumbnail': \"https://dummyimage.com/['facebook']x360\", 'art': 'size', 'classroom': ['Nicolemouth', 'Joshuaville', 'Kevinstad', 'Patelland', 'West Justinland'], 'duration': 68, 'blogData': 'South rule address attorney by first subject.', 'date': '2006-03-23'}\n",
      "{'title': 'Former ten trouble.', 'author': 'Aaron Anderson', 'about': 'Task again six smile make have college.', 'details': 'Ability but tell per.', 'image': \"https://picsum.photos/['facebook']/512\", 'introduction': 'Industry company skill form heart happy head.', 'tags': ['west'], 'thumbnail': \"https://picsum.photos/['facebook']/380\", 'art': 'argue', 'classroom': ['Port Crystal', 'New Kristenside', 'South Phillip', 'Brownmouth'], 'duration': 45, 'blogData': 'Discussion meeting nature today.', 'date': '2003-12-06'}\n",
      "{'title': 'Society well me.', 'author': 'Mariah Salas', 'about': 'Film those exactly story.', 'details': 'Arm example his enter.', 'image': \"https://picsum.photos/['facebook']/126\", 'introduction': 'Research white professor option sort someone.', 'tags': ['ball'], 'thumbnail': \"https://dummyimage.com/['facebook']x830\", 'art': 'prevent', 'classroom': ['North Jerry', 'Gonzalezmouth', 'Fuentesmouth', 'Jamesfort'], 'duration': 43, 'blogData': 'Compare outside stage understand no.', 'date': '2007-02-12'}\n",
      "{'title': 'Score first address.', 'author': 'Nicole White', 'about': 'Girl woman relate anything total current.', 'details': 'Five important mention Mrs billion.', 'image': \"https://placekitten.com/['facebook']/947\", 'introduction': 'Ok animal prove. Few beat politics himself.', 'tags': ['professional'], 'thumbnail': \"https://picsum.photos/['facebook']/323\", 'art': 'guess', 'classroom': ['Lake Jennifertown', 'Lewishaven'], 'duration': 75, 'blogData': 'Different Mr itself himself idea.', 'date': '2006-10-29'}\n",
      "{'title': 'Artist place notice.', 'author': 'George Ferguson', 'about': 'Throw another line plan crime.', 'details': 'Its student board those include enter list.', 'image': \"https://dummyimage.com/['facebook']x120\", 'introduction': 'Dark page some wonder.', 'tags': ['place'], 'thumbnail': \"https://dummyimage.com/['facebook']x292\", 'art': 'majority', 'classroom': ['North Phyllis', 'Milesview', 'South Linda', 'Christopherborough'], 'duration': 70, 'blogData': 'Record our whether finally big money anything.', 'date': '1997-07-28'}\n",
      "{'title': 'Model behavior.', 'author': 'Joshua Walker', 'about': 'Indicate usually computer friend brother mission.', 'details': 'Measure call staff right heavy green.', 'image': \"https://picsum.photos/['facebook']/119\", 'introduction': 'Capital north ability us southern or.', 'tags': ['reveal', 'figure'], 'thumbnail': \"https://placekitten.com/['facebook']/459\", 'art': 'fill', 'classroom': ['Medinashire', 'South Calvintown'], 'duration': 46, 'blogData': 'East feel what hear much around.', 'date': '2016-06-06'}\n",
      "{'title': 'Yeah western effort.', 'author': 'Joseph Hudson', 'about': 'Stop those politics society.', 'details': 'Try star six itself have fill. Run notice edge.', 'image': \"https://dummyimage.com/['facebook']x607\", 'introduction': 'Country recently middle.', 'tags': ['evening', 'law', 'relate', 'discover'], 'thumbnail': \"https://picsum.photos/['facebook']/7\", 'art': 'type', 'classroom': ['Martinland', 'Lake Peterport', 'Riveraville', 'Mccarthyland'], 'duration': 75, 'blogData': 'Shoulder deep without PM stand either record.', 'date': '2013-05-04'}\n",
      "{'title': 'Interest such.', 'author': 'Kyle Thomas', 'about': 'Without morning determine seem.', 'details': 'Within remember back.', 'image': \"https://picsum.photos/['facebook']/636\", 'introduction': 'Owner one simply agreement break police.', 'tags': ['he'], 'thumbnail': \"https://picsum.photos/['facebook']/271\", 'art': 'receive', 'classroom': ['Stewartburgh', 'East Robertview'], 'duration': 27, 'blogData': 'Store carry space born.', 'date': '1977-11-09'}\n",
      "{'title': 'Nature watch.', 'author': 'Zachary Sexton', 'about': 'Information service yeah board very best.', 'details': 'Movie all trip. Race international project.', 'image': \"https://placekitten.com/['facebook']/928\", 'introduction': 'Hope Congress tough style husband few.', 'tags': ['ok', 'get', 'deep', 'month'], 'thumbnail': \"https://placekitten.com/['facebook']/515\", 'art': 'growth', 'classroom': ['South Dylan', 'Biancaside', 'West Carolburgh'], 'duration': 63, 'blogData': 'Represent coach ago often.', 'date': '1999-08-14'}\n",
      "{'title': 'Single left wife.', 'author': 'Matthew Mooney', 'about': 'Century particularly quality everyone.', 'details': 'Them push same any fish Mrs join agreement.', 'image': \"https://placekitten.com/['facebook']/757\", 'introduction': 'We peace must mean certainly.', 'tags': ['quality', 'budget', 'operation', 'subject', 'station'], 'thumbnail': \"https://dummyimage.com/['facebook']x119\", 'art': 'particularly', 'classroom': ['Toddland', 'Smithtown'], 'duration': 29, 'blogData': 'However eat fund morning recent structure.', 'date': '2001-07-01'}\n",
      "{'title': 'Watch believe.', 'author': 'Timothy Miles', 'about': 'Science least receive however mouth.', 'details': 'Name environment brother.', 'image': \"https://dummyimage.com/['facebook']x0\", 'introduction': 'Appear culture able inside story require cell.', 'tags': ['itself'], 'thumbnail': \"https://dummyimage.com/['facebook']x940\", 'art': 'enjoy', 'classroom': ['Castromouth', 'New Cassiebury', 'Rodgersburgh', 'Port Victorstad'], 'duration': 29, 'blogData': 'Suddenly choice easy gun learn away often.', 'date': '2003-09-26'}\n",
      "{'title': 'Of describe what.', 'author': 'Shawn Shelton', 'about': 'Own science first however cause school.', 'details': 'Or evidence soldier. While idea pretty.', 'image': \"https://picsum.photos/['facebook']/969\", 'introduction': 'Space start owner.', 'tags': ['whom', 'window'], 'thumbnail': \"https://dummyimage.com/['facebook']x345\", 'art': 'medical', 'classroom': ['Brownmouth', 'Christopherfort', 'Shannonmouth', 'South Charlestown', 'East Ambertown'], 'duration': 21, 'blogData': 'Court company win cup.', 'date': '2000-04-20'}\n",
      "{'title': 'Plan again.', 'author': 'Gary Santos', 'about': 'Push step if voice join east wide.', 'details': 'Wish window experience similar continue.', 'image': \"https://dummyimage.com/['facebook']x857\", 'introduction': 'Difference song improve important fill.', 'tags': ['quite', 'difficult', 'practice'], 'thumbnail': \"https://dummyimage.com/['facebook']x135\", 'art': 'result', 'classroom': ['New Lauraport', 'Saraton'], 'duration': 84, 'blogData': 'Forward without hundred mean hot today allow.', 'date': '1974-08-13'}\n",
      "{'title': 'Industry view media.', 'author': 'Angela Williams', 'about': 'Reality success way ten husband will.', 'details': 'Let rich must already recognize both.', 'image': \"https://dummyimage.com/['facebook']x980\", 'introduction': 'Build kind my leg Republican we.', 'tags': ['what', 'lose', 'while', 'send', 'leg'], 'thumbnail': \"https://dummyimage.com/['facebook']x817\", 'art': 'most', 'classroom': ['New Angelicaview', 'North Kimberlyland', 'Lake Jennifer'], 'duration': 16, 'blogData': 'Team scene answer. Though who hand.', 'date': '2007-01-24'}\n",
      "{'title': 'Everybody.', 'author': 'David Hansen', 'about': 'Life entire because house.', 'details': 'Official rock mission coach.', 'image': \"https://placekitten.com/['facebook']/183\", 'introduction': 'Ten term born. Shoulder her score activity will.', 'tags': ['admit', 'part'], 'thumbnail': \"https://picsum.photos/['facebook']/549\", 'art': 'support', 'classroom': ['North Mark', 'North Stevenstad', 'Port Amanda', 'North Brett', 'North Misty'], 'duration': 22, 'blogData': 'Might local care hour. Arrive most various win.', 'date': '2002-11-11'}\n",
      "{'title': 'Almost drug provide.', 'author': 'Dr. George Butler', 'about': 'Yourself chance finish grow control opportunity.', 'details': 'Rise sign customer watch. Idea ok begin defense.', 'image': \"https://placekitten.com/['facebook']/718\", 'introduction': 'Middle measure personal southern window nice.', 'tags': ['statement', 'government'], 'thumbnail': \"https://placekitten.com/['facebook']/711\", 'art': 'understand', 'classroom': ['Jacquelineshire', 'Meghanhaven', 'Richardside'], 'duration': 98, 'blogData': 'Watch itself lot should.', 'date': '2010-03-30'}\n",
      "{'title': 'Hospital race guess.', 'author': 'Marvin Torres', 'about': 'Adult research across understand.', 'details': 'Effect not store yard.', 'image': \"https://placekitten.com/['facebook']/86\", 'introduction': 'Lose behind dark today. Young pull exactly.', 'tags': ['fall', 'key'], 'thumbnail': \"https://dummyimage.com/['facebook']x217\", 'art': 'shake', 'classroom': ['Joshuahaven', 'Brittneyton', 'Brownport', 'East Elizabethchester'], 'duration': 19, 'blogData': 'Pull source thing.', 'date': '1987-05-01'}\n"
     ]
    }
   ],
   "source": [
    "fake = Faker()\n",
    "for i in range(100):\n",
    "    data = {\n",
    "        \"title\": fake.text(max_nb_chars=20),\n",
    "        \"author\": fake.name(),\n",
    "        \"about\": fake.text(50),\n",
    "        \"details\": fake.text(50),\n",
    "        \"image\": fake.image_url([\"facebook\"]),\n",
    "        \"introduction\": fake.text(50),\n",
    "        \"tags\": [fake.word() for i in range(fake.random_int(1, 5))],\n",
    "        \"thumbnail\": fake.image_url([\"facebook\"]),\n",
    "        \"image\": fake.image_url([\"facebook\"]),\n",
    "        \"art\":fake.word(),\n",
    "        \"classroom\": [fake.city() for i in range(fake.random_int(1, 5))],   \n",
    "        \"duration\": fake.random_int(1, 100),\n",
    "        \"blogData\": fake.text(50),\n",
    "        \"date\": fake.date(),\n",
    "    }\n",
    "    #blogsCollection.add(data)\n",
    "    print(data)"
   ]
  },
  {
   "cell_type": "markdown",
   "metadata": {},
   "source": [
    "### Snax Collection"
   ]
  },
  {
   "cell_type": "code",
   "execution_count": 10,
   "metadata": {},
   "outputs": [],
   "source": [
    "snaxCollection = db.collection('Snax')"
   ]
  },
  {
   "cell_type": "code",
   "execution_count": 11,
   "metadata": {},
   "outputs": [
    {
     "name": "stdout",
     "output_type": "stream",
     "text": [
      "{'title': 'Part program image.', 'art': 'Snax', 'author': 'Stephanie Rhodes', 'description': 'Long feel claim short edge.', 'videoUrl': 'video://www.burgess.com/', 'progress': 84, 'thumbnail': \"/snax/https://placekitten.com/['facebook']/107\", 'status': 'unlocked', 'classroom': ['South Davidstad', 'Andersontown'], 'level': 'Beginner', 'duration': 40}\n",
      "{'title': 'Finish question.', 'art': 'Snax', 'author': 'William Vargas', 'description': 'Program ready early thought. Son he financial.', 'videoUrl': 'video://murray-leblanc.com/', 'progress': 82, 'thumbnail': \"/snax/https://placekitten.com/['facebook']/334\", 'status': 'unlocked', 'classroom': ['Hollandchester', 'Adamsland', 'South Christina', 'Ericamouth'], 'level': 'Beginner', 'duration': 6}\n",
      "{'title': 'Would power.', 'art': 'Snax', 'author': 'Joshua Kelley', 'description': 'Different summer bad pay source.', 'videoUrl': 'video://www.thomas-blevins.com/', 'progress': 32, 'thumbnail': \"/snax/https://dummyimage.com/['facebook']x92\", 'status': 'unlocked', 'classroom': ['South Robert'], 'level': 'Beginner', 'duration': 81}\n",
      "{'title': 'Sure beat ready.', 'art': 'Snax', 'author': 'Amy Collins', 'description': 'Idea other which church writer next smile.', 'videoUrl': 'video://keller.com/', 'progress': 76, 'thumbnail': \"/snax/https://picsum.photos/['facebook']/655\", 'status': 'unlocked', 'classroom': ['West Joshua', 'South Williamshire', 'Romerohaven', 'New Jennifer', 'Lake Kathyside'], 'level': 'Beginner', 'duration': 32}\n",
      "{'title': 'Tonight help order.', 'art': 'Snax', 'author': 'Jasmine Houston', 'description': 'Six serve let while yet know clearly.', 'videoUrl': 'video://www.carpenter-taylor.com/', 'progress': 54, 'thumbnail': \"/snax/https://dummyimage.com/['facebook']x602\", 'status': 'unlocked', 'classroom': ['Smithtown', 'New Amandachester', 'North John', 'New Zachary', 'North Courtney'], 'level': 'Beginner', 'duration': 81}\n",
      "{'title': 'Nation dinner.', 'art': 'Snax', 'author': 'Jessica Carter', 'description': 'Rate image skill structure food.', 'videoUrl': 'video://jones.com/', 'progress': 72, 'thumbnail': \"/snax/https://picsum.photos/['facebook']/331\", 'status': 'unlocked', 'classroom': ['Hernandezville', 'Ballside'], 'level': 'Beginner', 'duration': 46}\n",
      "{'title': 'Possible important.', 'art': 'Snax', 'author': 'William Baird', 'description': 'Draw kitchen response from us manage.', 'videoUrl': 'video://www.fuller.com/', 'progress': 96, 'thumbnail': \"/snax/https://dummyimage.com/['facebook']x893\", 'status': 'unlocked', 'classroom': ['Chapmanmouth', 'West Tracy', 'Crawfordmouth'], 'level': 'Beginner', 'duration': 11}\n",
      "{'title': 'On hit whole mind.', 'art': 'Snax', 'author': 'Andrew Jordan', 'description': 'Too we good protect result among.', 'videoUrl': 'video://williamson.com/', 'progress': 46, 'thumbnail': \"/snax/https://placekitten.com/['facebook']/910\", 'status': 'unlocked', 'classroom': ['Gatestown', 'Port Lorichester', 'West Anthonybury', 'Lake David', 'Hughestown'], 'level': 'Beginner', 'duration': 33}\n",
      "{'title': 'Structure phone.', 'art': 'Snax', 'author': 'Brian White', 'description': 'Value agent record brother.', 'videoUrl': 'video://www.taylor-patton.biz/', 'progress': 25, 'thumbnail': \"/snax/https://placekitten.com/['facebook']/768\", 'status': 'unlocked', 'classroom': ['New Virginiastad'], 'level': 'Beginner', 'duration': 27}\n",
      "{'title': 'Charge popular sing.', 'art': 'Snax', 'author': 'Darryl Ellis', 'description': 'Conference cultural maybe by wrong piece.', 'videoUrl': 'video://brown.com/', 'progress': 54, 'thumbnail': \"/snax/https://placekitten.com/['facebook']/662\", 'status': 'unlocked', 'classroom': ['Dunnhaven', 'South Sydney', 'South Gregory', 'East Brianberg'], 'level': 'Beginner', 'duration': 26}\n",
      "{'title': 'Offer discuss worry.', 'art': 'Snax', 'author': 'Kurt Dixon', 'description': 'Upon debate another else way often.', 'videoUrl': 'video://www.jackson.com/', 'progress': 13, 'thumbnail': \"/snax/https://placekitten.com/['facebook']/863\", 'status': 'unlocked', 'classroom': ['West Erinmouth', 'Lake Edward', 'Christianbury', 'Newmanville', 'Johnsonfort'], 'level': 'Beginner', 'duration': 80}\n",
      "{'title': 'Note drive feeling.', 'art': 'Snax', 'author': 'Shannon Peters', 'description': 'With point reveal to join.', 'videoUrl': 'video://lynch.com/', 'progress': 83, 'thumbnail': \"/snax/https://dummyimage.com/['facebook']x393\", 'status': 'unlocked', 'classroom': ['Lake Christopherborough', 'Ericaview', 'South Michael'], 'level': 'Beginner', 'duration': 39}\n",
      "{'title': 'Simply third late.', 'art': 'Snax', 'author': 'Jason Floyd', 'description': 'Pass be they spend hour.', 'videoUrl': 'video://www.odonnell.com/', 'progress': 99, 'thumbnail': \"/snax/https://placekitten.com/['facebook']/207\", 'status': 'unlocked', 'classroom': ['North Jonathanview', 'South Robert', 'New Nathan', 'Emilyberg', 'Jordanborough'], 'level': 'Beginner', 'duration': 86}\n",
      "{'title': 'Race often strong.', 'art': 'Snax', 'author': 'John Benson', 'description': 'Notice still work law serious health.', 'videoUrl': 'video://www.pierce-davila.net/', 'progress': 2, 'thumbnail': \"/snax/https://dummyimage.com/['facebook']x18\", 'status': 'unlocked', 'classroom': ['Port Ellenfort', 'North Lance'], 'level': 'Beginner', 'duration': 64}\n",
      "{'title': 'Source message.', 'art': 'Snax', 'author': 'Lindsey Moore MD', 'description': 'View sport lawyer out own.', 'videoUrl': 'video://www.johnson.com/', 'progress': 71, 'thumbnail': \"/snax/https://dummyimage.com/['facebook']x160\", 'status': 'unlocked', 'classroom': ['Port Desiree', 'Lorishire'], 'level': 'Beginner', 'duration': 60}\n",
      "{'title': 'Life yeah smile.', 'art': 'Snax', 'author': 'Michael Cannon', 'description': 'Later song which deal including.', 'videoUrl': 'video://payne.com/', 'progress': 24, 'thumbnail': \"/snax/https://picsum.photos/['facebook']/422\", 'status': 'unlocked', 'classroom': ['Berryburgh'], 'level': 'Beginner', 'duration': 97}\n",
      "{'title': 'Choice effort hotel.', 'art': 'Snax', 'author': 'Denise Garcia', 'description': 'Policy office front near these everybody.', 'videoUrl': 'video://willis-chavez.net/', 'progress': 27, 'thumbnail': \"/snax/https://placekitten.com/['facebook']/429\", 'status': 'unlocked', 'classroom': ['Mooreshire', 'Kendrafurt', 'Donnaview', 'Williamston', 'Luisville'], 'level': 'Beginner', 'duration': 65}\n",
      "{'title': 'Somebody people.', 'art': 'Snax', 'author': 'William Walters', 'description': 'Brother talk line then step including.', 'videoUrl': 'video://www.cruz.com/', 'progress': 81, 'thumbnail': \"/snax/https://picsum.photos/['facebook']/983\", 'status': 'unlocked', 'classroom': ['New Williammouth', 'West Jeanetteberg', 'Morenohaven', 'New Carl', 'Huntstad'], 'level': 'Beginner', 'duration': 13}\n",
      "{'title': 'Rest enough cup.', 'art': 'Snax', 'author': 'Taylor Crawford', 'description': 'Particularly style play believe type.', 'videoUrl': 'video://wood.com/', 'progress': 59, 'thumbnail': \"/snax/https://dummyimage.com/['facebook']x239\", 'status': 'unlocked', 'classroom': ['Andersonburgh', 'Maciashaven', 'Lindseymouth', 'Oliviaview'], 'level': 'Beginner', 'duration': 6}\n",
      "{'title': 'Detail effort enter.', 'art': 'Snax', 'author': 'Jessica Rodriguez', 'description': 'Maintain since sport can experience also.', 'videoUrl': 'video://www.jordan.net/', 'progress': 28, 'thumbnail': \"/snax/https://dummyimage.com/['facebook']x849\", 'status': 'unlocked', 'classroom': ['Laurafurt'], 'level': 'Beginner', 'duration': 43}\n",
      "{'title': 'Act board industry.', 'art': 'Snax', 'author': 'Hannah Beck', 'description': 'Reflect candidate foot citizen right real.', 'videoUrl': 'video://santiago.biz/', 'progress': 49, 'thumbnail': \"/snax/https://placekitten.com/['facebook']/15\", 'status': 'unlocked', 'classroom': ['Port Davidside', 'Port Elizabeth'], 'level': 'Beginner', 'duration': 72}\n",
      "{'title': 'Election partner.', 'art': 'Snax', 'author': 'Julie Cowan', 'description': 'Word truth soldier again indeed.', 'videoUrl': 'video://spears.com/', 'progress': 73, 'thumbnail': \"/snax/https://dummyimage.com/['facebook']x1024\", 'status': 'unlocked', 'classroom': ['Simmonsburgh'], 'level': 'Beginner', 'duration': 12}\n",
      "{'title': 'Guy security.', 'art': 'Snax', 'author': 'Kaitlyn Gibbs', 'description': 'Market become big smile employee else who.', 'videoUrl': 'video://le.com/', 'progress': 97, 'thumbnail': \"/snax/https://picsum.photos/['facebook']/56\", 'status': 'unlocked', 'classroom': ['North Candacemouth', 'New Dawn', 'South Jeffrey'], 'level': 'Beginner', 'duration': 32}\n",
      "{'title': 'Skin leg suffer.', 'art': 'Snax', 'author': 'Julie Brown', 'description': 'From including trial these.', 'videoUrl': 'video://day.biz/', 'progress': 80, 'thumbnail': \"/snax/https://picsum.photos/['facebook']/836\", 'status': 'unlocked', 'classroom': ['Jasonbury', 'Taylorberg', 'Martinezmouth'], 'level': 'Beginner', 'duration': 52}\n",
      "{'title': 'Fine hot agreement.', 'art': 'Snax', 'author': 'Donna Barr', 'description': 'Officer education raise Democrat may trial may.', 'videoUrl': 'video://www.hayes.net/', 'progress': 21, 'thumbnail': \"/snax/https://picsum.photos/['facebook']/975\", 'status': 'unlocked', 'classroom': ['East Amy', 'Davidmouth'], 'level': 'Beginner', 'duration': 81}\n",
      "{'title': 'Mr single budget.', 'art': 'Snax', 'author': 'Cynthia Vega', 'description': 'Southern business area when hair level reason.', 'videoUrl': 'video://king.com/', 'progress': 15, 'thumbnail': \"/snax/https://picsum.photos/['facebook']/723\", 'status': 'unlocked', 'classroom': ['East Arthurside', 'North Ashleyshire', 'Melissamouth', 'Brianport', 'North Michaelville'], 'level': 'Beginner', 'duration': 60}\n",
      "{'title': 'Firm wrong tend.', 'art': 'Snax', 'author': 'Robert Patterson', 'description': 'Human skin difficult threat write.', 'videoUrl': 'video://www.patrick.biz/', 'progress': 91, 'thumbnail': \"/snax/https://dummyimage.com/['facebook']x108\", 'status': 'unlocked', 'classroom': ['Michaelfurt'], 'level': 'Beginner', 'duration': 68}\n",
      "{'title': 'Despite although.', 'art': 'Snax', 'author': 'Jasmine Wood', 'description': 'Research among land collection ago.', 'videoUrl': 'video://lee-baker.com/', 'progress': 67, 'thumbnail': \"/snax/https://placekitten.com/['facebook']/19\", 'status': 'unlocked', 'classroom': ['Reneefurt', 'Keithfort', 'Kellyton', 'Port Eric', 'South Patricia'], 'level': 'Beginner', 'duration': 34}\n",
      "{'title': 'Oil many must.', 'art': 'Snax', 'author': 'Peter Miller', 'description': 'Or suffer need. Paper fast during country hotel.', 'videoUrl': 'video://rodriguez.biz/', 'progress': 18, 'thumbnail': \"/snax/https://picsum.photos/['facebook']/483\", 'status': 'unlocked', 'classroom': ['New Barbara', 'Lake Josephport', 'North Michaelport', 'South Johnchester', 'New Elizabeth'], 'level': 'Beginner', 'duration': 86}\n",
      "{'title': 'Between bank early.', 'art': 'Snax', 'author': 'Katherine Beck', 'description': 'Care head name success miss.', 'videoUrl': 'video://www.lang.com/', 'progress': 40, 'thumbnail': \"/snax/https://picsum.photos/['facebook']/800\", 'status': 'unlocked', 'classroom': ['Davidtown', 'West Isabelfort'], 'level': 'Beginner', 'duration': 69}\n",
      "{'title': 'Build authority.', 'art': 'Snax', 'author': 'Danielle Key', 'description': 'Maybe along prevent question fish election book.', 'videoUrl': 'video://harris.com/', 'progress': 44, 'thumbnail': \"/snax/https://dummyimage.com/['facebook']x238\", 'status': 'unlocked', 'classroom': ['Kimborough'], 'level': 'Beginner', 'duration': 14}\n",
      "{'title': 'Suddenly produce.', 'art': 'Snax', 'author': 'Isaac Calderon', 'description': 'Anything charge physical store.', 'videoUrl': 'video://sosa.com/', 'progress': 13, 'thumbnail': \"/snax/https://dummyimage.com/['facebook']x809\", 'status': 'unlocked', 'classroom': ['Port Jeffrey'], 'level': 'Beginner', 'duration': 61}\n",
      "{'title': 'Our owner only wear.', 'art': 'Snax', 'author': 'Tyler Hernandez', 'description': 'Model garden wall church collection sit continue.', 'videoUrl': 'video://www.morris-evans.info/', 'progress': 40, 'thumbnail': \"/snax/https://placekitten.com/['facebook']/176\", 'status': 'unlocked', 'classroom': ['Pinedafurt', 'Hollowayview', 'Lake Zachary', 'Hamiltonfort', 'Nancyside'], 'level': 'Beginner', 'duration': 63}\n",
      "{'title': 'Rise ask top role.', 'art': 'Snax', 'author': 'Ashley Coleman', 'description': 'The remember research leg firm resource.', 'videoUrl': 'video://www.stewart.com/', 'progress': 19, 'thumbnail': \"/snax/https://picsum.photos/['facebook']/424\", 'status': 'unlocked', 'classroom': ['Galvanburgh', 'Lake Karentown', 'South Scotthaven', 'New Loribury', 'Matthewchester'], 'level': 'Beginner', 'duration': 36}\n",
      "{'title': 'They choice dog few.', 'art': 'Snax', 'author': 'Sydney Ramirez', 'description': 'Push fall entire name land.', 'videoUrl': 'video://wilson.info/', 'progress': 93, 'thumbnail': \"/snax/https://dummyimage.com/['facebook']x686\", 'status': 'unlocked', 'classroom': ['Hintontown', 'South Dustinhaven'], 'level': 'Beginner', 'duration': 24}\n",
      "{'title': 'One street put.', 'art': 'Snax', 'author': 'Shawn Murillo', 'description': 'Draw partner threat who follow knowledge think.', 'videoUrl': 'video://taylor.net/', 'progress': 71, 'thumbnail': \"/snax/https://picsum.photos/['facebook']/108\", 'status': 'unlocked', 'classroom': ['East Elizabeth', 'Lake Luis', 'Oscarport', 'Huffhaven'], 'level': 'Beginner', 'duration': 63}\n",
      "{'title': 'Woman according.', 'art': 'Snax', 'author': 'Meagan Morris', 'description': 'Summer over right six. Which even off effort.', 'videoUrl': 'video://waller.com/', 'progress': 13, 'thumbnail': \"/snax/https://picsum.photos/['facebook']/462\", 'status': 'unlocked', 'classroom': ['West Elizabethstad'], 'level': 'Beginner', 'duration': 11}\n",
      "{'title': 'Involve hit hand.', 'art': 'Snax', 'author': 'Sandra Morales', 'description': 'Knowledge measure far culture.', 'videoUrl': 'video://www.reed.org/', 'progress': 80, 'thumbnail': \"/snax/https://dummyimage.com/['facebook']x759\", 'status': 'unlocked', 'classroom': ['Brownfurt'], 'level': 'Beginner', 'duration': 51}\n",
      "{'title': 'Church participant.', 'art': 'Snax', 'author': 'Tim Galvan', 'description': 'Just art type imagine tree wrong common.', 'videoUrl': 'video://freeman.com/', 'progress': 42, 'thumbnail': \"/snax/https://dummyimage.com/['facebook']x562\", 'status': 'unlocked', 'classroom': ['West Monicaborough', 'Harrisborough'], 'level': 'Beginner', 'duration': 68}\n",
      "{'title': 'Understand him kid.', 'art': 'Snax', 'author': 'Michelle Powell', 'description': 'Occur reflect one section support food.', 'videoUrl': 'video://www.wallace.org/', 'progress': 61, 'thumbnail': \"/snax/https://placekitten.com/['facebook']/434\", 'status': 'unlocked', 'classroom': ['West Beckyberg', 'Lake Kim'], 'level': 'Beginner', 'duration': 95}\n",
      "{'title': 'Break than suffer.', 'art': 'Snax', 'author': 'Dennis Jenkins', 'description': 'Bag too recently worker popular do later.', 'videoUrl': 'video://www.thompson-wood.info/', 'progress': 71, 'thumbnail': \"/snax/https://dummyimage.com/['facebook']x289\", 'status': 'unlocked', 'classroom': ['Michelleborough', 'New Ronnieberg', 'Melindaton', 'Aprilfurt', 'West Benjaminchester'], 'level': 'Beginner', 'duration': 48}\n",
      "{'title': 'Make risk music.', 'art': 'Snax', 'author': 'Nathaniel Nunez', 'description': 'Country work go. Edge field either.', 'videoUrl': 'video://moore-campbell.com/', 'progress': 26, 'thumbnail': \"/snax/https://placekitten.com/['facebook']/842\", 'status': 'unlocked', 'classroom': ['Nortonberg', 'Martinezton', 'Herreraberg', 'Petersville'], 'level': 'Beginner', 'duration': 35}\n",
      "{'title': 'Suddenly evening.', 'art': 'Snax', 'author': 'Justin Bowman', 'description': 'Fund move there wide.', 'videoUrl': 'video://www.thompson.com/', 'progress': 100, 'thumbnail': \"/snax/https://dummyimage.com/['facebook']x99\", 'status': 'unlocked', 'classroom': ['Thomasmouth', 'Port Rebecca', 'West Julia', 'Princefurt'], 'level': 'Beginner', 'duration': 6}\n",
      "{'title': 'Evening agreement.', 'art': 'Snax', 'author': 'Stephanie Murphy', 'description': 'News fire continue performance everything assume.', 'videoUrl': 'video://collier-nguyen.com/', 'progress': 47, 'thumbnail': \"/snax/https://dummyimage.com/['facebook']x692\", 'status': 'unlocked', 'classroom': ['Kellytown', 'Mcmillanville', 'Port Sherryburgh', 'North Candicechester', 'Richardview'], 'level': 'Beginner', 'duration': 21}\n",
      "{'title': 'Sell anyone able.', 'art': 'Snax', 'author': 'Sarah Chapman', 'description': 'Interest civil project material song believe.', 'videoUrl': 'video://www.blackwell-burns.info/', 'progress': 55, 'thumbnail': \"/snax/https://dummyimage.com/['facebook']x382\", 'status': 'unlocked', 'classroom': ['Jamesville', 'South Amyfort', 'Lake Linda'], 'level': 'Beginner', 'duration': 35}\n",
      "{'title': 'Six success three.', 'art': 'Snax', 'author': 'Joseph Castillo', 'description': 'Artist up act water. Behind rate size continue.', 'videoUrl': 'video://www.blackburn.com/', 'progress': 22, 'thumbnail': \"/snax/https://picsum.photos/['facebook']/911\", 'status': 'unlocked', 'classroom': ['South Debra'], 'level': 'Beginner', 'duration': 92}\n",
      "{'title': 'General daughter.', 'art': 'Snax', 'author': 'Tasha Velazquez', 'description': 'Order course white compare.', 'videoUrl': 'video://hernandez.com/', 'progress': 97, 'thumbnail': \"/snax/https://placekitten.com/['facebook']/227\", 'status': 'unlocked', 'classroom': ['Jamesside', 'Lake Rachel'], 'level': 'Beginner', 'duration': 16}\n",
      "{'title': 'Art reach into over.', 'art': 'Snax', 'author': 'Amanda Franklin', 'description': 'Blood spring decade owner citizen compare skin.', 'videoUrl': 'video://payne.org/', 'progress': 9, 'thumbnail': \"/snax/https://dummyimage.com/['facebook']x845\", 'status': 'unlocked', 'classroom': ['Kellyberg', 'North Jennifermouth', 'East Eric', 'East Brettville', 'Ryanmouth'], 'level': 'Beginner', 'duration': 64}\n",
      "{'title': 'In list law voice.', 'art': 'Snax', 'author': 'Rachel Montgomery', 'description': 'Experience return city simple carry perhaps.', 'videoUrl': 'video://bonilla.com/', 'progress': 34, 'thumbnail': \"/snax/https://dummyimage.com/['facebook']x144\", 'status': 'unlocked', 'classroom': ['New Brandonchester', 'Port Amanda', 'Derrickville', 'Johnchester', 'New Annette'], 'level': 'Beginner', 'duration': 69}\n",
      "{'title': 'Should weight per.', 'art': 'Snax', 'author': 'Scott Gutierrez', 'description': 'Mind pretty ever consider project power.', 'videoUrl': 'video://alexander-foster.info/', 'progress': 3, 'thumbnail': \"/snax/https://dummyimage.com/['facebook']x298\", 'status': 'unlocked', 'classroom': ['Kristintown', 'North Lauriefurt', 'West Janice', 'Webbchester'], 'level': 'Beginner', 'duration': 59}\n",
      "{'title': 'Manage us measure.', 'art': 'Snax', 'author': 'Carla Nguyen', 'description': 'Court response address son require.', 'videoUrl': 'video://harris.com/', 'progress': 17, 'thumbnail': \"/snax/https://placekitten.com/['facebook']/870\", 'status': 'unlocked', 'classroom': ['Jessicaport', 'Port Joseph', 'New Erin', 'Ashleeland'], 'level': 'Beginner', 'duration': 18}\n",
      "{'title': 'Environment member.', 'art': 'Snax', 'author': 'Sandra Kennedy', 'description': 'Week deep tell family chair develop.', 'videoUrl': 'video://fuller.com/', 'progress': 25, 'thumbnail': \"/snax/https://picsum.photos/['facebook']/89\", 'status': 'unlocked', 'classroom': ['Shanemouth', 'Port Dominiqueton', 'Port Daniellechester', 'Matthewsborough'], 'level': 'Beginner', 'duration': 62}\n",
      "{'title': 'Record though cell.', 'art': 'Snax', 'author': 'Lee Gibson', 'description': 'Close suffer share experience.', 'videoUrl': 'video://www.sanders.info/', 'progress': 72, 'thumbnail': \"/snax/https://placekitten.com/['facebook']/711\", 'status': 'unlocked', 'classroom': ['New Kennethfurt', 'Wrightton'], 'level': 'Beginner', 'duration': 73}\n",
      "{'title': 'Let audience relate.', 'art': 'Snax', 'author': 'Victor Thomas', 'description': 'Money let anyone yes mission.', 'videoUrl': 'video://morales.net/', 'progress': 83, 'thumbnail': \"/snax/https://picsum.photos/['facebook']/816\", 'status': 'unlocked', 'classroom': ['Jonesburgh', 'Lake Robinfort', 'Karenfort'], 'level': 'Beginner', 'duration': 63}\n",
      "{'title': 'Center and officer.', 'art': 'Snax', 'author': 'Mary Flores', 'description': 'Between together tax forward allow.', 'videoUrl': 'video://lee.com/', 'progress': 64, 'thumbnail': \"/snax/https://picsum.photos/['facebook']/612\", 'status': 'unlocked', 'classroom': ['New Walter', 'West Stevenhaven'], 'level': 'Beginner', 'duration': 49}\n",
      "{'title': 'Writer design.', 'art': 'Snax', 'author': 'Nicholas Patel', 'description': 'Drug piece Republican point evidence bed stage.', 'videoUrl': 'video://www.wright.com/', 'progress': 39, 'thumbnail': \"/snax/https://placekitten.com/['facebook']/321\", 'status': 'unlocked', 'classroom': ['West Jessica'], 'level': 'Beginner', 'duration': 88}\n",
      "{'title': 'Become over create.', 'art': 'Snax', 'author': 'Donald Taylor', 'description': 'Event standard exist either wear could.', 'videoUrl': 'video://www.smith-brown.com/', 'progress': 32, 'thumbnail': \"/snax/https://placekitten.com/['facebook']/239\", 'status': 'unlocked', 'classroom': ['Meyerport', 'West Robertchester', 'Lake Jennifer'], 'level': 'Beginner', 'duration': 18}\n",
      "{'title': 'Door serious share.', 'art': 'Snax', 'author': 'Matthew Villarreal', 'description': 'Would far finally personal officer blue.', 'videoUrl': 'video://spencer-nichols.com/', 'progress': 65, 'thumbnail': \"/snax/https://dummyimage.com/['facebook']x947\", 'status': 'unlocked', 'classroom': ['Williamsbury', 'East Kennethside', 'New Codyton', 'Jonesbury'], 'level': 'Beginner', 'duration': 96}\n",
      "{'title': 'Authority oil until.', 'art': 'Snax', 'author': 'Steven Fields', 'description': 'Paper under arrive child must.', 'videoUrl': 'video://brown.com/', 'progress': 87, 'thumbnail': \"/snax/https://picsum.photos/['facebook']/244\", 'status': 'unlocked', 'classroom': ['Robertmouth', 'Lake Maryland', 'Shawnberg', 'Schmidtland', 'East Crystalburgh'], 'level': 'Beginner', 'duration': 11}\n",
      "{'title': 'Magazine owner.', 'art': 'Snax', 'author': 'Patricia Palmer', 'description': 'Article theory land.', 'videoUrl': 'video://www.winters.com/', 'progress': 24, 'thumbnail': \"/snax/https://placekitten.com/['facebook']/75\", 'status': 'unlocked', 'classroom': ['Helenview', 'Amandaside', 'Port Frankmouth', 'New Mario', 'North Christopher'], 'level': 'Beginner', 'duration': 88}\n",
      "{'title': 'Give white find.', 'art': 'Snax', 'author': 'Jennifer Roberts', 'description': 'Why close technology political be card.', 'videoUrl': 'video://www.weber-mckinney.com/', 'progress': 70, 'thumbnail': \"/snax/https://placekitten.com/['facebook']/514\", 'status': 'unlocked', 'classroom': ['Lake Tammyberg', 'Tracitown'], 'level': 'Beginner', 'duration': 53}\n",
      "{'title': 'Sister team.', 'art': 'Snax', 'author': 'Jessica Smith', 'description': 'Onto though necessary actually.', 'videoUrl': 'video://www.davis.com/', 'progress': 48, 'thumbnail': \"/snax/https://picsum.photos/['facebook']/331\", 'status': 'unlocked', 'classroom': ['New Mariaside'], 'level': 'Beginner', 'duration': 54}\n",
      "{'title': 'Dark Mrs six.', 'art': 'Snax', 'author': 'Louis Espinoza', 'description': 'Down big red begin avoid.', 'videoUrl': 'video://www.montgomery-gray.info/', 'progress': 8, 'thumbnail': \"/snax/https://picsum.photos/['facebook']/173\", 'status': 'unlocked', 'classroom': ['South Lonnie', 'Lake Kristenstad'], 'level': 'Beginner', 'duration': 93}\n",
      "{'title': 'Financial.', 'art': 'Snax', 'author': 'Sandra Jones', 'description': 'Heavy court concern spring cost.', 'videoUrl': 'video://whitehead-thompson.info/', 'progress': 50, 'thumbnail': \"/snax/https://dummyimage.com/['facebook']x0\", 'status': 'unlocked', 'classroom': ['West Monica', 'Smithhaven', 'West Alexland'], 'level': 'Beginner', 'duration': 3}\n",
      "{'title': 'Defense body notice.', 'art': 'Snax', 'author': 'Melissa Morris', 'description': 'Step happy develop chair move.', 'videoUrl': 'video://www.wilson.com/', 'progress': 8, 'thumbnail': \"/snax/https://picsum.photos/['facebook']/786\", 'status': 'unlocked', 'classroom': ['South Christineview', 'Adkinsberg', 'Lake Bradleyberg', 'Robinsonfort', 'Richardsonton'], 'level': 'Beginner', 'duration': 9}\n",
      "{'title': 'Shake soldier gas.', 'art': 'Snax', 'author': 'Sharon Smith', 'description': 'Yourself general three know phone improve.', 'videoUrl': 'video://www.li-gordon.info/', 'progress': 22, 'thumbnail': \"/snax/https://placekitten.com/['facebook']/997\", 'status': 'unlocked', 'classroom': ['Williamsmouth', 'Michealside', 'Sandrachester', 'Port Emilymouth'], 'level': 'Beginner', 'duration': 28}\n",
      "{'title': 'Clear protect we.', 'art': 'Snax', 'author': 'Brett Beard', 'description': 'Sure condition start tell.', 'videoUrl': 'video://www.williams.com/', 'progress': 43, 'thumbnail': \"/snax/https://picsum.photos/['facebook']/330\", 'status': 'unlocked', 'classroom': ['Port Chris', 'Sandratown', 'Nicoleport', 'Littleborough'], 'level': 'Beginner', 'duration': 49}\n",
      "{'title': 'Have seven report.', 'art': 'Snax', 'author': 'Mark Davis', 'description': 'Way PM itself world.', 'videoUrl': 'video://bell.com/', 'progress': 37, 'thumbnail': \"/snax/https://placekitten.com/['facebook']/59\", 'status': 'unlocked', 'classroom': ['South Christophershire', 'Collinsside'], 'level': 'Beginner', 'duration': 35}\n",
      "{'title': 'Visit baby area to.', 'art': 'Snax', 'author': 'Cody Martin', 'description': 'Off recent report baby senior discover among.', 'videoUrl': 'video://buck-bonilla.info/', 'progress': 60, 'thumbnail': \"/snax/https://picsum.photos/['facebook']/840\", 'status': 'unlocked', 'classroom': ['Stephensmouth', 'New Holly', 'Lake Johnmouth', 'Patrickville', 'South Haley'], 'level': 'Beginner', 'duration': 55}\n",
      "{'title': 'Indicate language.', 'art': 'Snax', 'author': 'Marcia Miller', 'description': 'Far theory per cultural computer at such subject.', 'videoUrl': 'video://www.carney.biz/', 'progress': 47, 'thumbnail': \"/snax/https://dummyimage.com/['facebook']x832\", 'status': 'unlocked', 'classroom': ['West Danielfurt', 'Jameschester', 'Garciastad', 'Charleston', 'Patrickfurt'], 'level': 'Beginner', 'duration': 26}\n",
      "{'title': 'Story enough drop.', 'art': 'Snax', 'author': 'Mr. Darrell Howe', 'description': 'Piece drop down school indicate material.', 'videoUrl': 'video://miller.biz/', 'progress': 100, 'thumbnail': \"/snax/https://dummyimage.com/['facebook']x71\", 'status': 'unlocked', 'classroom': ['West Melinda', 'Port Sierraberg', 'Boylestad', 'North Melissatown', 'Port Jennifer'], 'level': 'Beginner', 'duration': 38}\n",
      "{'title': 'Billion hope.', 'art': 'Snax', 'author': 'Eric Glenn', 'description': 'Write trip significant black our.', 'videoUrl': 'video://www.brown.info/', 'progress': 74, 'thumbnail': \"/snax/https://picsum.photos/['facebook']/347\", 'status': 'unlocked', 'classroom': ['Bryanberg'], 'level': 'Beginner', 'duration': 81}\n",
      "{'title': 'Country strategy.', 'art': 'Snax', 'author': 'Eric Miller', 'description': 'Approach provide young others argue news now.', 'videoUrl': 'video://sutton.com/', 'progress': 62, 'thumbnail': \"/snax/https://dummyimage.com/['facebook']x455\", 'status': 'unlocked', 'classroom': ['New Brianfurt'], 'level': 'Beginner', 'duration': 44}\n",
      "{'title': 'Will boy.', 'art': 'Snax', 'author': 'Adam Gallegos', 'description': 'Manage difference floor issue be nor back pick.', 'videoUrl': 'video://www.bradley-keller.com/', 'progress': 82, 'thumbnail': \"/snax/https://placekitten.com/['facebook']/692\", 'status': 'unlocked', 'classroom': ['Christineport'], 'level': 'Beginner', 'duration': 65}\n",
      "{'title': 'About detail.', 'art': 'Snax', 'author': 'Fernando Gibbs', 'description': 'There eye move race win special.', 'videoUrl': 'video://carlson.biz/', 'progress': 57, 'thumbnail': \"/snax/https://placekitten.com/['facebook']/384\", 'status': 'unlocked', 'classroom': ['New Dennis', 'Grahamville', 'New Daniel', 'South Kevin', 'Vargasfurt'], 'level': 'Beginner', 'duration': 29}\n",
      "{'title': 'Subject ability.', 'art': 'Snax', 'author': 'Nicholas Kirby', 'description': 'Skin to expect morning reveal.', 'videoUrl': 'video://www.orozco.org/', 'progress': 59, 'thumbnail': \"/snax/https://placekitten.com/['facebook']/953\", 'status': 'unlocked', 'classroom': ['East Edwardberg', 'West Grace'], 'level': 'Beginner', 'duration': 17}\n",
      "{'title': 'Law discussion.', 'art': 'Snax', 'author': 'Kurt Stewart', 'description': 'Choice hour watch imagine. Say seven tax.', 'videoUrl': 'video://pearson.com/', 'progress': 93, 'thumbnail': \"/snax/https://placekitten.com/['facebook']/373\", 'status': 'unlocked', 'classroom': ['New Hollyville', 'Willishaven', 'Port Jonathanland', 'West Audrey', 'North Elizabeth'], 'level': 'Beginner', 'duration': 10}\n",
      "{'title': 'People security.', 'art': 'Snax', 'author': 'Kristin Krueger', 'description': 'Only doctor because million last laugh company.', 'videoUrl': 'video://johnson.net/', 'progress': 73, 'thumbnail': \"/snax/https://dummyimage.com/['facebook']x562\", 'status': 'unlocked', 'classroom': ['Tyroneton', 'South Joseburgh'], 'level': 'Beginner', 'duration': 55}\n",
      "{'title': 'Short concern begin.', 'art': 'Snax', 'author': 'Bailey Horn', 'description': 'Traditional church traditional but.', 'videoUrl': 'video://www.yang-mitchell.biz/', 'progress': 75, 'thumbnail': \"/snax/https://placekitten.com/['facebook']/196\", 'status': 'unlocked', 'classroom': ['Lake Brian', 'Cherylview', 'Port Kenneth'], 'level': 'Beginner', 'duration': 69}\n",
      "{'title': 'Pressure push.', 'art': 'Snax', 'author': 'Justin Oliver', 'description': 'Eight book dog thus. Economy debate reason.', 'videoUrl': 'video://christensen.biz/', 'progress': 51, 'thumbnail': \"/snax/https://placekitten.com/['facebook']/329\", 'status': 'unlocked', 'classroom': ['West Jillland', 'Bryanmouth', 'Hoffmanberg'], 'level': 'Beginner', 'duration': 48}\n",
      "{'title': 'We maybe off much.', 'art': 'Snax', 'author': 'Christopher Sanchez', 'description': 'Quite if north forget possible skill their.', 'videoUrl': 'video://www.ford.com/', 'progress': 87, 'thumbnail': \"/snax/https://placekitten.com/['facebook']/725\", 'status': 'unlocked', 'classroom': ['South Alecfurt', 'Lake Misty', 'Dayburgh', 'North Debra', 'New Devin'], 'level': 'Beginner', 'duration': 66}\n",
      "{'title': 'Son meet without.', 'art': 'Snax', 'author': 'Phyllis Turner', 'description': 'See peace coach play.', 'videoUrl': 'video://davis-johnson.com/', 'progress': 78, 'thumbnail': \"/snax/https://dummyimage.com/['facebook']x1010\", 'status': 'unlocked', 'classroom': ['Port Victoria', 'West Brandonstad', 'Suarezshire', 'West Shawnside'], 'level': 'Beginner', 'duration': 36}\n",
      "{'title': 'Address dog show.', 'art': 'Snax', 'author': 'Jose Bates', 'description': 'Result us bit fall door government sense.', 'videoUrl': 'video://lynn.com/', 'progress': 66, 'thumbnail': \"/snax/https://placekitten.com/['facebook']/1018\", 'status': 'unlocked', 'classroom': ['North Brettberg', 'Tonyaberg', 'Whitefurt'], 'level': 'Beginner', 'duration': 19}\n",
      "{'title': 'Simple compare.', 'art': 'Snax', 'author': 'Mark Erickson', 'description': 'Deal season friend detail stuff learn.', 'videoUrl': 'video://perkins.com/', 'progress': 5, 'thumbnail': \"/snax/https://placekitten.com/['facebook']/342\", 'status': 'unlocked', 'classroom': ['East Rachel', 'Robertoton', 'Bakerfurt', 'Hoodport', 'East Ashleyside'], 'level': 'Beginner', 'duration': 13}\n",
      "{'title': 'Bed price site.', 'art': 'Snax', 'author': 'Susan Johnson', 'description': 'Exactly capital author.', 'videoUrl': 'video://hatfield-gonzalez.com/', 'progress': 19, 'thumbnail': \"/snax/https://picsum.photos/['facebook']/137\", 'status': 'unlocked', 'classroom': ['Lake Brian'], 'level': 'Beginner', 'duration': 96}\n",
      "{'title': 'Glass peace.', 'art': 'Snax', 'author': 'Isabel Walker', 'description': 'Mr reality stock window bit although.', 'videoUrl': 'video://torres-garner.org/', 'progress': 100, 'thumbnail': \"/snax/https://placekitten.com/['facebook']/80\", 'status': 'unlocked', 'classroom': ['East Michael', 'North Anthony', 'Lake Jennifer', 'Port Kimberly'], 'level': 'Beginner', 'duration': 9}\n",
      "{'title': 'Cup entire teach.', 'art': 'Snax', 'author': 'James Miller', 'description': 'Stock sing up lead political.', 'videoUrl': 'video://cline.com/', 'progress': 29, 'thumbnail': \"/snax/https://dummyimage.com/['facebook']x916\", 'status': 'unlocked', 'classroom': ['Ryanhaven', 'South Danielleton', 'Santanaburgh', 'South Kennethfort'], 'level': 'Beginner', 'duration': 28}\n",
      "{'title': 'Successful follow.', 'art': 'Snax', 'author': 'Ethan Wilson', 'description': 'Beat natural similar generation by total doctor.', 'videoUrl': 'video://www.tucker.biz/', 'progress': 37, 'thumbnail': \"/snax/https://placekitten.com/['facebook']/552\", 'status': 'unlocked', 'classroom': ['Port Thomas'], 'level': 'Beginner', 'duration': 63}\n",
      "{'title': 'Citizen stuff small.', 'art': 'Snax', 'author': 'Christopher Powers', 'description': 'Opportunity claim and end truth him.', 'videoUrl': 'video://wilson-porter.com/', 'progress': 19, 'thumbnail': \"/snax/https://picsum.photos/['facebook']/716\", 'status': 'unlocked', 'classroom': ['Port Danielshire', 'Weissport', 'New Jonathanview', 'Luceroberg', 'Jonesstad'], 'level': 'Beginner', 'duration': 91}\n",
      "{'title': 'Hand idea war west.', 'art': 'Snax', 'author': 'Evan Adams', 'description': 'Pick beyond myself ok production catch anything.', 'videoUrl': 'video://www.hopkins.com/', 'progress': 40, 'thumbnail': \"/snax/https://picsum.photos/['facebook']/693\", 'status': 'unlocked', 'classroom': ['North Lauraside', 'East Justinchester', 'Brittanybury', 'West Michael'], 'level': 'Beginner', 'duration': 33}\n",
      "{'title': 'Long street onto.', 'art': 'Snax', 'author': 'Adam Weeks', 'description': 'Small ball fall window argue.', 'videoUrl': 'video://bowen.net/', 'progress': 100, 'thumbnail': \"/snax/https://placekitten.com/['facebook']/269\", 'status': 'unlocked', 'classroom': ['Lake Jay', 'Sarahside'], 'level': 'Beginner', 'duration': 32}\n",
      "{'title': 'Enough also base.', 'art': 'Snax', 'author': 'Amy Gamble', 'description': 'Position probably successful organization.', 'videoUrl': 'video://www.kramer-heath.com/', 'progress': 53, 'thumbnail': \"/snax/https://picsum.photos/['facebook']/225\", 'status': 'unlocked', 'classroom': ['Mckeestad', 'Port Pamela'], 'level': 'Beginner', 'duration': 21}\n",
      "{'title': 'Up it arm against.', 'art': 'Snax', 'author': 'Andrew Wells', 'description': 'Smile claim happen.', 'videoUrl': 'video://estrada.com/', 'progress': 47, 'thumbnail': \"/snax/https://picsum.photos/['facebook']/820\", 'status': 'unlocked', 'classroom': ['Danielshire', 'Scottburgh'], 'level': 'Beginner', 'duration': 45}\n",
      "{'title': 'Run sea help.', 'art': 'Snax', 'author': 'Alexandra Howard', 'description': 'Stay write though argue magazine.', 'videoUrl': 'video://jones.com/', 'progress': 46, 'thumbnail': \"/snax/https://dummyimage.com/['facebook']x770\", 'status': 'unlocked', 'classroom': ['New Nicolefort', 'New Jamesside'], 'level': 'Beginner', 'duration': 13}\n",
      "{'title': 'Travel cause most.', 'art': 'Snax', 'author': 'Robert Garrett', 'description': 'Blood begin something avoid.', 'videoUrl': 'video://cooke.org/', 'progress': 47, 'thumbnail': \"/snax/https://placekitten.com/['facebook']/595\", 'status': 'unlocked', 'classroom': ['Stacyport', 'Lake Carla', 'East Stevenville'], 'level': 'Beginner', 'duration': 35}\n",
      "{'title': 'Rich north.', 'art': 'Snax', 'author': 'Ronnie Miller', 'description': 'Admit success two crime on wear interview.', 'videoUrl': 'video://leonard.org/', 'progress': 72, 'thumbnail': \"/snax/https://placekitten.com/['facebook']/180\", 'status': 'unlocked', 'classroom': ['North Melindafort', 'New Jose', 'Lake Aprilchester'], 'level': 'Beginner', 'duration': 54}\n",
      "{'title': 'Month president.', 'art': 'Snax', 'author': 'Michelle Kirk', 'description': 'Many raise move smile.', 'videoUrl': 'video://www.christian.com/', 'progress': 97, 'thumbnail': \"/snax/https://placekitten.com/['facebook']/426\", 'status': 'unlocked', 'classroom': ['South Travis', 'Tatetown', 'Port Teresa', 'Colebury'], 'level': 'Beginner', 'duration': 50}\n",
      "{'title': 'Thought hand media.', 'art': 'Snax', 'author': 'Tracey Lynch', 'description': 'Notice itself however money body account.', 'videoUrl': 'video://hernandez.com/', 'progress': 71, 'thumbnail': \"/snax/https://picsum.photos/['facebook']/767\", 'status': 'unlocked', 'classroom': ['West Connieville', 'West Frankside', 'Priscillaport', 'Port Valeriefort'], 'level': 'Beginner', 'duration': 20}\n",
      "{'title': 'Current sing after.', 'art': 'Snax', 'author': 'Robert Hudson', 'description': 'Myself recent product phone research.', 'videoUrl': 'video://copeland.net/', 'progress': 28, 'thumbnail': \"/snax/https://dummyimage.com/['facebook']x10\", 'status': 'unlocked', 'classroom': ['Waltermouth', 'New Jeffery'], 'level': 'Beginner', 'duration': 6}\n",
      "{'title': 'Find character.', 'art': 'Snax', 'author': 'Gary Watson', 'description': 'Create cost with turn.', 'videoUrl': 'video://www.bowman-massey.net/', 'progress': 96, 'thumbnail': \"/snax/https://dummyimage.com/['facebook']x738\", 'status': 'unlocked', 'classroom': ['Nguyenhaven', 'Sullivanport'], 'level': 'Beginner', 'duration': 34}\n"
     ]
    }
   ],
   "source": [
    "fake = Faker()\n",
    "for i in range(100):\n",
    "    data = {\n",
    "        \"title\": fake.text(max_nb_chars=20),\n",
    "        \"art\": \"Snax\",\n",
    "        \"author\": fake.name(),\n",
    "        \"description\": fake.text(50),\n",
    "        \"videoUrl\": fake.url([\"video\"]),\n",
    "        \"progress\": fake.random_int(1, 100),\n",
    "        \"thumbnail\": \"/snax/\" + fake.image_url([\"facebook\"]),\n",
    "        \"status\": \"unlocked\",\n",
    "        \"classroom\": [fake.city() for i in range(fake.random_int(1, 5))],\n",
    "        \"level\": \"Beginner\",\n",
    "        \"duration\": fake.random_int(1, 100),\n",
    "    }\n",
    "    snaxCollection.add(data)\n",
    "    print(data)"
   ]
  }
 ],
 "metadata": {
  "kernelspec": {
   "display_name": "Python 3",
   "language": "python",
   "name": "python3"
  },
  "language_info": {
   "codemirror_mode": {
    "name": "ipython",
    "version": 3
   },
   "file_extension": ".py",
   "mimetype": "text/x-python",
   "name": "python",
   "nbconvert_exporter": "python",
   "pygments_lexer": "ipython3",
   "version": "3.8.10"
  }
 },
 "nbformat": 4,
 "nbformat_minor": 2
}
