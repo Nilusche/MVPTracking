{
 "cells": [
  {
   "cell_type": "markdown",
   "metadata": {},
   "source": [
    "# Config"
   ]
  },
  {
   "cell_type": "code",
   "execution_count": 1,
   "metadata": {},
   "outputs": [
    {
     "name": "stdout",
     "output_type": "stream",
     "text": [
      "Note: you may need to restart the kernel to use updated packages.\n"
     ]
    },
    {
     "name": "stderr",
     "output_type": "stream",
     "text": [
      "\n",
      "[notice] A new release of pip is available: 23.1.2 -> 23.3.1\n",
      "[notice] To update, run: C:\\Users\\49152\\AppData\\Local\\Microsoft\\WindowsApps\\PythonSoftwareFoundation.Python.3.8_qbz5n2kfra8p0\\python.exe -m pip install --upgrade pip\n"
     ]
    }
   ],
   "source": [
    "%pip install firebase-admin faker --quiet"
   ]
  },
  {
   "cell_type": "code",
   "execution_count": 2,
   "metadata": {},
   "outputs": [],
   "source": [
    "import firebase_admin\n",
    "from firebase_admin import credentials, firestore\n",
    "from faker import Faker"
   ]
  },
  {
   "cell_type": "code",
   "execution_count": 3,
   "metadata": {},
   "outputs": [
    {
     "data": {
      "text/plain": [
       "<firebase_admin.App at 0x24810845d30>"
      ]
     },
     "execution_count": 3,
     "metadata": {},
     "output_type": "execute_result"
    }
   ],
   "source": [
    "cred = credentials.Certificate('serviceAccount.json')\n",
    "firebase_admin.initialize_app(cred)"
   ]
  },
  {
   "cell_type": "markdown",
   "metadata": {},
   "source": [
    "# Checkout the collections and documents"
   ]
  },
  {
   "cell_type": "code",
   "execution_count": 4,
   "metadata": {},
   "outputs": [
    {
     "name": "stdout",
     "output_type": "stream",
     "text": [
      "[]\n"
     ]
    }
   ],
   "source": [
    "#get list of collections\n",
    "db = firestore.client()\n",
    "collections = [x.id for x in db.collections()]\n",
    "print(collections)"
   ]
  },
  {
   "cell_type": "markdown",
   "metadata": {},
   "source": [
    "# Generate fake data and load into firestore"
   ]
  },
  {
   "cell_type": "markdown",
   "metadata": {},
   "source": [
    "### Masterclasses Collection"
   ]
  },
  {
   "cell_type": "code",
   "execution_count": 5,
   "metadata": {},
   "outputs": [],
   "source": [
    "#masterclassCollection = db.collection('Masterclasses')\n",
    "fake = Faker()\n",
    "\n",
    "list_of_levels = [\"Beginner\", \"Intermediate\", \"Advanced\"]\n",
    "list_of_status = [\"locked\", \"unlocked\", \"completed\"]\n",
    "list_class_room = [fake.city() for i in range(30)]"
   ]
  },
  {
   "cell_type": "code",
   "execution_count": 6,
   "metadata": {},
   "outputs": [],
   "source": [
    "\n",
    "\n",
    "for i in range(100):\n",
    "    data = {\n",
    "        \"art\": \"Masterclass\",\n",
    "        \"author\": fake.name(),\n",
    "        \"classroom\" : [list_class_room[fake.random_int(0, 29)] for i in range(fake.random_int(1, 5))],\n",
    "        \"courseLessons\" : [fake.random_int(1, 5) for i in range(fake.random_int(1, 5))],\n",
    "        \"courseOverview\": {\"AboutAuthor\" : fake.text(50) + \"...\", \"AboutCourse\" : fake.text(50) + \"...\"},\n",
    "        \"description\" : fake.text(max_nb_chars=50) + \"...\",\n",
    "        \"duration\" : fake.random_int(1, 100),\n",
    "        \"filterTags\": [fake.word() for i in range(fake.random_int(1, 5))],\n",
    "        \"id\": i+2,\n",
    "        \"lessons\": fake.random_int(1, 100),\n",
    "        \"level\": list_of_levels[fake.random_int(0, 2)],\n",
    "        \"points\": fake.random_int(1, 100),\n",
    "        \"progress\": 0,\n",
    "        \"status\": list_of_status[fake.random_int(0, 2)],\n",
    "        \"tags\" : [fake.word() for i in range(fake.random_int(1, 5))],\n",
    "        \"thumbnail\" : fake.image_url([\"facebook\"]),\n",
    "        \"title\" : fake.text(max_nb_chars=20),\n",
    "        \"videoUrl\" : fake.url([\"video\"]),\n",
    "        \"enrollment_count\": fake.random_int(0, 100)\n",
    "    }\n",
    "    #masterclassCollection.add(data)\n",
    "    print(data)\n"
   ]
  },
  {
   "cell_type": "markdown",
   "metadata": {},
   "source": [
    "### Users Collection"
   ]
  },
  {
   "cell_type": "code",
   "execution_count": 7,
   "metadata": {},
   "outputs": [],
   "source": [
    "import random\n",
    "#usersCollection = db.collection('Users')\n",
    "fake = Faker()\n",
    "list_of_account_Types = [\"admin\", \"master\", \"superadmin\", \"instructor\"]\n",
    "list_of_Education = [\"Schule\", \"Abitur\", \"Realschulabschluss\", \"Hochschulabschluss\", \"Bachelor\", \"Master\", \"Promotion\", \"Ausbildung\"]\n",
    "course_enrolled = fake.random_int(0, 40)\n",
    "for i in range(100): \n",
    "    data = {\n",
    "        \"id\": i + 2,\n",
    "        \"accType\": \"Customer\" if random.random() < 0.95 else list_of_account_Types[fake.random_int(0, 3)],\n",
    "        \"advisor\": fake.name(),\n",
    "        \"advisorACID\": \"advisor reference\" + str(i),\n",
    "        \"city\": fake.city(),\n",
    "        \"email\": fake.email(),\n",
    "        \"firstName\": fake.first_name(),\n",
    "        \"joined\": fake.date(),\n",
    "        \"lifetime\" : fake.random_int(0, 5),\n",
    "        \"postalCode\": fake.postcode(),\n",
    "        \"refACID\": \"reference\" + str(i),\n",
    "        \"role\": fake.job(),\n",
    "        \"surname\": fake.last_name(),\n",
    "        \"Gender\": list([\"Male\", \"Female\"])[fake.random_int(0, 1)],\n",
    "        \"Income\": fake.random_int(10000, 80000),\n",
    "        \"Birthdate\": fake.date_of_birth().strftime('%Y/%m/%d'),\n",
    "        \"Education\": list_of_Education[fake.random_int(0, len(list_of_Education) - 1)],\n",
    "        \"Employment_status\": [\"unemployed\", \"employed\"][fake.random_int(0, 1)],\n",
    "        \"Watched\": [ {\"Masterclass\" : fake.random_int(2, 101), \"progress\": str(fake.random_int(0, 500)) + \" min\"} for i in range(fake.random_int(0, 5))],\n",
    "        \"Interest\": [{\"classroom\": list_class_room[fake.random_int(0, 29)],\"score\": fake.random_int(0, 100) } for i in range(0,29)],\n",
    "        \"Total_Watchtime\" : str(fake.random_int(0, 100000)) + \" min\",\n",
    "        \"Avg_session_duration\": str(fake.random_int(0, 200)) + \" min\",\n",
    "        \"Courses_enrolled\" : course_enrolled,\n",
    "        \"Courses_completed\" : fake.random_int(0, course_enrolled),\n",
    "        \"course_saved\": fake.random_int(0, course_enrolled)\n",
    "    }\n",
    "    #usersCollection.add(data)\n",
    "    print(data)"
   ]
  },
  {
   "cell_type": "markdown",
   "metadata": {},
   "source": [
    "### Coach Collection"
   ]
  },
  {
   "cell_type": "code",
   "execution_count": 8,
   "metadata": {},
   "outputs": [],
   "source": [
    "#coachCollection = db.collection('Coaches')\n",
    "fake = Faker()\n",
    "\n",
    "for i in range(100): \n",
    "    data = {\n",
    "        \"about\": fake.text(50),\n",
    "        \"blogs\": [fake.text(50) + \"...\" for i in range(fake.random_int(1, 5))],\n",
    "        \"books\": [fake.word() for i in range(fake.random_int(1, 5))],\n",
    "        \"facebook\": fake.url(),\n",
    "        \"id\": i+2,\n",
    "        \"image\": [fake.name()+ \".jpg\" for i in range(fake.random_int(1, 5))],\n",
    "        \"instagram\": fake.url([\"instagram\"]),\n",
    "        \"linkedin\": fake.url([\"linkedin\"]),\n",
    "        \"link\": fake.url(),\n",
    "        \"masterclass\": [{\"name\": fake.name()} for i in range(fake.random_int(1, 5))],\n",
    "        \"podcasts\" : [{\"position\": fake.job(), \"website\": fake.url(), \"xing\": fake.url()} for i in range(fake.random_int(1, 5))],\n",
    "        \"Name\": fake.name(),\n",
    "        \"position\": fake.job()\n",
    "    }\n",
    "    #coachCollection.add(data)\n",
    "    print(data)"
   ]
  },
  {
   "cell_type": "code",
   "execution_count": 9,
   "metadata": {},
   "outputs": [],
   "source": [
    "#eventCollection = db.collection('Events')\n",
    "fake = Faker()\n",
    "from datetime import date\n",
    "\n",
    "Event_Types = [\"enroll_course\", \"save_course\", \"unsave_course\", \"complete_course\", \"complete_lesson\", \"login\", \"logout\", \"Berater_kontaktieren\", \"Berater_wechseln\"]\n",
    "for i in range(200): \n",
    "    data = {\n",
    "        \"Event-ID\": i + 2,\n",
    "        \"User-Id\": fake.random_int(2, 101),\n",
    "        \"Timestamp\": fake.date(),\n",
    "        \"Event-Type\" : Event_Types[fake.random_int(0, len(Event_Types) - 1)],\n",
    "        \"Event-Specific-Information\" : fake.text()\n",
    "    }\n",
    "    #eventCollection.add(data)\n",
    "    print(data)\n"
   ]
  },
  {
   "cell_type": "code",
   "execution_count": 10,
   "metadata": {},
   "outputs": [],
   "source": [
    "# nicht nutzen wegen täglichem Limit von Operationen\n",
    "def delete_collection(coll_ref, batch_size):\n",
    "    docs = coll_ref.list_documents(page_size=batch_size)\n",
    "    deleted = 0\n",
    "\n",
    "    for doc in docs:\n",
    "        print(f\"Deleting doc {doc.id} => {doc.get().to_dict()}\")\n",
    "        doc.delete()\n",
    "        deleted = deleted + 1\n",
    "\n",
    "    if deleted >= batch_size:\n",
    "        return delete_collection(coll_ref, batch_size)\n",
    "#db = firestore.client()\n",
    "#collections = [x for x in db.collections()]\n",
    "#for collection in collections:\n",
    "    #delete_collection(collection, 0)"
   ]
  }
 ],
 "metadata": {
  "kernelspec": {
   "display_name": "Python 3",
   "language": "python",
   "name": "python3"
  },
  "language_info": {
   "codemirror_mode": {
    "name": "ipython",
    "version": 3
   },
   "file_extension": ".py",
   "mimetype": "text/x-python",
   "name": "python",
   "nbconvert_exporter": "python",
   "pygments_lexer": "ipython3",
   "version": "3.8.10"
  }
 },
 "nbformat": 4,
 "nbformat_minor": 2
}
