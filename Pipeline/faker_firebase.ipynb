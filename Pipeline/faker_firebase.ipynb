{
 "cells": [
  {
   "cell_type": "markdown",
   "metadata": {},
   "source": [
    "# Config"
   ]
  },
  {
   "cell_type": "code",
   "execution_count": 1,
   "metadata": {},
   "outputs": [
    {
     "name": "stdout",
     "output_type": "stream",
     "text": [
      "Note: you may need to restart the kernel to use updated packages.\n"
     ]
    },
    {
     "name": "stderr",
     "output_type": "stream",
     "text": [
      "ERROR: pip's dependency resolver does not currently take into account all the packages that are installed. This behaviour is the source of the following dependency conflicts.\n",
      "elastic-transport 8.10.0 requires urllib3<3,>=1.26.2, but you have urllib3 1.25.11 which is incompatible.\n",
      "\n",
      "[notice] A new release of pip is available: 23.1.2 -> 23.3.1\n",
      "[notice] To update, run: C:\\Users\\49152\\AppData\\Local\\Microsoft\\WindowsApps\\PythonSoftwareFoundation.Python.3.8_qbz5n2kfra8p0\\python.exe -m pip install --upgrade pip\n"
     ]
    }
   ],
   "source": [
    "%pip install firebase-admin faker --quiet"
   ]
  },
  {
   "cell_type": "code",
   "execution_count": 2,
   "metadata": {},
   "outputs": [],
   "source": [
    "import firebase_admin\n",
    "from firebase_admin import credentials, firestore \n",
    "from faker import Faker\n",
    "import numpy as np"
   ]
  },
  {
   "cell_type": "code",
   "execution_count": 16,
   "metadata": {},
   "outputs": [
    {
     "ename": "ValueError",
     "evalue": "The default Firebase app already exists. This means you called initialize_app() more than once without providing an app name as the second argument. In most cases you only need to call initialize_app() once. But if you do want to initialize multiple apps, pass a second argument to initialize_app() to give each app a unique name.",
     "output_type": "error",
     "traceback": [
      "\u001b[1;31m---------------------------------------------------------------------------\u001b[0m",
      "\u001b[1;31mValueError\u001b[0m                                Traceback (most recent call last)",
      "\u001b[1;32m<ipython-input-16-b59a42b63ca4>\u001b[0m in \u001b[0;36m<module>\u001b[1;34m\u001b[0m\n\u001b[0;32m      1\u001b[0m \u001b[0mcred\u001b[0m \u001b[1;33m=\u001b[0m \u001b[0mcredentials\u001b[0m\u001b[1;33m.\u001b[0m\u001b[0mCertificate\u001b[0m\u001b[1;33m(\u001b[0m\u001b[1;34m'serviceAccount.json'\u001b[0m\u001b[1;33m)\u001b[0m\u001b[1;33m\u001b[0m\u001b[1;33m\u001b[0m\u001b[0m\n\u001b[1;32m----> 2\u001b[1;33m \u001b[0mfirebase_admin\u001b[0m\u001b[1;33m.\u001b[0m\u001b[0minitialize_app\u001b[0m\u001b[1;33m(\u001b[0m\u001b[0mcred\u001b[0m\u001b[1;33m)\u001b[0m\u001b[1;33m\u001b[0m\u001b[1;33m\u001b[0m\u001b[0m\n\u001b[0m\u001b[0;32m      3\u001b[0m \u001b[0mfake\u001b[0m \u001b[1;33m=\u001b[0m \u001b[0mFaker\u001b[0m\u001b[1;33m(\u001b[0m\u001b[1;33m)\u001b[0m\u001b[1;33m\u001b[0m\u001b[1;33m\u001b[0m\u001b[0m\n",
      "\u001b[1;32m~\\AppData\\Local\\Packages\\PythonSoftwareFoundation.Python.3.8_qbz5n2kfra8p0\\LocalCache\\local-packages\\Python38\\site-packages\\firebase_admin\\__init__.py\u001b[0m in \u001b[0;36minitialize_app\u001b[1;34m(credential, options, name)\u001b[0m\n\u001b[0;32m     69\u001b[0m \u001b[1;33m\u001b[0m\u001b[0m\n\u001b[0;32m     70\u001b[0m     \u001b[1;32mif\u001b[0m \u001b[0mname\u001b[0m \u001b[1;33m==\u001b[0m \u001b[0m_DEFAULT_APP_NAME\u001b[0m\u001b[1;33m:\u001b[0m\u001b[1;33m\u001b[0m\u001b[1;33m\u001b[0m\u001b[0m\n\u001b[1;32m---> 71\u001b[1;33m         raise ValueError((\n\u001b[0m\u001b[0;32m     72\u001b[0m             \u001b[1;34m'The default Firebase app already exists. This means you called '\u001b[0m\u001b[1;33m\u001b[0m\u001b[1;33m\u001b[0m\u001b[0m\n\u001b[0;32m     73\u001b[0m             \u001b[1;34m'initialize_app() more than once without providing an app name as '\u001b[0m\u001b[1;33m\u001b[0m\u001b[1;33m\u001b[0m\u001b[0m\n",
      "\u001b[1;31mValueError\u001b[0m: The default Firebase app already exists. This means you called initialize_app() more than once without providing an app name as the second argument. In most cases you only need to call initialize_app() once. But if you do want to initialize multiple apps, pass a second argument to initialize_app() to give each app a unique name."
     ]
    }
   ],
   "source": [
    "cred = credentials.Certificate('serviceAccount.json')\n",
    "firebase_admin.initialize_app(cred)\n"
   ]
  },
  {
   "cell_type": "markdown",
   "metadata": {},
   "source": [
    "# Checkout the collections and documents"
   ]
  },
  {
   "cell_type": "code",
   "execution_count": 17,
   "metadata": {},
   "outputs": [
    {
     "name": "stdout",
     "output_type": "stream",
     "text": [
      "['Blogs', 'Coaches', 'Events', 'Masterclasses', 'Snax', 'Users']\n"
     ]
    }
   ],
   "source": [
    "#get list of collections\n",
    "db = firestore.client()\n",
    "collections = [x.id for x in db.collections()]\n",
    "fake = Faker()\n",
    "print(collections)"
   ]
  },
  {
   "cell_type": "markdown",
   "metadata": {},
   "source": [
    "<h1 style=\"color:yellow\">Constants from Dagmarverse</h1>"
   ]
  },
  {
   "cell_type": "code",
   "execution_count": 5,
   "metadata": {},
   "outputs": [],
   "source": [
    "CLASSROOMS = [\n",
    "    \"Job\",\n",
    "    \"Geld für morgen\",\n",
    "    \"Partnerschaft\",\n",
    "    \"Gründung\",\n",
    "    \"Familie\",\n",
    "    \"Investieren\",\n",
    "    \"Ausbildung\"\n",
    "]\n",
    "\n",
    "MASTERCLASSES = [\n",
    "    \"Unternehmensführung mit leichtem Gepäck\",\n",
    "    \"Unternehmer-Mindset - Tätigkeiten auslagern\",\n",
    "    \"Tipps & Tricks zu Content Creation\",\n",
    "    \"Sicher in dein Bewerbungsgespräch\",\n",
    "    \"Was ist Selbstwertgefühl - Die Auswirkungen auf Beziehung & Karriere und wie du es verbessern kannst 6 Fachwissen Vertrieb\",\n",
    "    \"Die Immobilie als Altersvorsorge: Rechtliche Tipps für mehr finanzielle Sicherheit\",\n",
    "    \"Wie funktionieren Versicherungen?\",\n",
    "    \"Versicherung für Student:innen\",\n",
    "    \"Mindset Vertrieb\",\n",
    "    \"Immobilien-Verkauf Basics\"\n",
    "]\n",
    "\n",
    "SNAX = [\n",
    "    \"Was muss ich bei der Versandverpackung meiner Produkte beachten?\",\n",
    "    \"Wie sichere ich die Zukunft meines Kindes ab?\",\n",
    "    \"Wie sichere ich meinen Online-Shop rechtlich ab?\",\n",
    "    \"Wie informiere ich mich über finanzielle Entlastungsmöglichkeiten?\",\n",
    "    \"Soll ich mein Depot bei einer Bank oder über eine App eröffnen?\",\n",
    "    \"In welche ETFs sollte ich investieren?\",\n",
    "    \"Wofür brauche ich ein Depot?\",\n",
    "    \"Welches Budget sollte ich für SEA Marketing einplanen?\",\n",
    "    \"Wie gehe ich mit unschöner Post um?\",\n",
    "    \"Was für eine Domain soll ich für meinen Online-Shop nehmen?\",\n",
    "    \"Was ist die Gender Pension Gap?\",\n",
    "    \"Was muss ich beim Abschluss einer Haftpflichtversicherung beachten?\",\n",
    "    \"Welche Versicherungen brauche ich für meine Wohnung?\",\n",
    "    \"Wie viele Schulden darf ich beim Gründen machen?\",\n",
    "    \"Der erste Schritt zur Gründung\",\n",
    "    \"ETF oder Aktie?\",\n",
    "    \"Wann sollte ich anfangen zu investieren?\",\n",
    "    \"Lea Mishras größter Fehler beim Investieren\",\n",
    "    \"Was sollte ich beim Investieren in Kryptowährungen beachten? 20 Persönliche Finanzen und Glück\",\n",
    "    \"Wie komme ich an Tipps für mein Gründungsunternehmen?\",\n",
    "    \"Was nützt mir eine Personal Brand?\",\n",
    "    \"Wie Mahabat ihr Business gestartet hat\",\n",
    "    \"Wie kann ich meine Chancen auf dem Arbeitsmarkt verbessern?\",\n",
    "    \"Mahabats Tipp für Gründer*innen\"  \n",
    "]\n",
    "\n",
    "BLOGS = [\n",
    "    {\"title\": \"Finanzplanung leicht gemacht: Die 50:30:20 Regel\", \"author\": \"dagmar\"},\n",
    "    {\"title\": \"Die Börse im Überblick\", \"author\": \"dagmar\"},\n",
    "    {\"title\": \"Die 5 Grundregeln des Investierens\", \"author\": \"dagmar\"},\n",
    "    {\"title\": \"Betriebliche Altersvorsorge (bAV): Überblick und Formen\", \"author\": \"dagmar\"},\n",
    "    {\"title\": \"Mehr als nur Geld: Warum Selbstfürsorge der Schlüssel zur finanziellen Zufriedenheit ist\", \"author\": \"dagmar\"},\n",
    "    {\"title\": \"Haushaltsbuch: Dein Schlüssel zu finanzieller Kontrolle und Unabhängigkeit\", \"author\": \"dagmar\"},\n",
    "    {\"title\": \"Der Cost-Average-Effekt: Kluger Weg zur langfristigen Investition\", \"author\": \"dagmar\"},\n",
    "    {\"title\": \"Die Verbesserten KfW-Fördermöglichkeiten für Familien in 2023\", \"author\": \"PHI\"},\n",
    "    {\"title\": \"Was Selbstsändige von der Steuer absetzen können: Elne Übersicht\", \"author\": \"dagmar\"},\n",
    "    {\"title\": \"Immobilien geerbt: Diese Fragen solltest du dir jetzt stellen\", \"author\": \"PHI\"},\n",
    "    {\"title\": \"Größeres Angebot, Bessere Kaufchance für Immobilien?\", \"author\": \"PHI\"},\n",
    "    {\"title\": \"Die 5 Pflichten des Immobilieneigentümers\", \"author\": \"PHI\"},\n",
    "    {\"title\": \"Checkliste: Welche Unterlagen brauche ich für die Immobilienfinanzierung?\", \"author\": \"PHI\"},\n",
    "    {\"title\": \"Scheitern ist kein Weltuntergang!\", \"author\": \"Coralie Richter\"},\n",
    "    {\"title\": \"Scheitern ist menschlich\", \"author\": \"Coralie Richter\"},\n",
    "    {\"title\": \"Im Scheitern liegt das Glück\", \"author\": \"Coralie Richter\"},\n",
    "    {\"title\": \"Die Möglichkeiten sind grenzenlos\", \"author\": \"Coralie Richter\"},\n",
    "    {\"title\": \"Traden vs. Langfristiges Investieren in Aktien: 2 Wege, ein Ziel\", \"author\": \"Emilia Bolda\"},\n",
    "    {\"title\": \"Von Bullen und Bären - die faszinierende Sprache der Börse\", \"author\": \"Emilia Bolda\"},\n",
    "    {\"title\": \"Impact Investing - Investieren mit positivem Einfluss\", \"author\": \"Emilia Bolda\"},\n",
    "    {\"title\": \"Lerne in 10 Schritten wie die Börse funktioniert\", \"author\": \"Emilia Bolda\"},\n",
    "    {\"title\": \"Die 5 häufigsten Fehler beim Aktienkauf\", \"author\": \"Emilia Bolda\"}\n",
    "]\n",
    "\n",
    "AUTOREN = [\n",
    "    \"Holger Stollenwerk\",\n",
    "    \"Lily Airich\",\n",
    "    \"Gonzalo Agusti Cordano\",\n",
    "    \"Jan P. & Alexander W.\",\n",
    "    \"Bilgehan Karatas\",\n",
    "    \"Matthias Rummler\",\n",
    "    \"Achim Stollenwerk\",\n",
    "    \"Bilgehan Karatas\",\n",
    "    \"PHI Immobilien\"\n",
    "]\n",
    "\n",
    "MIN_DAUER = 5\n",
    "MAX_DAUER = 3 * 60\n",
    "\n",
    "autoren_length = len(AUTOREN) - 1\n",
    "classrooms_length = len(CLASSROOMS) - 1\n",
    "SNAX_length = len(SNAX) - 1\n",
    "BLOGS_length = len(BLOGS) - 1\n",
    "\n",
    "\n",
    "masterclasses_length = len(MASTERCLASSES) - 1\n"
   ]
  },
  {
   "cell_type": "markdown",
   "metadata": {},
   "source": [
    "# Generate fake data and load into firestore"
   ]
  },
  {
   "cell_type": "markdown",
   "metadata": {},
   "source": [
    "### Masterclasses Collection"
   ]
  },
  {
   "cell_type": "code",
   "execution_count": 18,
   "metadata": {},
   "outputs": [],
   "source": [
    "masterclassCollection = db.collection('Masterclasses')\n",
    "\n",
    "list_of_levels = [\"Basic\", \"Medium\", \"Advanced\"]\n",
    "list_of_status = [\"locked\", \"unlocked\", \"completed\"]"
   ]
  },
  {
   "cell_type": "code",
   "execution_count": 19,
   "metadata": {},
   "outputs": [],
   "source": [
    "\n",
    "\n",
    "\n",
    "for i in range(len(MASTERCLASSES)):\n",
    "    title = MASTERCLASSES[i]\n",
    "    classrooms =  [CLASSROOMS[fake.random_int(max=classrooms_length)] for i in range(fake.random_int(2, 3))]\n",
    "    autor = AUTOREN[fake.random_int(max=autoren_length)]\n",
    "    id = i + 1\n",
    "    level = list_of_levels[fake.random_int(0, 2)]\n",
    "    points = 0\n",
    "    if level == \"Basic\":\n",
    "        points = points = fake.random_int(5, 10) * 10\n",
    "    elif level == \"Medium\":\n",
    "        points = points = fake.random_int(18, 21) * 10\n",
    "    else:\n",
    "        points = points = fake.random_int(30, 35) * 10\n",
    "    data = {\n",
    "        \"art\": \"Masterclass\",\n",
    "        \"author\": autor,\n",
    "        \"classroom\" : classrooms,\n",
    "        \"courseLessons\" : [fake.random_int(1, 5) for i in range(fake.random_int(1, 5))],\n",
    "        \"courseOverview\": {\"AboutAuthor\" : fake.text(50) + \"...\", \"AboutCourse\" : fake.text(50) + \"...\"},\n",
    "        \"description\" : fake.text(max_nb_chars=50) + \"...\",\n",
    "        \"duration\" : fake.random_int(MIN_DAUER, MAX_DAUER),\n",
    "        \"filterTags\": classrooms,\n",
    "        \"id\": id,\n",
    "        \"lessons\": fake.random_int(1, 100),\n",
    "        \"level\": level,\n",
    "        \"points\": points,\n",
    "        \"progress\": 0,\n",
    "        \"status\": list_of_status[fake.random_int(0, 2)],\n",
    "        \"tags\" : classrooms,\n",
    "        \"thumbnail\" : fake.image_url([\"facebook\"]),\n",
    "        \"title\" : title,\n",
    "        \"videoUrl\" : fake.url([\"video\"]),\n",
    "        \"enrollment_count\": fake.random_int(0, 100)\n",
    "    }\n",
    "    #masterclassCollection.add(data)\n",
    "    print(data)\n"
   ]
  },
  {
   "cell_type": "markdown",
   "metadata": {},
   "source": [
    "### Users Collection"
   ]
  },
  {
   "cell_type": "code",
   "execution_count": 26,
   "metadata": {},
   "outputs": [
    {
     "name": "stdout",
     "output_type": "stream",
     "text": [
      "Requirement already satisfied: numpy in c:\\users\\49152\\appdata\\local\\packages\\pythonsoftwarefoundation.python.3.8_qbz5n2kfra8p0\\localcache\\local-packages\\python38\\site-packages (1.24.4)\n"
     ]
    },
    {
     "name": "stderr",
     "output_type": "stream",
     "text": [
      "\n",
      "[notice] A new release of pip is available: 23.1.2 -> 23.3.1\n",
      "[notice] To update, run: C:\\Users\\49152\\AppData\\Local\\Microsoft\\WindowsApps\\PythonSoftwareFoundation.Python.3.8_qbz5n2kfra8p0\\python.exe -m pip install --upgrade pip\n"
     ]
    }
   ],
   "source": [
    "!pip install numpy"
   ]
  },
  {
   "cell_type": "code",
   "execution_count": 52,
   "metadata": {},
   "outputs": [],
   "source": [
    "import random\n",
    "usersCollection = db.collection('Users')\n",
    "\n",
    "list_of_account_Types = [\"admin\", \"master\", \"superadmin\", \"instructor\"]\n",
    "list_of_Education = [\"Schule\", \"Abitur\", \"Realschulabschluss\", \"Hochschulabschluss\", \"Bachelor\", \"Master\", \"Promotion\", \"Ausbildung\"]\n",
    "\n",
    "\n",
    "\n",
    "Berlin = [10115,10117,10119,10178,10179, 10243,10245,10247,10249 ,10405,10407,10409,10435,10437,10439, 12679,12681,12683,12685,12687,12689 , 13347,13349,13351,13353,13355,13357,13359]\n",
    "Aachen = [52062, 52064, 52066, 52068, 52070, 52072, 52074, 52076, 52078]\n",
    "Munich =  [\t80538, 80539, 80799, 80801, 80802, 80803, 80804, 80805, 80807, 80939, 80335, 80634, 80636, 80637, 80638, 80639, 80797, 80809, 80992]\n",
    "Cologne = [\t50668, 50670, 50672, 50674, \t50667, 50668, 50670, 50672, \t50825, 50827]\n",
    "Frankfurt = [\t60325, 60431, 60486, 60487, \t60320, 60322, 60431, 60433, 60435, \t60310, 60311, 60312, 60313, 60318, 60322, 60329, \t60316, 60318, 60320, 60322, 60389, 60435]\n",
    "Duesseldorf = [40547 ]\n",
    "Leipzig =  [4109, 4357]\n",
    "Stuttgart= [\t70191, 70372, 70374, 70376, 70378, 70192, 70469, 70499, \t70173, 70174, 70176, 70178, 70180, 70182, 70184, 70188, 70190, \t70174, 70191, 70192, 70193, \t70184, 70186, 70188, 70190, 70327]\n",
    "Hamburg = [\t22111, 22113, 22115, 22117, 22119, \t20097, 20535, 20537, 22087, 22089, 22111, \t20354, 20355, 20357, 20359, 20459, 22767, 22769]\n",
    "Essen = [45130, 45131, 45133, 45136, 45147, 45128, 45138, 45139, \t45136, 45138, 45139]\n",
    "Hannover = [\t30159, 30161, 30167, 30169, 30171, 30175, \t30519, 30521, 30539, \t30159, 30169, 30171, 30173, 30175, 30519]\n",
    "Bonn = [53111, 53113, 53115, \t53123, 53125 ]\n",
    "Dortmund = [\t44135, 44137, 44139, 44141, 44143, 44145, 44147, 44149, 44225, 44227, 44263, 44329, 44339, 44369, \t44143, 44263, 44269, 44287, 44267, 44269, 44287]\n",
    "\n",
    "\n",
    "CITIES = [\n",
    "    {\"name\": \"Munich\", \"PLZ\": Munich},\n",
    "    {\"name\": \"Aachen\", \"PLZ\": Aachen},\n",
    "    {\"name\": \"Berlin\", \"PLZ\": Berlin},\n",
    "    {\"name\": \"Cologne\", \"PLZ\": Cologne},\n",
    "    {\"name\": \"Frankfurt\", \"PLZ\": Frankfurt},\n",
    "    {\"name\": \"Düsseldorf\", \"PLZ\": Duesseldorf},\n",
    "    {\"name\": \"Leipzig\", \"PLZ\": Leipzig},\n",
    "    {\"name\": \"Stuttgart\", \"PLZ\": Stuttgart},\n",
    "    {\"name\": \"Hamburg\", \"PLZ\": Hamburg},\n",
    "    {\"name\": \"Essen\", \"PLZ\": Essen},\n",
    "    {\"name\": \"Hannover\", \"PLZ\": Hannover},\n",
    "    {\"name\": \"Bonn\", \"PLZ\": Bonn},\n",
    "    {\"name\": \"Dortmund\", \"PLZ\": Dortmund},\n",
    "]\n",
    "\n",
    "\n",
    "\n",
    "cities_length = len(CITIES) - 1\n",
    "\n",
    "## normal dirtibution for age\n",
    "mu, sigma = 30, 6\n",
    "s = np.random.normal(mu, sigma, 100)\n",
    "s = [int(number) for number in s]\n",
    "birthdates = [fake.date_of_birth(minimum_age=number, maximum_age=number) for number in s]\n",
    "\n",
    "\n",
    "\n",
    "for i in range(100):\n",
    "    city = CITIES[fake.random_int(max=cities_length)]\n",
    "    course_enrolled = fake.random_int(0, 5)\n",
    "    city_name = city[\"name\"]\n",
    "    plzS = city[\"PLZ\"]\n",
    "    plzS_length = len(plzS) - 1\n",
    "    plz = plzS[fake.random_int(max=plzS_length)]\n",
    "\n",
    "    interest = []\n",
    "    for classroom in CLASSROOMS:\n",
    "        interest += [{\"classroom\": classroom, \"score\": fake.random_int(max=100)}]\n",
    "    data = {\n",
    "        \"id\": i + 2,\n",
    "        \"accType\": \"Customer\" if random.random() < 0.95 else list_of_account_Types[fake.random_int(0, 3)],\n",
    "        \"advisor\": fake.name(),\n",
    "        \"advisorACID\": \"advisor reference\" + str(i),\n",
    "        \"city\": city_name,\n",
    "        \"email\": fake.email(),\n",
    "        \"firstName\": fake.first_name(),\n",
    "        \"joined\": fake.date(),\n",
    "        \"lifetime\" : fake.random_int(0, 5),\n",
    "        \"postalCode\": plz,\n",
    "        \"refACID\": \"reference\" + str(i),\n",
    "        \"role\": fake.job(),\n",
    "        \"surname\": fake.last_name(),\n",
    "        \"Gender\": list([\"Male\", \"Female\"])[fake.random_int(0, 1)],\n",
    "        \"Income\": fake.random_int(10000, 80000),\n",
    "        \"Birthdate\": fake.date_of_birth(minimum_age=13, maximum_age=50).strftime('%Y/%m/%d'),\n",
    "        \"Education\": list_of_Education[fake.random_int(0, len(list_of_Education) - 1)],\n",
    "        \"Employment_status\": [\"unemployed\", \"employed\"][fake.random_int(0, 1)],\n",
    "        \"Watched\": [ {\"Masterclass\" : fake.random_int(1, max=masterclasses_length + 1), \"progress\": str(fake.random_int(0, 500)) + \" min\"} for i in range(fake.random_int(0, 5))],\n",
    "        \"Interest\": interest,\n",
    "        \"Total_Watchtime\" : str(fake.random_int(0, 100000)) + \" min\",\n",
    "        \"Avg_session_duration\": str(fake.random_int(0, 200)) + \" min\",\n",
    "        \"Courses_enrolled\" : course_enrolled,\n",
    "        \"Courses_completed\" : fake.random_int(0, course_enrolled),\n",
    "        \"course_saved\": fake.random_int(0, course_enrolled + 5)\n",
    "    }\n",
    "    #usersCollection.add(data)\n",
    "    print(data)"
   ]
  },
  {
   "cell_type": "markdown",
   "metadata": {},
   "source": [
    "### Coach Collection"
   ]
  },
  {
   "cell_type": "code",
   "execution_count": 8,
   "metadata": {},
   "outputs": [],
   "source": [
    "#coachCollection = db.collection('Coaches')\n",
    "\n",
    "for i in range(100): \n",
    "    data = {\n",
    "        \"about\": fake.text(50),\n",
    "        \"blogs\": [fake.text(50) + \"...\" for i in range(fake.random_int(1, 5))],\n",
    "        \"books\": [fake.word() for i in range(fake.random_int(1, 5))],\n",
    "        \"facebook\": fake.url(),\n",
    "        \"id\": i+2,\n",
    "        \"image\": [fake.name()+ \".jpg\" for i in range(fake.random_int(1, 5))],\n",
    "        \"instagram\": fake.url([\"instagram\"]),\n",
    "        \"linkedin\": fake.url([\"linkedin\"]),\n",
    "        \"link\": fake.url(),\n",
    "        \"masterclass\": [{\"name\": fake.name()} for i in range(fake.random_int(1, 5))],\n",
    "        \"podcasts\" : [{\"position\": fake.job(), \"website\": fake.url(), \"xing\": fake.url()} for i in range(fake.random_int(1, 5))],\n",
    "        \"Name\": fake.name(),\n",
    "        \"position\": fake.job()\n",
    "    }\n",
    "    #coachCollection.add(data)\n",
    "    print(data)"
   ]
  },
  {
   "cell_type": "code",
   "execution_count": 9,
   "metadata": {},
   "outputs": [],
   "source": [
    "eventCollection = db.collection('Events')\n",
    "\n",
    "from datetime import date\n",
    "\n",
    "Event_Types = [\"enroll_course\", \"save_course\", \"unsave_course\", \"complete_course\", \"complete_lesson\", \"login\", \"logout\", \"Berater_kontaktieren\", \"Berater_wechseln\"]\n",
    "for i in range(200): \n",
    "    data = {\n",
    "        \"Event-ID\": i + 2,\n",
    "        \"User-Id\": fake.random_int(2, 101),\n",
    "        \"Timestamp\":  fake.date_between(start_date='-2y').strftime('%Y/%m/%d'),\n",
    "        \"Event-Type\" : Event_Types[fake.random_int(0, len(Event_Types) - 1)],\n",
    "        \"Event-Specific-Information\" : fake.text()\n",
    "    }\n",
    "    eventCollection.add(data)\n",
    "    #print(data)\n"
   ]
  },
  {
   "cell_type": "code",
   "execution_count": 10,
   "metadata": {},
   "outputs": [],
   "source": [
    "# nicht nutzen wegen täglichem Limit von Operationen\n",
    "def delete_collection(coll_ref, batch_size):\n",
    "    docs = coll_ref.list_documents(page_size=batch_size)\n",
    "    deleted = 0\n",
    "\n",
    "    for doc in docs:\n",
    "        print(f\"Deleting doc {doc.id} => {doc.get().to_dict()}\")\n",
    "        doc.delete()\n",
    "        deleted = deleted + 1\n",
    "\n",
    "    if deleted >= batch_size:\n",
    "        return delete_collection(coll_ref, batch_size)\n",
    "#db = firestore.client()\n",
    "#collections = [x for x in db.collections()]\n",
    "#for collection in collections:\n",
    "    #delete_collection(collection, 0)"
   ]
  },
  {
   "cell_type": "markdown",
   "metadata": {},
   "source": [
    "### Blogs Collection"
   ]
  },
  {
   "cell_type": "code",
   "execution_count": 13,
   "metadata": {},
   "outputs": [],
   "source": [
    "blogsCollection = db.collection('Blogs')"
   ]
  },
  {
   "cell_type": "code",
   "execution_count": 15,
   "metadata": {},
   "outputs": [],
   "source": [
    "fake = Faker()\n",
    "for i in range(len(BLOGS)):\n",
    "    blog = BLOGS[i]\n",
    "    classroom = [CLASSROOMS[fake.random_int(max=classrooms_length)] for _ in range(fake.random_int(1, 3))]\n",
    "    data = {\n",
    "        \"title\": blog[\"title\"],\n",
    "        \"author\": blog[\"author\"],\n",
    "        \"about\": fake.text(50),\n",
    "        \"details\": fake.text(50),\n",
    "        \"image\": fake.image_url([\"facebook\"]),\n",
    "        \"introduction\": fake.text(50),\n",
    "        \"tags\": classroom,\n",
    "        \"thumbnail\": fake.image_url([\"facebook\"]),\n",
    "        \"image\": fake.image_url([\"facebook\"]),\n",
    "        \"art\":fake.word(),\n",
    "        \"classroom\": classroom,   \n",
    "        \"duration\": fake.random_int(1, 100),\n",
    "        \"blogData\": fake.text(50),\n",
    "        \"date\": fake.date(),\n",
    "    }\n",
    "    blogsCollection.add(data)\n",
    "    #print(data)"
   ]
  },
  {
   "cell_type": "markdown",
   "metadata": {},
   "source": [
    "### Snax Collection"
   ]
  },
  {
   "cell_type": "code",
   "execution_count": 10,
   "metadata": {},
   "outputs": [],
   "source": [
    "snaxCollection = db.collection('Snax')"
   ]
  },
  {
   "cell_type": "code",
   "execution_count": 11,
   "metadata": {},
   "outputs": [
    {
     "name": "stdout",
     "output_type": "stream",
     "text": [
      "{'title': 'Part program image.', 'art': 'Snax', 'author': 'Stephanie Rhodes', 'description': 'Long feel claim short edge.', 'videoUrl': 'video://www.burgess.com/', 'progress': 84, 'thumbnail': \"/snax/https://placekitten.com/['facebook']/107\", 'status': 'unlocked', 'classroom': ['South Davidstad', 'Andersontown'], 'level': 'Beginner', 'duration': 40}\n",
      "{'title': 'Finish question.', 'art': 'Snax', 'author': 'William Vargas', 'description': 'Program ready early thought. Son he financial.', 'videoUrl': 'video://murray-leblanc.com/', 'progress': 82, 'thumbnail': \"/snax/https://placekitten.com/['facebook']/334\", 'status': 'unlocked', 'classroom': ['Hollandchester', 'Adamsland', 'South Christina', 'Ericamouth'], 'level': 'Beginner', 'duration': 6}\n",
      "{'title': 'Would power.', 'art': 'Snax', 'author': 'Joshua Kelley', 'description': 'Different summer bad pay source.', 'videoUrl': 'video://www.thomas-blevins.com/', 'progress': 32, 'thumbnail': \"/snax/https://dummyimage.com/['facebook']x92\", 'status': 'unlocked', 'classroom': ['South Robert'], 'level': 'Beginner', 'duration': 81}\n",
      "{'title': 'Sure beat ready.', 'art': 'Snax', 'author': 'Amy Collins', 'description': 'Idea other which church writer next smile.', 'videoUrl': 'video://keller.com/', 'progress': 76, 'thumbnail': \"/snax/https://picsum.photos/['facebook']/655\", 'status': 'unlocked', 'classroom': ['West Joshua', 'South Williamshire', 'Romerohaven', 'New Jennifer', 'Lake Kathyside'], 'level': 'Beginner', 'duration': 32}\n",
      "{'title': 'Tonight help order.', 'art': 'Snax', 'author': 'Jasmine Houston', 'description': 'Six serve let while yet know clearly.', 'videoUrl': 'video://www.carpenter-taylor.com/', 'progress': 54, 'thumbnail': \"/snax/https://dummyimage.com/['facebook']x602\", 'status': 'unlocked', 'classroom': ['Smithtown', 'New Amandachester', 'North John', 'New Zachary', 'North Courtney'], 'level': 'Beginner', 'duration': 81}\n",
      "{'title': 'Nation dinner.', 'art': 'Snax', 'author': 'Jessica Carter', 'description': 'Rate image skill structure food.', 'videoUrl': 'video://jones.com/', 'progress': 72, 'thumbnail': \"/snax/https://picsum.photos/['facebook']/331\", 'status': 'unlocked', 'classroom': ['Hernandezville', 'Ballside'], 'level': 'Beginner', 'duration': 46}\n",
      "{'title': 'Possible important.', 'art': 'Snax', 'author': 'William Baird', 'description': 'Draw kitchen response from us manage.', 'videoUrl': 'video://www.fuller.com/', 'progress': 96, 'thumbnail': \"/snax/https://dummyimage.com/['facebook']x893\", 'status': 'unlocked', 'classroom': ['Chapmanmouth', 'West Tracy', 'Crawfordmouth'], 'level': 'Beginner', 'duration': 11}\n",
      "{'title': 'On hit whole mind.', 'art': 'Snax', 'author': 'Andrew Jordan', 'description': 'Too we good protect result among.', 'videoUrl': 'video://williamson.com/', 'progress': 46, 'thumbnail': \"/snax/https://placekitten.com/['facebook']/910\", 'status': 'unlocked', 'classroom': ['Gatestown', 'Port Lorichester', 'West Anthonybury', 'Lake David', 'Hughestown'], 'level': 'Beginner', 'duration': 33}\n",
      "{'title': 'Structure phone.', 'art': 'Snax', 'author': 'Brian White', 'description': 'Value agent record brother.', 'videoUrl': 'video://www.taylor-patton.biz/', 'progress': 25, 'thumbnail': \"/snax/https://placekitten.com/['facebook']/768\", 'status': 'unlocked', 'classroom': ['New Virginiastad'], 'level': 'Beginner', 'duration': 27}\n",
      "{'title': 'Charge popular sing.', 'art': 'Snax', 'author': 'Darryl Ellis', 'description': 'Conference cultural maybe by wrong piece.', 'videoUrl': 'video://brown.com/', 'progress': 54, 'thumbnail': \"/snax/https://placekitten.com/['facebook']/662\", 'status': 'unlocked', 'classroom': ['Dunnhaven', 'South Sydney', 'South Gregory', 'East Brianberg'], 'level': 'Beginner', 'duration': 26}\n",
      "{'title': 'Offer discuss worry.', 'art': 'Snax', 'author': 'Kurt Dixon', 'description': 'Upon debate another else way often.', 'videoUrl': 'video://www.jackson.com/', 'progress': 13, 'thumbnail': \"/snax/https://placekitten.com/['facebook']/863\", 'status': 'unlocked', 'classroom': ['West Erinmouth', 'Lake Edward', 'Christianbury', 'Newmanville', 'Johnsonfort'], 'level': 'Beginner', 'duration': 80}\n",
      "{'title': 'Note drive feeling.', 'art': 'Snax', 'author': 'Shannon Peters', 'description': 'With point reveal to join.', 'videoUrl': 'video://lynch.com/', 'progress': 83, 'thumbnail': \"/snax/https://dummyimage.com/['facebook']x393\", 'status': 'unlocked', 'classroom': ['Lake Christopherborough', 'Ericaview', 'South Michael'], 'level': 'Beginner', 'duration': 39}\n",
      "{'title': 'Simply third late.', 'art': 'Snax', 'author': 'Jason Floyd', 'description': 'Pass be they spend hour.', 'videoUrl': 'video://www.odonnell.com/', 'progress': 99, 'thumbnail': \"/snax/https://placekitten.com/['facebook']/207\", 'status': 'unlocked', 'classroom': ['North Jonathanview', 'South Robert', 'New Nathan', 'Emilyberg', 'Jordanborough'], 'level': 'Beginner', 'duration': 86}\n",
      "{'title': 'Race often strong.', 'art': 'Snax', 'author': 'John Benson', 'description': 'Notice still work law serious health.', 'videoUrl': 'video://www.pierce-davila.net/', 'progress': 2, 'thumbnail': \"/snax/https://dummyimage.com/['facebook']x18\", 'status': 'unlocked', 'classroom': ['Port Ellenfort', 'North Lance'], 'level': 'Beginner', 'duration': 64}\n",
      "{'title': 'Source message.', 'art': 'Snax', 'author': 'Lindsey Moore MD', 'description': 'View sport lawyer out own.', 'videoUrl': 'video://www.johnson.com/', 'progress': 71, 'thumbnail': \"/snax/https://dummyimage.com/['facebook']x160\", 'status': 'unlocked', 'classroom': ['Port Desiree', 'Lorishire'], 'level': 'Beginner', 'duration': 60}\n",
      "{'title': 'Life yeah smile.', 'art': 'Snax', 'author': 'Michael Cannon', 'description': 'Later song which deal including.', 'videoUrl': 'video://payne.com/', 'progress': 24, 'thumbnail': \"/snax/https://picsum.photos/['facebook']/422\", 'status': 'unlocked', 'classroom': ['Berryburgh'], 'level': 'Beginner', 'duration': 97}\n",
      "{'title': 'Choice effort hotel.', 'art': 'Snax', 'author': 'Denise Garcia', 'description': 'Policy office front near these everybody.', 'videoUrl': 'video://willis-chavez.net/', 'progress': 27, 'thumbnail': \"/snax/https://placekitten.com/['facebook']/429\", 'status': 'unlocked', 'classroom': ['Mooreshire', 'Kendrafurt', 'Donnaview', 'Williamston', 'Luisville'], 'level': 'Beginner', 'duration': 65}\n",
      "{'title': 'Somebody people.', 'art': 'Snax', 'author': 'William Walters', 'description': 'Brother talk line then step including.', 'videoUrl': 'video://www.cruz.com/', 'progress': 81, 'thumbnail': \"/snax/https://picsum.photos/['facebook']/983\", 'status': 'unlocked', 'classroom': ['New Williammouth', 'West Jeanetteberg', 'Morenohaven', 'New Carl', 'Huntstad'], 'level': 'Beginner', 'duration': 13}\n",
      "{'title': 'Rest enough cup.', 'art': 'Snax', 'author': 'Taylor Crawford', 'description': 'Particularly style play believe type.', 'videoUrl': 'video://wood.com/', 'progress': 59, 'thumbnail': \"/snax/https://dummyimage.com/['facebook']x239\", 'status': 'unlocked', 'classroom': ['Andersonburgh', 'Maciashaven', 'Lindseymouth', 'Oliviaview'], 'level': 'Beginner', 'duration': 6}\n",
      "{'title': 'Detail effort enter.', 'art': 'Snax', 'author': 'Jessica Rodriguez', 'description': 'Maintain since sport can experience also.', 'videoUrl': 'video://www.jordan.net/', 'progress': 28, 'thumbnail': \"/snax/https://dummyimage.com/['facebook']x849\", 'status': 'unlocked', 'classroom': ['Laurafurt'], 'level': 'Beginner', 'duration': 43}\n",
      "{'title': 'Act board industry.', 'art': 'Snax', 'author': 'Hannah Beck', 'description': 'Reflect candidate foot citizen right real.', 'videoUrl': 'video://santiago.biz/', 'progress': 49, 'thumbnail': \"/snax/https://placekitten.com/['facebook']/15\", 'status': 'unlocked', 'classroom': ['Port Davidside', 'Port Elizabeth'], 'level': 'Beginner', 'duration': 72}\n",
      "{'title': 'Election partner.', 'art': 'Snax', 'author': 'Julie Cowan', 'description': 'Word truth soldier again indeed.', 'videoUrl': 'video://spears.com/', 'progress': 73, 'thumbnail': \"/snax/https://dummyimage.com/['facebook']x1024\", 'status': 'unlocked', 'classroom': ['Simmonsburgh'], 'level': 'Beginner', 'duration': 12}\n",
      "{'title': 'Guy security.', 'art': 'Snax', 'author': 'Kaitlyn Gibbs', 'description': 'Market become big smile employee else who.', 'videoUrl': 'video://le.com/', 'progress': 97, 'thumbnail': \"/snax/https://picsum.photos/['facebook']/56\", 'status': 'unlocked', 'classroom': ['North Candacemouth', 'New Dawn', 'South Jeffrey'], 'level': 'Beginner', 'duration': 32}\n",
      "{'title': 'Skin leg suffer.', 'art': 'Snax', 'author': 'Julie Brown', 'description': 'From including trial these.', 'videoUrl': 'video://day.biz/', 'progress': 80, 'thumbnail': \"/snax/https://picsum.photos/['facebook']/836\", 'status': 'unlocked', 'classroom': ['Jasonbury', 'Taylorberg', 'Martinezmouth'], 'level': 'Beginner', 'duration': 52}\n",
      "{'title': 'Fine hot agreement.', 'art': 'Snax', 'author': 'Donna Barr', 'description': 'Officer education raise Democrat may trial may.', 'videoUrl': 'video://www.hayes.net/', 'progress': 21, 'thumbnail': \"/snax/https://picsum.photos/['facebook']/975\", 'status': 'unlocked', 'classroom': ['East Amy', 'Davidmouth'], 'level': 'Beginner', 'duration': 81}\n",
      "{'title': 'Mr single budget.', 'art': 'Snax', 'author': 'Cynthia Vega', 'description': 'Southern business area when hair level reason.', 'videoUrl': 'video://king.com/', 'progress': 15, 'thumbnail': \"/snax/https://picsum.photos/['facebook']/723\", 'status': 'unlocked', 'classroom': ['East Arthurside', 'North Ashleyshire', 'Melissamouth', 'Brianport', 'North Michaelville'], 'level': 'Beginner', 'duration': 60}\n",
      "{'title': 'Firm wrong tend.', 'art': 'Snax', 'author': 'Robert Patterson', 'description': 'Human skin difficult threat write.', 'videoUrl': 'video://www.patrick.biz/', 'progress': 91, 'thumbnail': \"/snax/https://dummyimage.com/['facebook']x108\", 'status': 'unlocked', 'classroom': ['Michaelfurt'], 'level': 'Beginner', 'duration': 68}\n",
      "{'title': 'Despite although.', 'art': 'Snax', 'author': 'Jasmine Wood', 'description': 'Research among land collection ago.', 'videoUrl': 'video://lee-baker.com/', 'progress': 67, 'thumbnail': \"/snax/https://placekitten.com/['facebook']/19\", 'status': 'unlocked', 'classroom': ['Reneefurt', 'Keithfort', 'Kellyton', 'Port Eric', 'South Patricia'], 'level': 'Beginner', 'duration': 34}\n",
      "{'title': 'Oil many must.', 'art': 'Snax', 'author': 'Peter Miller', 'description': 'Or suffer need. Paper fast during country hotel.', 'videoUrl': 'video://rodriguez.biz/', 'progress': 18, 'thumbnail': \"/snax/https://picsum.photos/['facebook']/483\", 'status': 'unlocked', 'classroom': ['New Barbara', 'Lake Josephport', 'North Michaelport', 'South Johnchester', 'New Elizabeth'], 'level': 'Beginner', 'duration': 86}\n",
      "{'title': 'Between bank early.', 'art': 'Snax', 'author': 'Katherine Beck', 'description': 'Care head name success miss.', 'videoUrl': 'video://www.lang.com/', 'progress': 40, 'thumbnail': \"/snax/https://picsum.photos/['facebook']/800\", 'status': 'unlocked', 'classroom': ['Davidtown', 'West Isabelfort'], 'level': 'Beginner', 'duration': 69}\n",
      "{'title': 'Build authority.', 'art': 'Snax', 'author': 'Danielle Key', 'description': 'Maybe along prevent question fish election book.', 'videoUrl': 'video://harris.com/', 'progress': 44, 'thumbnail': \"/snax/https://dummyimage.com/['facebook']x238\", 'status': 'unlocked', 'classroom': ['Kimborough'], 'level': 'Beginner', 'duration': 14}\n",
      "{'title': 'Suddenly produce.', 'art': 'Snax', 'author': 'Isaac Calderon', 'description': 'Anything charge physical store.', 'videoUrl': 'video://sosa.com/', 'progress': 13, 'thumbnail': \"/snax/https://dummyimage.com/['facebook']x809\", 'status': 'unlocked', 'classroom': ['Port Jeffrey'], 'level': 'Beginner', 'duration': 61}\n",
      "{'title': 'Our owner only wear.', 'art': 'Snax', 'author': 'Tyler Hernandez', 'description': 'Model garden wall church collection sit continue.', 'videoUrl': 'video://www.morris-evans.info/', 'progress': 40, 'thumbnail': \"/snax/https://placekitten.com/['facebook']/176\", 'status': 'unlocked', 'classroom': ['Pinedafurt', 'Hollowayview', 'Lake Zachary', 'Hamiltonfort', 'Nancyside'], 'level': 'Beginner', 'duration': 63}\n",
      "{'title': 'Rise ask top role.', 'art': 'Snax', 'author': 'Ashley Coleman', 'description': 'The remember research leg firm resource.', 'videoUrl': 'video://www.stewart.com/', 'progress': 19, 'thumbnail': \"/snax/https://picsum.photos/['facebook']/424\", 'status': 'unlocked', 'classroom': ['Galvanburgh', 'Lake Karentown', 'South Scotthaven', 'New Loribury', 'Matthewchester'], 'level': 'Beginner', 'duration': 36}\n",
      "{'title': 'They choice dog few.', 'art': 'Snax', 'author': 'Sydney Ramirez', 'description': 'Push fall entire name land.', 'videoUrl': 'video://wilson.info/', 'progress': 93, 'thumbnail': \"/snax/https://dummyimage.com/['facebook']x686\", 'status': 'unlocked', 'classroom': ['Hintontown', 'South Dustinhaven'], 'level': 'Beginner', 'duration': 24}\n",
      "{'title': 'One street put.', 'art': 'Snax', 'author': 'Shawn Murillo', 'description': 'Draw partner threat who follow knowledge think.', 'videoUrl': 'video://taylor.net/', 'progress': 71, 'thumbnail': \"/snax/https://picsum.photos/['facebook']/108\", 'status': 'unlocked', 'classroom': ['East Elizabeth', 'Lake Luis', 'Oscarport', 'Huffhaven'], 'level': 'Beginner', 'duration': 63}\n",
      "{'title': 'Woman according.', 'art': 'Snax', 'author': 'Meagan Morris', 'description': 'Summer over right six. Which even off effort.', 'videoUrl': 'video://waller.com/', 'progress': 13, 'thumbnail': \"/snax/https://picsum.photos/['facebook']/462\", 'status': 'unlocked', 'classroom': ['West Elizabethstad'], 'level': 'Beginner', 'duration': 11}\n",
      "{'title': 'Involve hit hand.', 'art': 'Snax', 'author': 'Sandra Morales', 'description': 'Knowledge measure far culture.', 'videoUrl': 'video://www.reed.org/', 'progress': 80, 'thumbnail': \"/snax/https://dummyimage.com/['facebook']x759\", 'status': 'unlocked', 'classroom': ['Brownfurt'], 'level': 'Beginner', 'duration': 51}\n",
      "{'title': 'Church participant.', 'art': 'Snax', 'author': 'Tim Galvan', 'description': 'Just art type imagine tree wrong common.', 'videoUrl': 'video://freeman.com/', 'progress': 42, 'thumbnail': \"/snax/https://dummyimage.com/['facebook']x562\", 'status': 'unlocked', 'classroom': ['West Monicaborough', 'Harrisborough'], 'level': 'Beginner', 'duration': 68}\n",
      "{'title': 'Understand him kid.', 'art': 'Snax', 'author': 'Michelle Powell', 'description': 'Occur reflect one section support food.', 'videoUrl': 'video://www.wallace.org/', 'progress': 61, 'thumbnail': \"/snax/https://placekitten.com/['facebook']/434\", 'status': 'unlocked', 'classroom': ['West Beckyberg', 'Lake Kim'], 'level': 'Beginner', 'duration': 95}\n",
      "{'title': 'Break than suffer.', 'art': 'Snax', 'author': 'Dennis Jenkins', 'description': 'Bag too recently worker popular do later.', 'videoUrl': 'video://www.thompson-wood.info/', 'progress': 71, 'thumbnail': \"/snax/https://dummyimage.com/['facebook']x289\", 'status': 'unlocked', 'classroom': ['Michelleborough', 'New Ronnieberg', 'Melindaton', 'Aprilfurt', 'West Benjaminchester'], 'level': 'Beginner', 'duration': 48}\n",
      "{'title': 'Make risk music.', 'art': 'Snax', 'author': 'Nathaniel Nunez', 'description': 'Country work go. Edge field either.', 'videoUrl': 'video://moore-campbell.com/', 'progress': 26, 'thumbnail': \"/snax/https://placekitten.com/['facebook']/842\", 'status': 'unlocked', 'classroom': ['Nortonberg', 'Martinezton', 'Herreraberg', 'Petersville'], 'level': 'Beginner', 'duration': 35}\n",
      "{'title': 'Suddenly evening.', 'art': 'Snax', 'author': 'Justin Bowman', 'description': 'Fund move there wide.', 'videoUrl': 'video://www.thompson.com/', 'progress': 100, 'thumbnail': \"/snax/https://dummyimage.com/['facebook']x99\", 'status': 'unlocked', 'classroom': ['Thomasmouth', 'Port Rebecca', 'West Julia', 'Princefurt'], 'level': 'Beginner', 'duration': 6}\n",
      "{'title': 'Evening agreement.', 'art': 'Snax', 'author': 'Stephanie Murphy', 'description': 'News fire continue performance everything assume.', 'videoUrl': 'video://collier-nguyen.com/', 'progress': 47, 'thumbnail': \"/snax/https://dummyimage.com/['facebook']x692\", 'status': 'unlocked', 'classroom': ['Kellytown', 'Mcmillanville', 'Port Sherryburgh', 'North Candicechester', 'Richardview'], 'level': 'Beginner', 'duration': 21}\n",
      "{'title': 'Sell anyone able.', 'art': 'Snax', 'author': 'Sarah Chapman', 'description': 'Interest civil project material song believe.', 'videoUrl': 'video://www.blackwell-burns.info/', 'progress': 55, 'thumbnail': \"/snax/https://dummyimage.com/['facebook']x382\", 'status': 'unlocked', 'classroom': ['Jamesville', 'South Amyfort', 'Lake Linda'], 'level': 'Beginner', 'duration': 35}\n",
      "{'title': 'Six success three.', 'art': 'Snax', 'author': 'Joseph Castillo', 'description': 'Artist up act water. Behind rate size continue.', 'videoUrl': 'video://www.blackburn.com/', 'progress': 22, 'thumbnail': \"/snax/https://picsum.photos/['facebook']/911\", 'status': 'unlocked', 'classroom': ['South Debra'], 'level': 'Beginner', 'duration': 92}\n",
      "{'title': 'General daughter.', 'art': 'Snax', 'author': 'Tasha Velazquez', 'description': 'Order course white compare.', 'videoUrl': 'video://hernandez.com/', 'progress': 97, 'thumbnail': \"/snax/https://placekitten.com/['facebook']/227\", 'status': 'unlocked', 'classroom': ['Jamesside', 'Lake Rachel'], 'level': 'Beginner', 'duration': 16}\n",
      "{'title': 'Art reach into over.', 'art': 'Snax', 'author': 'Amanda Franklin', 'description': 'Blood spring decade owner citizen compare skin.', 'videoUrl': 'video://payne.org/', 'progress': 9, 'thumbnail': \"/snax/https://dummyimage.com/['facebook']x845\", 'status': 'unlocked', 'classroom': ['Kellyberg', 'North Jennifermouth', 'East Eric', 'East Brettville', 'Ryanmouth'], 'level': 'Beginner', 'duration': 64}\n",
      "{'title': 'In list law voice.', 'art': 'Snax', 'author': 'Rachel Montgomery', 'description': 'Experience return city simple carry perhaps.', 'videoUrl': 'video://bonilla.com/', 'progress': 34, 'thumbnail': \"/snax/https://dummyimage.com/['facebook']x144\", 'status': 'unlocked', 'classroom': ['New Brandonchester', 'Port Amanda', 'Derrickville', 'Johnchester', 'New Annette'], 'level': 'Beginner', 'duration': 69}\n",
      "{'title': 'Should weight per.', 'art': 'Snax', 'author': 'Scott Gutierrez', 'description': 'Mind pretty ever consider project power.', 'videoUrl': 'video://alexander-foster.info/', 'progress': 3, 'thumbnail': \"/snax/https://dummyimage.com/['facebook']x298\", 'status': 'unlocked', 'classroom': ['Kristintown', 'North Lauriefurt', 'West Janice', 'Webbchester'], 'level': 'Beginner', 'duration': 59}\n",
      "{'title': 'Manage us measure.', 'art': 'Snax', 'author': 'Carla Nguyen', 'description': 'Court response address son require.', 'videoUrl': 'video://harris.com/', 'progress': 17, 'thumbnail': \"/snax/https://placekitten.com/['facebook']/870\", 'status': 'unlocked', 'classroom': ['Jessicaport', 'Port Joseph', 'New Erin', 'Ashleeland'], 'level': 'Beginner', 'duration': 18}\n",
      "{'title': 'Environment member.', 'art': 'Snax', 'author': 'Sandra Kennedy', 'description': 'Week deep tell family chair develop.', 'videoUrl': 'video://fuller.com/', 'progress': 25, 'thumbnail': \"/snax/https://picsum.photos/['facebook']/89\", 'status': 'unlocked', 'classroom': ['Shanemouth', 'Port Dominiqueton', 'Port Daniellechester', 'Matthewsborough'], 'level': 'Beginner', 'duration': 62}\n",
      "{'title': 'Record though cell.', 'art': 'Snax', 'author': 'Lee Gibson', 'description': 'Close suffer share experience.', 'videoUrl': 'video://www.sanders.info/', 'progress': 72, 'thumbnail': \"/snax/https://placekitten.com/['facebook']/711\", 'status': 'unlocked', 'classroom': ['New Kennethfurt', 'Wrightton'], 'level': 'Beginner', 'duration': 73}\n",
      "{'title': 'Let audience relate.', 'art': 'Snax', 'author': 'Victor Thomas', 'description': 'Money let anyone yes mission.', 'videoUrl': 'video://morales.net/', 'progress': 83, 'thumbnail': \"/snax/https://picsum.photos/['facebook']/816\", 'status': 'unlocked', 'classroom': ['Jonesburgh', 'Lake Robinfort', 'Karenfort'], 'level': 'Beginner', 'duration': 63}\n",
      "{'title': 'Center and officer.', 'art': 'Snax', 'author': 'Mary Flores', 'description': 'Between together tax forward allow.', 'videoUrl': 'video://lee.com/', 'progress': 64, 'thumbnail': \"/snax/https://picsum.photos/['facebook']/612\", 'status': 'unlocked', 'classroom': ['New Walter', 'West Stevenhaven'], 'level': 'Beginner', 'duration': 49}\n",
      "{'title': 'Writer design.', 'art': 'Snax', 'author': 'Nicholas Patel', 'description': 'Drug piece Republican point evidence bed stage.', 'videoUrl': 'video://www.wright.com/', 'progress': 39, 'thumbnail': \"/snax/https://placekitten.com/['facebook']/321\", 'status': 'unlocked', 'classroom': ['West Jessica'], 'level': 'Beginner', 'duration': 88}\n",
      "{'title': 'Become over create.', 'art': 'Snax', 'author': 'Donald Taylor', 'description': 'Event standard exist either wear could.', 'videoUrl': 'video://www.smith-brown.com/', 'progress': 32, 'thumbnail': \"/snax/https://placekitten.com/['facebook']/239\", 'status': 'unlocked', 'classroom': ['Meyerport', 'West Robertchester', 'Lake Jennifer'], 'level': 'Beginner', 'duration': 18}\n",
      "{'title': 'Door serious share.', 'art': 'Snax', 'author': 'Matthew Villarreal', 'description': 'Would far finally personal officer blue.', 'videoUrl': 'video://spencer-nichols.com/', 'progress': 65, 'thumbnail': \"/snax/https://dummyimage.com/['facebook']x947\", 'status': 'unlocked', 'classroom': ['Williamsbury', 'East Kennethside', 'New Codyton', 'Jonesbury'], 'level': 'Beginner', 'duration': 96}\n",
      "{'title': 'Authority oil until.', 'art': 'Snax', 'author': 'Steven Fields', 'description': 'Paper under arrive child must.', 'videoUrl': 'video://brown.com/', 'progress': 87, 'thumbnail': \"/snax/https://picsum.photos/['facebook']/244\", 'status': 'unlocked', 'classroom': ['Robertmouth', 'Lake Maryland', 'Shawnberg', 'Schmidtland', 'East Crystalburgh'], 'level': 'Beginner', 'duration': 11}\n",
      "{'title': 'Magazine owner.', 'art': 'Snax', 'author': 'Patricia Palmer', 'description': 'Article theory land.', 'videoUrl': 'video://www.winters.com/', 'progress': 24, 'thumbnail': \"/snax/https://placekitten.com/['facebook']/75\", 'status': 'unlocked', 'classroom': ['Helenview', 'Amandaside', 'Port Frankmouth', 'New Mario', 'North Christopher'], 'level': 'Beginner', 'duration': 88}\n",
      "{'title': 'Give white find.', 'art': 'Snax', 'author': 'Jennifer Roberts', 'description': 'Why close technology political be card.', 'videoUrl': 'video://www.weber-mckinney.com/', 'progress': 70, 'thumbnail': \"/snax/https://placekitten.com/['facebook']/514\", 'status': 'unlocked', 'classroom': ['Lake Tammyberg', 'Tracitown'], 'level': 'Beginner', 'duration': 53}\n",
      "{'title': 'Sister team.', 'art': 'Snax', 'author': 'Jessica Smith', 'description': 'Onto though necessary actually.', 'videoUrl': 'video://www.davis.com/', 'progress': 48, 'thumbnail': \"/snax/https://picsum.photos/['facebook']/331\", 'status': 'unlocked', 'classroom': ['New Mariaside'], 'level': 'Beginner', 'duration': 54}\n",
      "{'title': 'Dark Mrs six.', 'art': 'Snax', 'author': 'Louis Espinoza', 'description': 'Down big red begin avoid.', 'videoUrl': 'video://www.montgomery-gray.info/', 'progress': 8, 'thumbnail': \"/snax/https://picsum.photos/['facebook']/173\", 'status': 'unlocked', 'classroom': ['South Lonnie', 'Lake Kristenstad'], 'level': 'Beginner', 'duration': 93}\n",
      "{'title': 'Financial.', 'art': 'Snax', 'author': 'Sandra Jones', 'description': 'Heavy court concern spring cost.', 'videoUrl': 'video://whitehead-thompson.info/', 'progress': 50, 'thumbnail': \"/snax/https://dummyimage.com/['facebook']x0\", 'status': 'unlocked', 'classroom': ['West Monica', 'Smithhaven', 'West Alexland'], 'level': 'Beginner', 'duration': 3}\n",
      "{'title': 'Defense body notice.', 'art': 'Snax', 'author': 'Melissa Morris', 'description': 'Step happy develop chair move.', 'videoUrl': 'video://www.wilson.com/', 'progress': 8, 'thumbnail': \"/snax/https://picsum.photos/['facebook']/786\", 'status': 'unlocked', 'classroom': ['South Christineview', 'Adkinsberg', 'Lake Bradleyberg', 'Robinsonfort', 'Richardsonton'], 'level': 'Beginner', 'duration': 9}\n",
      "{'title': 'Shake soldier gas.', 'art': 'Snax', 'author': 'Sharon Smith', 'description': 'Yourself general three know phone improve.', 'videoUrl': 'video://www.li-gordon.info/', 'progress': 22, 'thumbnail': \"/snax/https://placekitten.com/['facebook']/997\", 'status': 'unlocked', 'classroom': ['Williamsmouth', 'Michealside', 'Sandrachester', 'Port Emilymouth'], 'level': 'Beginner', 'duration': 28}\n",
      "{'title': 'Clear protect we.', 'art': 'Snax', 'author': 'Brett Beard', 'description': 'Sure condition start tell.', 'videoUrl': 'video://www.williams.com/', 'progress': 43, 'thumbnail': \"/snax/https://picsum.photos/['facebook']/330\", 'status': 'unlocked', 'classroom': ['Port Chris', 'Sandratown', 'Nicoleport', 'Littleborough'], 'level': 'Beginner', 'duration': 49}\n",
      "{'title': 'Have seven report.', 'art': 'Snax', 'author': 'Mark Davis', 'description': 'Way PM itself world.', 'videoUrl': 'video://bell.com/', 'progress': 37, 'thumbnail': \"/snax/https://placekitten.com/['facebook']/59\", 'status': 'unlocked', 'classroom': ['South Christophershire', 'Collinsside'], 'level': 'Beginner', 'duration': 35}\n",
      "{'title': 'Visit baby area to.', 'art': 'Snax', 'author': 'Cody Martin', 'description': 'Off recent report baby senior discover among.', 'videoUrl': 'video://buck-bonilla.info/', 'progress': 60, 'thumbnail': \"/snax/https://picsum.photos/['facebook']/840\", 'status': 'unlocked', 'classroom': ['Stephensmouth', 'New Holly', 'Lake Johnmouth', 'Patrickville', 'South Haley'], 'level': 'Beginner', 'duration': 55}\n",
      "{'title': 'Indicate language.', 'art': 'Snax', 'author': 'Marcia Miller', 'description': 'Far theory per cultural computer at such subject.', 'videoUrl': 'video://www.carney.biz/', 'progress': 47, 'thumbnail': \"/snax/https://dummyimage.com/['facebook']x832\", 'status': 'unlocked', 'classroom': ['West Danielfurt', 'Jameschester', 'Garciastad', 'Charleston', 'Patrickfurt'], 'level': 'Beginner', 'duration': 26}\n",
      "{'title': 'Story enough drop.', 'art': 'Snax', 'author': 'Mr. Darrell Howe', 'description': 'Piece drop down school indicate material.', 'videoUrl': 'video://miller.biz/', 'progress': 100, 'thumbnail': \"/snax/https://dummyimage.com/['facebook']x71\", 'status': 'unlocked', 'classroom': ['West Melinda', 'Port Sierraberg', 'Boylestad', 'North Melissatown', 'Port Jennifer'], 'level': 'Beginner', 'duration': 38}\n",
      "{'title': 'Billion hope.', 'art': 'Snax', 'author': 'Eric Glenn', 'description': 'Write trip significant black our.', 'videoUrl': 'video://www.brown.info/', 'progress': 74, 'thumbnail': \"/snax/https://picsum.photos/['facebook']/347\", 'status': 'unlocked', 'classroom': ['Bryanberg'], 'level': 'Beginner', 'duration': 81}\n",
      "{'title': 'Country strategy.', 'art': 'Snax', 'author': 'Eric Miller', 'description': 'Approach provide young others argue news now.', 'videoUrl': 'video://sutton.com/', 'progress': 62, 'thumbnail': \"/snax/https://dummyimage.com/['facebook']x455\", 'status': 'unlocked', 'classroom': ['New Brianfurt'], 'level': 'Beginner', 'duration': 44}\n",
      "{'title': 'Will boy.', 'art': 'Snax', 'author': 'Adam Gallegos', 'description': 'Manage difference floor issue be nor back pick.', 'videoUrl': 'video://www.bradley-keller.com/', 'progress': 82, 'thumbnail': \"/snax/https://placekitten.com/['facebook']/692\", 'status': 'unlocked', 'classroom': ['Christineport'], 'level': 'Beginner', 'duration': 65}\n",
      "{'title': 'About detail.', 'art': 'Snax', 'author': 'Fernando Gibbs', 'description': 'There eye move race win special.', 'videoUrl': 'video://carlson.biz/', 'progress': 57, 'thumbnail': \"/snax/https://placekitten.com/['facebook']/384\", 'status': 'unlocked', 'classroom': ['New Dennis', 'Grahamville', 'New Daniel', 'South Kevin', 'Vargasfurt'], 'level': 'Beginner', 'duration': 29}\n",
      "{'title': 'Subject ability.', 'art': 'Snax', 'author': 'Nicholas Kirby', 'description': 'Skin to expect morning reveal.', 'videoUrl': 'video://www.orozco.org/', 'progress': 59, 'thumbnail': \"/snax/https://placekitten.com/['facebook']/953\", 'status': 'unlocked', 'classroom': ['East Edwardberg', 'West Grace'], 'level': 'Beginner', 'duration': 17}\n",
      "{'title': 'Law discussion.', 'art': 'Snax', 'author': 'Kurt Stewart', 'description': 'Choice hour watch imagine. Say seven tax.', 'videoUrl': 'video://pearson.com/', 'progress': 93, 'thumbnail': \"/snax/https://placekitten.com/['facebook']/373\", 'status': 'unlocked', 'classroom': ['New Hollyville', 'Willishaven', 'Port Jonathanland', 'West Audrey', 'North Elizabeth'], 'level': 'Beginner', 'duration': 10}\n",
      "{'title': 'People security.', 'art': 'Snax', 'author': 'Kristin Krueger', 'description': 'Only doctor because million last laugh company.', 'videoUrl': 'video://johnson.net/', 'progress': 73, 'thumbnail': \"/snax/https://dummyimage.com/['facebook']x562\", 'status': 'unlocked', 'classroom': ['Tyroneton', 'South Joseburgh'], 'level': 'Beginner', 'duration': 55}\n",
      "{'title': 'Short concern begin.', 'art': 'Snax', 'author': 'Bailey Horn', 'description': 'Traditional church traditional but.', 'videoUrl': 'video://www.yang-mitchell.biz/', 'progress': 75, 'thumbnail': \"/snax/https://placekitten.com/['facebook']/196\", 'status': 'unlocked', 'classroom': ['Lake Brian', 'Cherylview', 'Port Kenneth'], 'level': 'Beginner', 'duration': 69}\n",
      "{'title': 'Pressure push.', 'art': 'Snax', 'author': 'Justin Oliver', 'description': 'Eight book dog thus. Economy debate reason.', 'videoUrl': 'video://christensen.biz/', 'progress': 51, 'thumbnail': \"/snax/https://placekitten.com/['facebook']/329\", 'status': 'unlocked', 'classroom': ['West Jillland', 'Bryanmouth', 'Hoffmanberg'], 'level': 'Beginner', 'duration': 48}\n",
      "{'title': 'We maybe off much.', 'art': 'Snax', 'author': 'Christopher Sanchez', 'description': 'Quite if north forget possible skill their.', 'videoUrl': 'video://www.ford.com/', 'progress': 87, 'thumbnail': \"/snax/https://placekitten.com/['facebook']/725\", 'status': 'unlocked', 'classroom': ['South Alecfurt', 'Lake Misty', 'Dayburgh', 'North Debra', 'New Devin'], 'level': 'Beginner', 'duration': 66}\n",
      "{'title': 'Son meet without.', 'art': 'Snax', 'author': 'Phyllis Turner', 'description': 'See peace coach play.', 'videoUrl': 'video://davis-johnson.com/', 'progress': 78, 'thumbnail': \"/snax/https://dummyimage.com/['facebook']x1010\", 'status': 'unlocked', 'classroom': ['Port Victoria', 'West Brandonstad', 'Suarezshire', 'West Shawnside'], 'level': 'Beginner', 'duration': 36}\n",
      "{'title': 'Address dog show.', 'art': 'Snax', 'author': 'Jose Bates', 'description': 'Result us bit fall door government sense.', 'videoUrl': 'video://lynn.com/', 'progress': 66, 'thumbnail': \"/snax/https://placekitten.com/['facebook']/1018\", 'status': 'unlocked', 'classroom': ['North Brettberg', 'Tonyaberg', 'Whitefurt'], 'level': 'Beginner', 'duration': 19}\n",
      "{'title': 'Simple compare.', 'art': 'Snax', 'author': 'Mark Erickson', 'description': 'Deal season friend detail stuff learn.', 'videoUrl': 'video://perkins.com/', 'progress': 5, 'thumbnail': \"/snax/https://placekitten.com/['facebook']/342\", 'status': 'unlocked', 'classroom': ['East Rachel', 'Robertoton', 'Bakerfurt', 'Hoodport', 'East Ashleyside'], 'level': 'Beginner', 'duration': 13}\n",
      "{'title': 'Bed price site.', 'art': 'Snax', 'author': 'Susan Johnson', 'description': 'Exactly capital author.', 'videoUrl': 'video://hatfield-gonzalez.com/', 'progress': 19, 'thumbnail': \"/snax/https://picsum.photos/['facebook']/137\", 'status': 'unlocked', 'classroom': ['Lake Brian'], 'level': 'Beginner', 'duration': 96}\n",
      "{'title': 'Glass peace.', 'art': 'Snax', 'author': 'Isabel Walker', 'description': 'Mr reality stock window bit although.', 'videoUrl': 'video://torres-garner.org/', 'progress': 100, 'thumbnail': \"/snax/https://placekitten.com/['facebook']/80\", 'status': 'unlocked', 'classroom': ['East Michael', 'North Anthony', 'Lake Jennifer', 'Port Kimberly'], 'level': 'Beginner', 'duration': 9}\n",
      "{'title': 'Cup entire teach.', 'art': 'Snax', 'author': 'James Miller', 'description': 'Stock sing up lead political.', 'videoUrl': 'video://cline.com/', 'progress': 29, 'thumbnail': \"/snax/https://dummyimage.com/['facebook']x916\", 'status': 'unlocked', 'classroom': ['Ryanhaven', 'South Danielleton', 'Santanaburgh', 'South Kennethfort'], 'level': 'Beginner', 'duration': 28}\n",
      "{'title': 'Successful follow.', 'art': 'Snax', 'author': 'Ethan Wilson', 'description': 'Beat natural similar generation by total doctor.', 'videoUrl': 'video://www.tucker.biz/', 'progress': 37, 'thumbnail': \"/snax/https://placekitten.com/['facebook']/552\", 'status': 'unlocked', 'classroom': ['Port Thomas'], 'level': 'Beginner', 'duration': 63}\n",
      "{'title': 'Citizen stuff small.', 'art': 'Snax', 'author': 'Christopher Powers', 'description': 'Opportunity claim and end truth him.', 'videoUrl': 'video://wilson-porter.com/', 'progress': 19, 'thumbnail': \"/snax/https://picsum.photos/['facebook']/716\", 'status': 'unlocked', 'classroom': ['Port Danielshire', 'Weissport', 'New Jonathanview', 'Luceroberg', 'Jonesstad'], 'level': 'Beginner', 'duration': 91}\n",
      "{'title': 'Hand idea war west.', 'art': 'Snax', 'author': 'Evan Adams', 'description': 'Pick beyond myself ok production catch anything.', 'videoUrl': 'video://www.hopkins.com/', 'progress': 40, 'thumbnail': \"/snax/https://picsum.photos/['facebook']/693\", 'status': 'unlocked', 'classroom': ['North Lauraside', 'East Justinchester', 'Brittanybury', 'West Michael'], 'level': 'Beginner', 'duration': 33}\n",
      "{'title': 'Long street onto.', 'art': 'Snax', 'author': 'Adam Weeks', 'description': 'Small ball fall window argue.', 'videoUrl': 'video://bowen.net/', 'progress': 100, 'thumbnail': \"/snax/https://placekitten.com/['facebook']/269\", 'status': 'unlocked', 'classroom': ['Lake Jay', 'Sarahside'], 'level': 'Beginner', 'duration': 32}\n",
      "{'title': 'Enough also base.', 'art': 'Snax', 'author': 'Amy Gamble', 'description': 'Position probably successful organization.', 'videoUrl': 'video://www.kramer-heath.com/', 'progress': 53, 'thumbnail': \"/snax/https://picsum.photos/['facebook']/225\", 'status': 'unlocked', 'classroom': ['Mckeestad', 'Port Pamela'], 'level': 'Beginner', 'duration': 21}\n",
      "{'title': 'Up it arm against.', 'art': 'Snax', 'author': 'Andrew Wells', 'description': 'Smile claim happen.', 'videoUrl': 'video://estrada.com/', 'progress': 47, 'thumbnail': \"/snax/https://picsum.photos/['facebook']/820\", 'status': 'unlocked', 'classroom': ['Danielshire', 'Scottburgh'], 'level': 'Beginner', 'duration': 45}\n",
      "{'title': 'Run sea help.', 'art': 'Snax', 'author': 'Alexandra Howard', 'description': 'Stay write though argue magazine.', 'videoUrl': 'video://jones.com/', 'progress': 46, 'thumbnail': \"/snax/https://dummyimage.com/['facebook']x770\", 'status': 'unlocked', 'classroom': ['New Nicolefort', 'New Jamesside'], 'level': 'Beginner', 'duration': 13}\n",
      "{'title': 'Travel cause most.', 'art': 'Snax', 'author': 'Robert Garrett', 'description': 'Blood begin something avoid.', 'videoUrl': 'video://cooke.org/', 'progress': 47, 'thumbnail': \"/snax/https://placekitten.com/['facebook']/595\", 'status': 'unlocked', 'classroom': ['Stacyport', 'Lake Carla', 'East Stevenville'], 'level': 'Beginner', 'duration': 35}\n",
      "{'title': 'Rich north.', 'art': 'Snax', 'author': 'Ronnie Miller', 'description': 'Admit success two crime on wear interview.', 'videoUrl': 'video://leonard.org/', 'progress': 72, 'thumbnail': \"/snax/https://placekitten.com/['facebook']/180\", 'status': 'unlocked', 'classroom': ['North Melindafort', 'New Jose', 'Lake Aprilchester'], 'level': 'Beginner', 'duration': 54}\n",
      "{'title': 'Month president.', 'art': 'Snax', 'author': 'Michelle Kirk', 'description': 'Many raise move smile.', 'videoUrl': 'video://www.christian.com/', 'progress': 97, 'thumbnail': \"/snax/https://placekitten.com/['facebook']/426\", 'status': 'unlocked', 'classroom': ['South Travis', 'Tatetown', 'Port Teresa', 'Colebury'], 'level': 'Beginner', 'duration': 50}\n",
      "{'title': 'Thought hand media.', 'art': 'Snax', 'author': 'Tracey Lynch', 'description': 'Notice itself however money body account.', 'videoUrl': 'video://hernandez.com/', 'progress': 71, 'thumbnail': \"/snax/https://picsum.photos/['facebook']/767\", 'status': 'unlocked', 'classroom': ['West Connieville', 'West Frankside', 'Priscillaport', 'Port Valeriefort'], 'level': 'Beginner', 'duration': 20}\n",
      "{'title': 'Current sing after.', 'art': 'Snax', 'author': 'Robert Hudson', 'description': 'Myself recent product phone research.', 'videoUrl': 'video://copeland.net/', 'progress': 28, 'thumbnail': \"/snax/https://dummyimage.com/['facebook']x10\", 'status': 'unlocked', 'classroom': ['Waltermouth', 'New Jeffery'], 'level': 'Beginner', 'duration': 6}\n",
      "{'title': 'Find character.', 'art': 'Snax', 'author': 'Gary Watson', 'description': 'Create cost with turn.', 'videoUrl': 'video://www.bowman-massey.net/', 'progress': 96, 'thumbnail': \"/snax/https://dummyimage.com/['facebook']x738\", 'status': 'unlocked', 'classroom': ['Nguyenhaven', 'Sullivanport'], 'level': 'Beginner', 'duration': 34}\n"
     ]
    }
   ],
   "source": [
    "fake = Faker()\n",
    "for i in range(len(SNAX)):\n",
    "    title = SNAX[i]\n",
    "    data = {\n",
    "        \"title\": fake.text(max_nb_chars=20),\n",
    "        \"art\": \"Snax\",\n",
    "        \"author\": fake.name(),\n",
    "        \"description\": fake.text(50),\n",
    "        \"videoUrl\": fake.url([\"video\"]),\n",
    "        \"progress\": fake.random_int(1, 100),\n",
    "        \"thumbnail\": \"/snax/\" + fake.image_url([\"facebook\"]),\n",
    "        \"status\": \"unlocked\",\n",
    "        \"classroom\": [fake.city() for i in range(fake.random_int(1, 5))],\n",
    "        \"level\": \"Beginner\",\n",
    "        \"duration\": fake.random_int(1, 100),\n",
    "    }\n",
    "    snaxCollection.add(data)\n",
    "    print(data)"
   ]
  }
 ],
 "metadata": {
  "kernelspec": {
   "display_name": "Python 3",
   "language": "python",
   "name": "python3"
  },
  "language_info": {
   "codemirror_mode": {
    "name": "ipython",
    "version": 3
   },
   "file_extension": ".py",
   "mimetype": "text/x-python",
   "name": "python",
   "nbconvert_exporter": "python",
   "pygments_lexer": "ipython3",
   "version": "3.8.10"
  }
 },
 "nbformat": 4,
 "nbformat_minor": 2
}
