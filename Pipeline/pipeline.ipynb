{
 "cells": [
  {
   "cell_type": "markdown",
   "metadata": {},
   "source": [
    "# Config"
   ]
  },
  {
   "cell_type": "code",
   "execution_count": null,
   "metadata": {},
   "outputs": [],
   "source": [
    "!pip install firebase-admin faker --quiet"
   ]
  },
  {
   "cell_type": "code",
   "execution_count": 3,
   "metadata": {},
   "outputs": [],
   "source": [
    "import firebase_admin\n",
    "from firebase_admin import credentials, firestore\n",
    "from faker import Faker"
   ]
  },
  {
   "cell_type": "code",
   "execution_count": 4,
   "metadata": {},
   "outputs": [
    {
     "data": {
      "text/plain": [
       "<firebase_admin.App at 0x26af38e3c40>"
      ]
     },
     "execution_count": 4,
     "metadata": {},
     "output_type": "execute_result"
    }
   ],
   "source": [
    "cred = credentials.Certificate('serviceAccount.json')\n",
    "firebase_admin.initialize_app(cred)"
   ]
  },
  {
   "cell_type": "markdown",
   "metadata": {},
   "source": [
    "# Checkout the collections and documents"
   ]
  },
  {
   "cell_type": "code",
   "execution_count": 5,
   "metadata": {},
   "outputs": [
    {
     "name": "stdout",
     "output_type": "stream",
     "text": [
      "['chats', 'following', 'likes', 'notifications', 'retweets', 'trends', 'tweets', 'users']\n"
     ]
    }
   ],
   "source": [
    "#get list of collections\n",
    "db = firestore.client()\n",
    "collections = [x.id for x in db.collections()]\n",
    "print(collections)"
   ]
  },
  {
   "cell_type": "code",
   "execution_count": 7,
   "metadata": {},
   "outputs": [
    {
     "name": "stdout",
     "output_type": "stream",
     "text": [
      "dict_keys(['followers', 'uid', 'following', 'bio', 'profilePic', 'tag', 'email', 'name'])\n"
     ]
    }
   ],
   "source": [
    "#get properties of users\n",
    "users = db.collection('users').get()\n",
    "users = [x.to_dict() for x in users]\n",
    "print(users[0].keys())"
   ]
  },
  {
   "cell_type": "code",
   "execution_count": 14,
   "metadata": {},
   "outputs": [
    {
     "name": "stdout",
     "output_type": "stream",
     "text": [
      "<class 'int'>\n",
      "<class 'str'>\n",
      "<class 'str'>\n",
      "<class 'str'>\n",
      "<class 'str'>\n",
      "<class 'str'>\n"
     ]
    }
   ],
   "source": [
    "#show propertie types\n",
    "print(type(users[0]['followers']))\n",
    "print(type(users[0]['uid']))\n",
    "print(type(users[0]['bio']))\n",
    "print(type(users[0]['tag']))\n",
    "print(type(users[0]['email']))\n",
    "print(type(users[0]['name']))"
   ]
  },
  {
   "cell_type": "code",
   "execution_count": 15,
   "metadata": {},
   "outputs": [
    {
     "name": "stdout",
     "output_type": "stream",
     "text": [
      "{'followers': 0, 'uid': '5JOdVdci4DcDi4anb0uZ3Qr14Yz1', 'following': 0, 'bio': '', 'profilePic': '', 'tag': 'Haha727h', 'email': 'hello@shis.com', 'name': 'Hello'}\n"
     ]
    }
   ],
   "source": [
    "#get first user\n",
    "user = users[0]\n",
    "print(user)\n"
   ]
  },
  {
   "cell_type": "markdown",
   "metadata": {},
   "source": [
    "# Generate fake data and load into firestore"
   ]
  },
  {
   "cell_type": "code",
   "execution_count": 10,
   "metadata": {},
   "outputs": [],
   "source": [
    "usersCollection = db.collection('users')\n",
    "fake = Faker()\n",
    "\n",
    "for i in range(2):\n",
    "    data = {\n",
    "        'followers': fake.random_int(min=0, max=1000),\n",
    "        'following': fake.random_int(min=0, max=1000),\n",
    "        'name': fake.name(),\n",
    "        'bio': fake.text(),\n",
    "        'profilePic': fake.image_url(),\n",
    "        'tag': fake.word(),\n",
    "        'email': fake.email(),\n",
    "        'name': fake.name(),\n",
    "        'uid': fake.uuid4(),\n",
    "\n",
    "    }\n",
    "    #add to collection  and get id\n",
    "    doc = usersCollection.add(data)\n",
    "    # add uid to data\n",
    "    data['uid'] = doc[1].id\n",
    "    #update document with uid\n",
    "    usersCollection.document(doc[1].id).update(data)\n"
   ]
  }
 ],
 "metadata": {
  "kernelspec": {
   "display_name": "Python 3",
   "language": "python",
   "name": "python3"
  },
  "language_info": {
   "codemirror_mode": {
    "name": "ipython",
    "version": 3
   },
   "file_extension": ".py",
   "mimetype": "text/x-python",
   "name": "python",
   "nbconvert_exporter": "python",
   "pygments_lexer": "ipython3",
   "version": "3.10.4"
  }
 },
 "nbformat": 4,
 "nbformat_minor": 2
}
