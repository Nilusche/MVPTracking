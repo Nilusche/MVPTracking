{
 "cells": [
  {
   "cell_type": "markdown",
   "metadata": {},
   "source": [
    "# Config"
   ]
  },
  {
   "cell_type": "code",
   "execution_count": null,
   "metadata": {},
   "outputs": [],
   "source": [
    "!pip install firebase-admin faker --quiet"
   ]
  },
  {
   "cell_type": "code",
   "execution_count": 1,
   "metadata": {},
   "outputs": [],
   "source": [
    "import firebase_admin\n",
    "from firebase_admin import credentials, firestore\n",
    "from faker import Faker"
   ]
  },
  {
   "cell_type": "code",
   "execution_count": 2,
   "metadata": {},
   "outputs": [
    {
     "data": {
      "text/plain": [
       "<firebase_admin.App at 0x21cb8c99540>"
      ]
     },
     "execution_count": 2,
     "metadata": {},
     "output_type": "execute_result"
    }
   ],
   "source": [
    "cred = credentials.Certificate('serviceAccount.json')\n",
    "firebase_admin.initialize_app(cred)"
   ]
  },
  {
   "cell_type": "markdown",
   "metadata": {},
   "source": [
    "# Checkout the collections and documents"
   ]
  },
  {
   "cell_type": "code",
   "execution_count": 38,
   "metadata": {},
   "outputs": [
    {
     "name": "stdout",
     "output_type": "stream",
     "text": [
      "['Coach', 'Masterclass', 'users']\n"
     ]
    }
   ],
   "source": [
    "#get list of collections\n",
    "db = firestore.client()\n",
    "collections = [x.id for x in db.collections()]\n",
    "print(collections)"
   ]
  },
  {
   "cell_type": "code",
   "execution_count": 17,
   "metadata": {},
   "outputs": [
    {
     "name": "stdout",
     "output_type": "stream",
     "text": [
      "Id:  1 Data:  {'description': 'How to found a company', 'tags': ['Unternehmen', 'Gründung', 'Job'], 'thumbnail': '/images/masterclass.jpg', 'videoUrl': 'https://www.youtube.com/watch?v=9Q7Vr3yQYWQ', 'duration': 60, 'points': 100, 'id': 1, 'filterTags': ['Unternehmen', 'Gründung', 'Job'], 'status': 'unlocked', 'courseOverview': {'AboutCourse': 'This course is about how to found a company and how to get your first customers.', 'AboutAuthor': 'John Doe is a serial entrepreneur and has founded 5 companies in the last 10 years.'}, 'progress': 0, 'art': 'Masterclass', 'courseLessons': [1], 'lessons': 5, 'classroom': ['Gründung', 'Job'], 'level': 'Beginner', 'title': 'How to found a company', 'author': 'John Doe'}\n"
     ]
    }
   ],
   "source": [
    "#get collection \"Masterclass\" and print it\n",
    "docs = db.collection(\"Masterclass\").get()\n",
    "for doc in docs:\n",
    "    print(\"Id: \", doc.id, \"Data: \",doc.to_dict())"
   ]
  },
  {
   "cell_type": "code",
   "execution_count": 22,
   "metadata": {},
   "outputs": [
    {
     "name": "stdout",
     "output_type": "stream",
     "text": [
      "Id:  FfQRaL6WIdFoyJSSFevp Data:  {'postalCode': '12345', 'firstName': 'Admin', 'accType': 'customer', 'joined': DatetimeWithNanoseconds(2023, 10, 2, 12, 32, 53, 202000, tzinfo=datetime.timezone.utc), 'surname': 'Minda', 'advisor': 'Max Mustermann', 'role': 'none', 'advisorACID': 'advisor reference ACID', 'email': 'hello@dagmarverse.de', 'city': 'AdminCity', 'lifetime': 4, 'refACID': 'invite reference ACID'}\n"
     ]
    }
   ],
   "source": [
    "users = db.collection(\"users\").get()\n",
    "for user in users:\n",
    "    print(\"Id: \", user.id, \"Data: \",user.to_dict())"
   ]
  },
  {
   "cell_type": "code",
   "execution_count": 30,
   "metadata": {},
   "outputs": [
    {
     "name": "stdout",
     "output_type": "stream",
     "text": [
      "Id:  GpDGMyuHUSuPgzzamlKt Data:  {'website': '', 'xing': '', 'id': '', 'instagram': '', 'about': '', 'name': '', 'blogs': '', 'image': ['', '', ''], 'linkedin': '', 'link': '', 'facebook': '', 'position': '', 'podcasts': '', 'books': '', 'masterclass': ['']}\n"
     ]
    }
   ],
   "source": [
    "coaches = db.collection(\"Coach\").get()\n",
    "for coach in coaches:\n",
    "    print(\"Id: \", coach.id, \"Data: \",coach.to_dict())"
   ]
  },
  {
   "cell_type": "markdown",
   "metadata": {},
   "source": [
    "# Generate fake data and load into firestore"
   ]
  },
  {
   "cell_type": "markdown",
   "metadata": {},
   "source": [
    "### Masterclasses Collection"
   ]
  },
  {
   "cell_type": "code",
   "execution_count": 19,
   "metadata": {},
   "outputs": [],
   "source": [
    "masterclassCollection = db.collection('Masterclass')\n",
    "fake = Faker()\n",
    "\n",
    "list_of_levels = [\"Beginner\", \"Intermediate\", \"Advanced\"]\n",
    "list_of_status = [\"locked\", \"unlocked\", \"completed\"]\n",
    "\n",
    "for i in range(10):\n",
    "    data = {\n",
    "        \"art\": \"Masterclass\",\n",
    "        \"author\": fake.name(),\n",
    "        \"classroom\" : [fake.text() for i in range(fake.random_int(1, 5))],\n",
    "        \"courseLessons\" : [fake.random_int(1, 5) for i in range(fake.random_int(1, 5))],\n",
    "        \"courseOverview\": {\"AboutAuthor\" : fake.text(), \"AboutCourse\" : fake.text()},\n",
    "        \"description\" : fake.text(),\n",
    "        \"duration\" : fake.random_int(1, 100),\n",
    "        \"filterTags\": [fake.text() for i in range(fake.random_int(1, 5))],\n",
    "        \"id\": i+2,\n",
    "        \"lessons\": fake.random_int(1, 100),\n",
    "        \"level\": list_of_levels[fake.random_int(0, 2)],\n",
    "        \"points\": fake.random_int(1, 100),\n",
    "        \"progress\": 0,\n",
    "        \"status\": list_of_status[fake.random_int(0, 2)],\n",
    "        \"tags\" : [fake.text() for i in range(fake.random_int(1, 5))],\n",
    "        \"thumbnail\" : \"/images/masterclass.jpg\",\n",
    "        \"title\" : fake.text(),\n",
    "        \"videoUrl\" : fake.url(),\n",
    "\n",
    "    }\n",
    "    masterclassCollection.add(data)\n"
   ]
  },
  {
   "cell_type": "code",
   "execution_count": 21,
   "metadata": {},
   "outputs": [
    {
     "name": "stdout",
     "output_type": "stream",
     "text": [
      "Id:  920HEDRTWMNfTx8nnVmx Data:  {'description': 'Note home interview community party. Government describe say prove.\\nSurface like study say behind. Opportunity likely magazine life. For garden answer be red money others.', 'tags': ['Minute most enter. Option house reveal season interview discussion throw now.\\nGrow practice recent budget. They three item always table deal five.', 'Father administration blood can decision behind. Study read want owner feeling attention. Fast official next along keep red computer. When success very.', 'Source step assume dream. Who thank memory someone.\\nMeeting bad author fine marriage down relationship enter. Generation impact field him learn rise.', 'Then cell consider same person itself. Support race number money pick air. House provide during son paper. Take ask against age.'], 'thumbnail': '/images/masterclass.jpg', 'videoUrl': 'http://www.anderson-perry.com/', 'duration': 13, 'points': 2, 'id': 2, 'filterTags': ['Analysis figure goal learn customer attack form. Process book cover while.\\nMight almost lot main day growth he stay. Yard with first explain. Inside or model. Section effort sometimes film knowledge.', 'Often long data middle cell from rather. Blood operation stuff officer summer.', 'Position face foot director buy same wonder item. Leader at own half democratic. Successful itself participant foot us find.', 'Attack above oil raise control. Section you so star action prove.\\nProfessional attack whose chance. Development option listen live sound task. Early no that grow should.'], 'status': 'locked', 'courseOverview': {'AboutCourse': 'Catch call back consumer. Sign represent chair build finish. Central color election room investment thank.\\nAgainst baby practice same agent. Per former current any.', 'AboutAuthor': 'Enter serious outside nature. Kitchen necessary tree environmental want. Yard almost seem human lot.\\nRisk investment maintain try officer. Student with team actually full arm decide.'}, 'progress': 0, 'art': 'Masterclass', 'courseLessons': [2, 5, 4], 'lessons': 92, 'classroom': ['Ago analysis board argue forward half technology night. Radio account as time sometimes use wait. Oil trip drive question.', 'Professional wonder small week himself day pass. To cause man dark happen show once.\\nBlue face fish teach quite sea. Field PM forget especially nearly machine nor.', 'Industry these item customer. Cold stop commercial support.\\nSouth like late successful. Write remain door. Need history fire rich yes evidence.', 'Market plan school live idea. Responsibility this husband place Republican strategy.\\nLast gun role. Include interest nor score this level gun bank. Daughter true anything tend both know candidate.'], 'level': 'Beginner', 'title': 'Feel issue knowledge develop serve itself stand.\\nNor light social common finally. Expert should thing full commercial. Under player direction step.', 'author': 'Joseph Curry'}\n",
      "Id:  Ru7C34iQs0hwB5Lxt1lJ Data:  {'description': 'Economic thing bit strong attention west little. Police employee rock identify.\\nSerious than other away speak.', 'tags': ['Provide decision degree speak wall form else. Attention relationship focus data every sense often.', 'Happen paper create through. Response say painting.\\nRace size he front half. Fear where send next or.\\nUpon player show. Take operation himself in know ok.'], 'thumbnail': '/images/masterclass.jpg', 'videoUrl': 'https://johnson.com/', 'duration': 74, 'points': 11, 'id': 11, 'filterTags': ['Around listen camera medical position can hair. Camera positive account animal leg order candidate. Cause should as land doctor him. Oil argue effort back among can think.'], 'status': 'unlocked', 'courseOverview': {'AboutCourse': 'Car view page care. Indeed kind store crime time result.\\nSafe soon phone hour at commercial. Officer short you wait base. Dark most poor environmental especially agreement learn.', 'AboutAuthor': 'Field arrive director rule wide upon option. Reveal stock set phone.\\nMatter movie much response American customer. Expect take economy yard effort job table view.'}, 'progress': 0, 'art': 'Masterclass', 'courseLessons': [1, 3, 4, 4], 'lessons': 85, 'classroom': ['Improve read drive travel home. Want political power phone system probably admit account.\\nFinancial off study.', 'Success worker nor wear strong vote few. Treat tend it color. Military down issue talk war now. Build nearly rise country forget party.', 'Yourself with discuss same us simply. Central enjoy effect pressure service effort.\\nMovie call I inside this entire. World fund information to party attention respond.'], 'level': 'Beginner', 'title': 'Behind song cup. Never claim six believe short past. Water wife science land number single specific.\\nEducation lay bank firm government. Home happen teach officer yes control establish.', 'author': 'Amy Brown'}\n",
      "Id:  2OWyNgPKRKlMx4Vd4ou9 Data:  {'description': 'Assume admit rock cold. Sure hot role.\\nDream direction room attention. However military study bill. Anyone increase song sound stage amount vote.\\nUntil yet enough. Area audience much over.', 'tags': ['Mouth television sing western. A similar decision read.\\nSeveral interest education study go simple. True little quickly difficult. Study rest establish city class exist.', 'Performance check process service race popular before. Question million write two since.', 'Of maybe hit soldier sense paper necessary. Table beyond foreign also discussion. Design professor difference offer various always.', 'Door citizen community all point. Fast camera man firm. Standard crime federal full listen.\\nUp Democrat guess perhaps. Thing game move pay.'], 'thumbnail': '/images/masterclass.jpg', 'videoUrl': 'https://cochran-thornton.info/', 'duration': 16, 'points': 54, 'id': 8, 'filterTags': ['Exactly small agree hit decision approach floor. Well wait shoulder heavy voice. Mother short dream career. Water with yourself hand structure remain.'], 'status': 'completed', 'courseOverview': {'AboutCourse': 'Politics food charge collection television interview skill design. Court always station push. Serve yard politics.\\nData idea college fact can have.', 'AboutAuthor': 'Call other Democrat quite amount. Institution continue while candidate discuss pay social.\\nTable sit chair well natural. Increase drop people reason degree teacher term.'}, 'progress': 0, 'art': 'Masterclass', 'courseLessons': [1, 5, 4, 5, 1], 'lessons': 35, 'classroom': ['Local child responsibility tend. Eight actually dinner.\\nEvidence coach Democrat. Produce tend budget candidate civil again.'], 'level': 'Intermediate', 'title': 'Choice both measure system. Fight over official. Radio nature institution meeting firm whose threat.\\nTree site question form. Night team author million. Travel peace along condition pick strong.', 'author': 'Kathy Raymond'}\n"
     ]
    }
   ],
   "source": [
    "#get collection \"Masterclass\" and print it\n",
    "docs = db.collection(\"Masterclass\").get()\n",
    "print(len(docs))\n",
    "\n",
    "#print 3 random documents\n",
    "import random\n",
    "random_documents = random.sample(list(docs), 3)\n",
    "for doc in random_documents:\n",
    "    print(\"Id: \", doc.id, \"Data: \",doc.to_dict())"
   ]
  },
  {
   "cell_type": "markdown",
   "metadata": {},
   "source": [
    "### Users Collection"
   ]
  },
  {
   "cell_type": "code",
   "execution_count": 23,
   "metadata": {},
   "outputs": [],
   "source": [
    "usersCollection = db.collection('users')\n",
    "fake = Faker()\n",
    "\n",
    "list_of_account_Types = [\"customer\", \"admin\", \"master\", \"superadmin\", \"instructor\"]\n",
    "\n",
    "for i in range(10): \n",
    "    data = {\n",
    "        \"accType\": list_of_account_Types[fake.random_int(0, 4)],\n",
    "        \"advisor\": fake.name(),\n",
    "        \"advisorACID\": \"advisor reference\" + str(i),\n",
    "        \"city\": fake.city(),\n",
    "        \"email\": fake.email(),\n",
    "        \"firstName\": fake.first_name(),\n",
    "        \"joined\": fake.date(),\n",
    "        \"lifetime\" : fake.random_int(1, 100),\n",
    "        \"postalCode\": fake.postcode(),\n",
    "        \"refACID\": \"reference\" + str(i),\n",
    "        \"role\": fake.job(),\n",
    "        \"surname\": fake.last_name(),\n",
    "    }\n",
    "    usersCollection.add(data)"
   ]
  },
  {
   "cell_type": "code",
   "execution_count": 25,
   "metadata": {},
   "outputs": [
    {
     "name": "stdout",
     "output_type": "stream",
     "text": [
      "11\n",
      "Id:  FfQRaL6WIdFoyJSSFevp Data:  {'postalCode': '12345', 'firstName': 'Admin', 'accType': 'customer', 'joined': DatetimeWithNanoseconds(2023, 10, 2, 12, 32, 53, 202000, tzinfo=datetime.timezone.utc), 'surname': 'Minda', 'advisor': 'Max Mustermann', 'role': 'none', 'advisorACID': 'advisor reference ACID', 'email': 'hello@dagmarverse.de', 'city': 'AdminCity', 'lifetime': 4, 'refACID': 'invite reference ACID'}\n",
      "Id:  uac86WgKkwiF6VRzMtXB Data:  {'lifetime': 99, 'firstName': 'Logan', 'surname': 'Chang', 'joined': '2008-06-04', 'accType': 'customer', 'role': 'Actuary', 'advisor': 'Kelly Robinson', 'advisorACID': 'advisor reference8', 'email': 'kayla40@example.net', 'city': 'Jackiehaven', 'postalCode': '71606', 'refACID': 'reference8'}\n",
      "Id:  CirgNXAW7BRhtQNF3n9U Data:  {'lifetime': 30, 'firstName': 'Travis', 'surname': 'Richardson', 'joined': '2004-01-10', 'accType': 'master', 'role': 'Engineer, manufacturing', 'advisor': 'Elizabeth Rogers', 'advisorACID': 'advisor reference5', 'email': 'haley95@example.org', 'city': 'Port Julie', 'postalCode': '04652', 'refACID': 'reference5'}\n"
     ]
    }
   ],
   "source": [
    "#get collection \"users\" and print it\n",
    "users = db.collection(\"users\").get()\n",
    "print(len(users))\n",
    "\n",
    "#print 3 random documents\n",
    "import random\n",
    "random_documents = random.sample(list(users), 3)\n",
    "for user in random_documents:\n",
    "    print(\"Id: \", user.id, \"Data: \",user.to_dict())\n"
   ]
  },
  {
   "cell_type": "markdown",
   "metadata": {},
   "source": [
    "### Coach Collection"
   ]
  },
  {
   "cell_type": "code",
   "execution_count": 35,
   "metadata": {},
   "outputs": [],
   "source": [
    "coachCollection = db.collection('Coach')\n",
    "fake = Faker()\n",
    "\n",
    "for i in range(10): \n",
    "    data = {\n",
    "        \"about\": fake.text(),\n",
    "        \"blogs\": [fake.text() for i in range(fake.random_int(1, 5))],\n",
    "        \"books\": [fake.text() for i in range(fake.random_int(1, 5))],\n",
    "        \"facebook\": fake.url(),\n",
    "        \"id\": i+2,\n",
    "        \"image\": [fake.name()+ \".jpg\" for i in range(fake.random_int(1, 5))],\n",
    "        \"instagram\": fake.url(),\n",
    "        \"linkedin\": fake.url(),\n",
    "        \"link\": fake.url(),\n",
    "        \"masterclass\": [{\"name\": fake.name()} for i in range(fake.random_int(1, 5))],\n",
    "        \"podcasts\" : [{\"position\": fake.job(), \"website\": fake.url(), \"xing\": fake.url()} for i in range(fake.random_int(1, 5))],\n",
    "    }\n",
    "    coachCollection.add(data)"
   ]
  },
  {
   "cell_type": "code",
   "execution_count": 36,
   "metadata": {},
   "outputs": [
    {
     "name": "stdout",
     "output_type": "stream",
     "text": [
      "11\n",
      "Id:  mHmJTHH5NR17dZntX9yX Data:  {'blogs': ['Cultural keep sign east treatment lead. Relate smile soldier the wear series.', 'Instead although card will. Office onto bar speech.\\nOnce everything dog material protect model agent.', 'Adult structure assume huge. Attention politics while heart.\\nInformation follow kitchen worker. Prepare outside customer develop. Know practice arrive hour.'], 'image': ['Brenda Sanchez.jpg'], 'id': 6, 'linkedin': 'https://garza.com/', 'link': 'http://www.smith-green.org/', 'facebook': 'https://www.wright-cannon.com/', 'instagram': 'https://williams.com/', 'about': 'Performance newspaper institution industry democratic boy. Such skill act someone audience.\\nPersonal require soon race. Generation necessary himself happen up.', 'podcasts': [{'position': 'Engineer, building services', 'website': 'http://www.alexander-smith.com/', 'xing': 'https://www.thomas.net/'}], 'books': ['As usually marriage moment. Born financial wait short each produce improve high.\\nWoman store clear charge. Room professor writer now off kind language.\\nStay various magazine go choice apply expect.', 'Treat real box plant movie. Behavior lead health. Stock new none reality person cup.\\nAble executive site test physical including window since.', 'Support recognize gun fire senior. Stock beautiful huge analysis. Compare enter attorney tax pressure laugh own.\\nOnly choice feeling test nation travel peace. Thing certain over.'], 'masterclass': [{'name': 'Deborah Freeman'}, {'name': 'Lisa Norris'}, {'name': 'Mrs. Catherine Miller'}, {'name': 'Gary Reid'}]}\n",
      "Id:  mKDMG74ik8ZJk6PUTW1F Data:  {'blogs': ['Pressure about far. Political stay detail agent price. To rich rule pull measure despite walk kitchen.', 'Same experience some trouble assume live. About control window new thought short laugh. Imagine skill rich thought on.', 'Face state join choose out car south medical. Girl history seem doctor field of care. Important wish growth follow player.', 'Share road million woman. Development themselves organization human different popular plant.\\nOpen it nothing either. Model trial dog rate. What recently material six.', 'Put but morning pass interesting. Lawyer tax every make share this decision. Assume knowledge central soon care exactly head.'], 'image': ['Charles Lewis.jpg', 'Nicholas Williams.jpg', 'Cynthia Henderson.jpg', 'Andre Cochran.jpg', 'Lisa Hernandez.jpg'], 'id': 10, 'linkedin': 'https://frank-raymond.com/', 'link': 'http://www.bailey-palmer.net/', 'facebook': 'https://francis.info/', 'instagram': 'http://johnson.com/', 'about': 'Yet machine material admit issue key impact.\\nManage first sound health. Herself quickly matter somebody dog service. Board alone save Mrs war back senior.', 'podcasts': [{'position': 'Engineer, technical sales', 'website': 'http://www.jackson-herrera.com/', 'xing': 'https://clark.com/'}, {'position': 'Barista', 'website': 'http://palmer.com/', 'xing': 'http://richard-thompson.org/'}, {'position': 'Public house manager', 'website': 'http://valdez.com/', 'xing': 'https://ford.org/'}], 'books': ['Film receive huge hotel ten finally spring language. Treatment wonder common we total outside lose.\\nMovie start serve network space Democrat. Report especially different and discussion letter.'], 'masterclass': [{'name': 'Gloria Harris'}, {'name': 'Xavier Stephens'}, {'name': 'Benjamin Mcbride'}, {'name': 'Maria Watson'}]}\n",
      "Id:  N8DB6gOIGzO6YvkmthZQ Data:  {'blogs': ['Smile cell her painting.\\nStatement together small meeting strong. Check throw fall girl east. Push finally seven heart news discuss.', 'Choose per run spring or. Month allow many attack. Offer increase skin now.\\nOf cold station design herself play bit.', 'Be note support trouble major. Bank run under stuff subject Mr begin.'], 'image': ['Vanessa Reynolds.jpg', 'Jessica Foley.jpg'], 'id': 3, 'linkedin': 'http://www.schmidt.com/', 'link': 'https://mclaughlin-davis.net/', 'facebook': 'http://curtis-smith.org/', 'instagram': 'http://dean-parker.info/', 'about': 'Military space tax society everyone. Reach story data blood rock.\\nInto commercial fight bed these color. Sister fast want beyond feeling.', 'podcasts': [{'position': 'Teacher, music', 'website': 'http://www.williams.org/', 'xing': 'https://johnston.info/'}], 'books': ['Where measure return hospital culture vote can. Mrs girl church strategy relate with.\\nSecond song teacher rise current.', 'Structure suffer person. Energy gas road score.\\nApply approach or allow resource.\\nFilm south stop writer. Today know success attack price these talk.', 'Type list gun. Year several bill say. With store color never more another.\\nOpportunity minute his growth believe. Score air fast exactly.', 'Summer place American our weight life. Number father style action. Them fine medical establish.\\nBack state free rule method develop boy. How authority firm under single.'], 'masterclass': [{'name': 'Mary Moreno'}, {'name': 'Richard Cardenas'}, {'name': 'Mary Lewis'}, {'name': 'Micheal Lawrence'}]}\n"
     ]
    }
   ],
   "source": [
    "#get collection \"users\" and print it\n",
    "coaches = db.collection(\"Coach\").get()\n",
    "print(len(coaches))\n",
    "\n",
    "#print 3 random documents\n",
    "import random\n",
    "random_documents = random.sample(list(coaches), 3)\n",
    "for coach in random_documents:\n",
    "    print(\"Id: \", coach.id, \"Data: \",coach.to_dict())"
   ]
  }
 ],
 "metadata": {
  "kernelspec": {
   "display_name": "Python 3",
   "language": "python",
   "name": "python3"
  },
  "language_info": {
   "codemirror_mode": {
    "name": "ipython",
    "version": 3
   },
   "file_extension": ".py",
   "mimetype": "text/x-python",
   "name": "python",
   "nbconvert_exporter": "python",
   "pygments_lexer": "ipython3",
   "version": "3.10.4"
  }
 },
 "nbformat": 4,
 "nbformat_minor": 2
}
