{
 "cells": [
  {
   "cell_type": "code",
   "execution_count": null,
   "metadata": {
    "ExecuteTime": {
     "end_time": "2023-12-06T23:05:45.329136Z",
     "start_time": "2023-12-06T23:05:43.314166Z"
    }
   },
   "outputs": [],
   "source": [
    "! pip install elasticsearch --quiet"
   ]
  },
  {
   "cell_type": "code",
   "execution_count": null,
   "metadata": {
    "ExecuteTime": {
     "end_time": "2023-12-06T23:05:46.991774Z",
     "start_time": "2023-12-06T23:05:45.335608Z"
    },
    "collapsed": false
   },
   "outputs": [],
   "source": [
    "!pip install pandas"
   ]
  },
  {
   "cell_type": "code",
   "execution_count": null,
   "metadata": {
    "ExecuteTime": {
     "end_time": "2023-12-06T23:05:48.923533Z",
     "start_time": "2023-12-06T23:05:46.994803Z"
    }
   },
   "outputs": [],
   "source": [
    "! pip install firebase-admin faker --quiet"
   ]
  },
  {
   "cell_type": "code",
   "execution_count": null,
   "metadata": {
    "ExecuteTime": {
     "end_time": "2023-12-06T23:05:48.937261Z",
     "start_time": "2023-12-06T23:05:48.934542Z"
    },
    "collapsed": false
   },
   "outputs": [],
   "source": [
    "from datetime import datetime\n",
    "import pandas as pd"
   ]
  },
  {
   "cell_type": "markdown",
   "metadata": {},
   "source": [
    "# Load Firebasedata"
   ]
  },
  {
   "cell_type": "code",
   "execution_count": null,
   "metadata": {
    "ExecuteTime": {
     "end_time": "2023-12-06T23:05:48.942903Z",
     "start_time": "2023-12-06T23:05:48.939311Z"
    }
   },
   "outputs": [],
   "source": [
    "import firebase_admin\n",
    "from firebase_admin import credentials, firestore\n",
    "from faker import Faker"
   ]
  },
  {
   "cell_type": "code",
   "execution_count": null,
   "metadata": {
    "ExecuteTime": {
     "end_time": "2023-12-06T23:05:49.066289Z",
     "start_time": "2023-12-06T23:05:48.944712Z"
    }
   },
   "outputs": [],
   "source": [
    "cred = credentials.Certificate('serviceAccount.json')                                                                                                \n",
    "firebase_admin.initialize_app(cred)"
   ]
  },
  {
   "cell_type": "code",
   "execution_count": null,
   "metadata": {
    "ExecuteTime": {
     "end_time": "2023-12-06T23:05:49.071274Z",
     "start_time": "2023-12-06T23:05:49.067167Z"
    }
   },
   "outputs": [],
   "source": [
    "#get list of collections\n",
    "db = firestore.client()\n",
    "collections = [x.id for x in db.collections()]\n",
    "print(collections)"
   ]
  },
  {
   "cell_type": "code",
   "execution_count": null,
   "metadata": {
    "ExecuteTime": {
     "start_time": "2023-12-06T23:05:49.068740Z"
    }
   },
   "outputs": [],
   "source": [
    "master_classes = db.collection(\"Masterclasses\").get()\n",
    "users = db.collection(\"Users\").get()\n",
    "coaches = db.collection(\"Coaches\").get()\n",
    "events = db.collection(\"Events\").get()\n",
    "blogs = db.collection(\"Blogs\").get()\n",
    "snax = db.collection(\"Snax\").get()\n",
    "organizations = db.collection(\"Orga\").get()\n",
    "\n",
    "#convert to json\n",
    "master_classes = [x.to_dict() for x in master_classes]\n",
    "users = [x.to_dict() for x in users]\n",
    "coaches = [x.to_dict() for x in coaches]\n",
    "events = [x.to_dict() for x in events]\n",
    "blogs = [x.to_dict() for x in blogs]\n",
    "snax = [x.to_dict() for x in snax]\n",
    "organizations = [x.to_dict() for x in organizations]"
   ]
  },
  {
   "cell_type": "markdown",
   "metadata": {},
   "source": [
    "# Filter out Firebase fields"
   ]
  },
  {
   "cell_type": "markdown",
   "metadata": {},
   "source": [
    "### Users"
   ]
  },
  {
   "cell_type": "code",
   "execution_count": null,
   "metadata": {
    "ExecuteTime": {
     "start_time": "2023-12-06T23:05:49.072405Z"
    }
   },
   "outputs": [],
   "source": [
    "#remove fields email, firstName, lifetime, refACID, role, surname from users\n",
    "for user in users:\n",
    "    user.pop('email', None)\n",
    "    user.pop('firstName', None)\n",
    "    user.pop('lifetime', None)\n",
    "    user.pop('refACID', None)\n",
    "    user.pop('role', None)\n",
    "    user.pop('surname', None)"
   ]
  },
  {
   "cell_type": "markdown",
   "metadata": {},
   "source": [
    "### Coaches"
   ]
  },
  {
   "cell_type": "code",
   "execution_count": null,
   "metadata": {
    "ExecuteTime": {
     "start_time": "2023-12-06T23:05:49.073224Z"
    }
   },
   "outputs": [],
   "source": [
    "#remove about, blogs, books, facebook, image, instagram, link,linkedin, podcasts from coaches\n",
    "for coach in coaches:\n",
    "    coach.pop('about', None)\n",
    "    coach.pop('blogs', None)\n",
    "    coach.pop('books', None)\n",
    "    coach.pop('facebook', None)\n",
    "    coach.pop('image', None)\n",
    "    coach.pop('instagram', None)\n",
    "    coach.pop('link', None)\n",
    "    coach.pop('linkedin', None)\n",
    "    coach.pop('podcasts', None)"
   ]
  },
  {
   "cell_type": "markdown",
   "metadata": {},
   "source": [
    "### Masterclasses"
   ]
  },
  {
   "cell_type": "code",
   "execution_count": null,
   "metadata": {
    "ExecuteTime": {
     "start_time": "2023-12-06T23:05:49.074009Z"
    }
   },
   "outputs": [],
   "source": [
    "#remove fields, courseLessons, courseOverview, Description, filterTags, Progress, videoURL from master_classes\n",
    "for master_class in master_classes:\n",
    "    master_class.pop('courseLessons', None)\n",
    "    master_class.pop('courseOverview', None)\n",
    "    master_class.pop('Description', None)\n",
    "    master_class.pop('filterTags', None)\n",
    "    master_class.pop('Progress', None)\n",
    "    master_class.pop('videoURL', None)"
   ]
  },
  {
   "cell_type": "code",
   "execution_count": null,
   "metadata": {},
   "outputs": [],
   "source": [
    "from enum import Enum\n",
    "\n",
    "class Event_Type(Enum):\n",
    "    ENROLL_COURSE = 0\n",
    "    SAVE_COURSE = 1\n",
    "    UNSAVE_COURSE = 2\n",
    "    COMPLETE_COURSE = 3\n",
    "    COMPLETE_LESSON = 4\n",
    "    LOGIN = 5\n",
    "    LOGOUT = 6\n",
    "    BERATER_KONTAKT = 7\n",
    "    SAVE_BLOG = 8\n",
    "    UNSAVE_BLOG = 9\n",
    "    SAVE_SNAC = 10\n",
    "    UNSAVE_SNAC = 11\n",
    "    "
   ]
  },
  {
   "cell_type": "markdown",
   "metadata": {},
   "source": [
    "# Calculate additional metrics"
   ]
  },
  {
   "cell_type": "markdown",
   "metadata": {},
   "source": [
    "# Write data to elastic"
   ]
  },
  {
   "cell_type": "markdown",
   "metadata": {},
   "source": [
    "We will recalculate aggregate metrics"
   ]
  },
  {
   "cell_type": "markdown",
   "metadata": {},
   "source": [
    "### Users"
   ]
  },
  {
   "cell_type": "markdown",
   "metadata": {},
   "source": [
    "Total Watchtime"
   ]
  },
  {
   "cell_type": "code",
   "execution_count": null,
   "metadata": {
    "ExecuteTime": {
     "end_time": "2023-12-06T23:05:50.239365Z",
     "start_time": "2023-12-06T23:05:50.234027Z"
    }
   },
   "outputs": [],
   "source": [
    "#Total Watchtime\n",
    "#itertae through each users and calculate total watchtime by aggregating the Progress propertie of Watched\n",
    "for user in users:\n",
    "    watchtime = 0\n",
    "    for watched in user['Watched']:\n",
    "        watchtime += int(watched['progress'].split(\" \")[0])\n",
    "    user['TotalWatchtime'] = watchtime"
   ]
  },
  {
   "cell_type": "markdown",
   "metadata": {},
   "source": [
    "Courses enrolled"
   ]
  },
  {
   "cell_type": "code",
   "execution_count": null,
   "metadata": {
    "ExecuteTime": {
     "end_time": "2023-12-06T23:05:50.736232Z",
     "start_time": "2023-12-06T23:05:50.734586Z"
    }
   },
   "outputs": [],
   "source": [
    "# for each users go through events and filter Event-Type = enroll_course and calculate total enrollments\n",
    "for user in users:\n",
    "    enrollments = 0\n",
    "    for event in events:\n",
    "        if event['Event-Type'] == Event_Type.ENROLL_COURSE.name:\n",
    "            if event['User-Id'] == user['id']:\n",
    "                enrollments += 1\n",
    "    user['Age'] = datetime.today().year - int(user['Birthdate'].split(\"/\")[0])\n",
    "    user['Courses_enrolled'] = enrollments"
   ]
  },
  {
   "cell_type": "markdown",
   "metadata": {},
   "source": [
    "Courses completed"
   ]
  },
  {
   "cell_type": "code",
   "execution_count": null,
   "metadata": {
    "ExecuteTime": {
     "end_time": "2023-12-06T23:05:51.239184Z",
     "start_time": "2023-12-06T23:05:51.225286Z"
    }
   },
   "outputs": [],
   "source": [
    "# for each users go through events and filter Event-Type = complete_course and calculate \"Courses_completed\"\n",
    "for user in users:\n",
    "    courses_completed = 0\n",
    "    for event in events:\n",
    "        if event['Event-Type'] == Event_Type.COMPLETE_COURSE.name:\n",
    "            if event['User-Id'] == user['id']:\n",
    "                courses_completed += 1\n",
    "    user['Courses_completed'] = courses_completed"
   ]
  },
  {
   "cell_type": "markdown",
   "metadata": {},
   "source": [
    "Courses saved"
   ]
  },
  {
   "cell_type": "code",
   "execution_count": null,
   "metadata": {
    "ExecuteTime": {
     "end_time": "2023-12-06T23:05:51.762954Z",
     "start_time": "2023-12-06T23:05:51.756759Z"
    }
   },
   "outputs": [],
   "source": [
    "# for each users go through events and filter Event-Type = save_course and calculate \"Courses_saved\"\n",
    "for user in users:\n",
    "    courses_saved = 0\n",
    "    for event in events:\n",
    "        if event['Event-Type'] == Event_Type.SAVE_COURSE.name:\n",
    "            if event['User-Id'] == user['id']:\n",
    "                courses_saved += 1\n",
    "    user['Courses_saved'] = courses_saved"
   ]
  },
  {
   "cell_type": "markdown",
   "metadata": {},
   "source": [
    "<span style=\"color:#BAE1FF\">Adding geopoint as mapping to index users</span>"
   ]
  },
  {
   "cell_type": "code",
   "execution_count": 82,
   "metadata": {},
   "outputs": [],
   "source": [
    "mappings = {\n",
    "  \"settings\": {\n",
    "    \"number_of_shards\": 1\n",
    "  },\n",
    "  \"mappings\": {\n",
    "    \"properties\": {\n",
    "      \"geo\": {\n",
    "                  \"properties\": {\n",
    "                     \"location\": {\n",
    "                           \"type\": \"geo_point\"\n",
    "                     }\n",
    "                  }\n",
    "               }\n",
    "    }\n",
    "  }\n",
    "}\n",
    "\n",
    "\n",
    "client.indices.create(index='users_all', body=mappings)\n",
    "SECRET=\"Majd ist der Beste\""
   ]
  },
  {
   "cell_type": "markdown",
   "metadata": {},
   "source": [
    "<span style=\"color:#BAE1FF\">Adding the locations from the csv to each user</span>"
   ]
  },
  {
   "cell_type": "code",
   "execution_count": null,
   "metadata": {
    "ExecuteTime": {
     "end_time": "2023-12-06T23:16:28.888604Z",
     "start_time": "2023-12-06T23:16:28.887205Z"
    },
    "collapsed": false
   },
   "outputs": [],
   "source": [
    "geotable = 'plz_geocoord.csv'\n",
    "\n",
    "df = pd.read_csv(geotable)\n",
    "df.set_index('plz', inplace=True)\n",
    "df.head()\n",
    "\n",
    "for user in users:\n",
    "   if user['postalCode'] not in df.index:\n",
    "       print(user['postalCode'])\n",
    "       continue\n",
    "       \n",
    "   postalcode = int(str(user['postalCode']))\n",
    "   \n",
    "   user['geo'] =  {'location': str(df.loc[postalcode]['lat'])+\",\"+str(df.loc[postalcode]['lng'])}\n",
    "\n"
   ]
  },
  {
   "cell_type": "markdown",
   "metadata": {
    "collapsed": false
   },
   "source": [
    "### Events"
   ]
  },
  {
   "cell_type": "code",
   "execution_count": null,
   "metadata": {
    "ExecuteTime": {
     "end_time": "2023-12-06T23:05:56.927004Z",
     "start_time": "2023-12-06T23:05:56.906291Z"
    },
    "collapsed": false
   },
   "outputs": [],
   "source": [
    "for event in events:\n",
    "    date = datetime.strptime(event['Timestamp'], '%Y/%m/%d').date()\n",
    "    event['Year'] = date.year\n",
    "    event['Month'] = date.month\n",
    "    event['Day'] = date.day"
   ]
  },
  {
   "cell_type": "markdown",
   "metadata": {
    "collapsed": false
   },
   "source": [
    "Average session duration (maybe remove)"
   ]
  },
  {
   "cell_type": "markdown",
   "metadata": {
    "collapsed": false
   },
   "source": [
    "It is important to note that here we can calculate additional field metrics"
   ]
  },
  {
   "cell_type": "code",
   "execution_count": null,
   "metadata": {
    "ExecuteTime": {
     "end_time": "2023-12-06T23:06:00.349617Z",
     "start_time": "2023-12-06T23:06:00.344778Z"
    },
    "collapsed": false
   },
   "outputs": [],
   "source": [
    "print(SECRET)"
   ]
  },
  {
   "cell_type": "markdown",
   "metadata": {},
   "source": [
    "# Move data to elastic"
   ]
  },
  {
   "cell_type": "code",
   "execution_count": null,
   "metadata": {
    "ExecuteTime": {
     "end_time": "2023-12-06T23:19:37.738721Z",
     "start_time": "2023-12-06T23:19:37.685429Z"
    }
   },
   "outputs": [],
   "source": [
    "\n",
    "from elasticsearch import Elasticsearch\n",
    "# Found in the 'Manage this deployment' page\n",
    "CLOUD_ID = \"IP:dXMtY2VudHJhbDEuZ2NwLmNsb3VkLmVzLmlvOjQ0MyRkZTFjZjM2NjdkN2E0OTg2YTE1NDgzYTVkZmU5YmJkMyQwYTdhYWUyN2JhMmI0NWQ2YTVmOTVjNmM2ZjUxZDMzOA==\"\n",
    "# Found in the 'Management' page under the section 'Security'\n",
    "API_KEY = \"WmlxVFBvd0JGclg2OUZEY2NIZkU6cG5hSXQ2bjVTczY5eWl5VThLYzFaZw==\"\n",
    "# Create the client instance\n",
    "client = Elasticsearch(\n",
    "    cloud_id=CLOUD_ID,\n",
    "    api_key=API_KEY,\n",
    ")\n",
    "          "
   ]
  },
  {
   "cell_type": "markdown",
   "metadata": {},
   "source": [
    "<span style=\"color:#BAE1FF\">Add users</span>"
   ]
  },
  {
   "cell_type": "code",
   "execution_count": 83,
   "metadata": {
    "ExecuteTime": {
     "end_time": "2023-12-06T23:19:53.936415Z",
     "start_time": "2023-12-06T23:19:38.420950Z"
    }
   },
   "outputs": [],
   "source": [
    "for user in users:\n",
    "    client.index(index=\"users_all\", body=user, id=user[\"id\"])\n"
   ]
  },
  {
   "cell_type": "markdown",
   "metadata": {},
   "source": [
    "<span style=\"color:#BAE1FF\">Add master classes</span>"
   ]
  },
  {
   "cell_type": "code",
   "execution_count": 84,
   "metadata": {},
   "outputs": [],
   "source": [
    "for master_class in master_classes:\n",
    "    client.index(index=\"masterclasses\", body=master_class, id=master_class[\"id\"])"
   ]
  },
  {
   "cell_type": "markdown",
   "metadata": {},
   "source": [
    "<span style=\"color:#BAE1FF\">Add blogs</span>"
   ]
  },
  {
   "cell_type": "code",
   "execution_count": 85,
   "metadata": {},
   "outputs": [],
   "source": [
    "for blog in blogs:\n",
    "    client.index(index=\"blogs\", body=blog, id=blog[\"id\"])"
   ]
  },
  {
   "cell_type": "markdown",
   "metadata": {},
   "source": [
    "<span style=\"color:#BAE1FF\">Add snax</span>"
   ]
  },
  {
   "cell_type": "code",
   "execution_count": 86,
   "metadata": {},
   "outputs": [],
   "source": [
    "for snak in snax:\n",
    "    client.index(index=\"snax\", body=snak, id=snak[\"id\"])"
   ]
  },
  {
   "cell_type": "markdown",
   "metadata": {},
   "source": [
    "<span style=\"color:#BAE1FF\">Add coaches</span>"
   ]
  },
  {
   "cell_type": "code",
   "execution_count": 87,
   "metadata": {},
   "outputs": [],
   "source": [
    "for coach in coaches:\n",
    "    client.index(index=\"coaches\", body=coach, id = coach[\"id\"])"
   ]
  },
  {
   "cell_type": "markdown",
   "metadata": {},
   "source": [
    "<span style=\"color:#BAE1FF\">Add events</span>"
   ]
  },
  {
   "cell_type": "code",
   "execution_count": 88,
   "metadata": {
    "ExecuteTime": {
     "end_time": "2023-12-06T23:11:53.275669Z",
     "start_time": "2023-12-06T23:10:41.389810Z"
    }
   },
   "outputs": [],
   "source": [
    "for event in events:\n",
    "    client.index(index=\"events\", body=event, id = event[\"Event-ID\"])\n"
   ]
  },
  {
   "cell_type": "markdown",
   "metadata": {},
   "source": [
    "<h1 style=\"color:red\">Deleting indicies</h1>"
   ]
  },
  {
   "cell_type": "code",
   "execution_count": null,
   "metadata": {
    "ExecuteTime": {
     "end_time": "2023-12-06T23:19:15.163468Z",
     "start_time": "2023-12-06T23:19:14.950671Z"
    },
    "collapsed": false
   },
   "outputs": [],
   "source": [
    "#client.options(ignore_status=[400,404]).indices.delete(index='users_index')\n",
    "#client.options(ignore_status=[400,404]).indices.delete(index='masterclasses')\n",
    "#client.options(ignore_status=[400,404]).indices.delete(index='blogs')\n",
    "#client.options(ignore_status=[400,404]).indices.delete(index='snax')\n",
    "#client.options(ignore_status=[400,404]).indices.delete(index='coaches')\n",
    "#client.options(ignore_status=[400,404]).indices.delete(index='events')"
   ]
  },
  {
   "cell_type": "markdown",
   "metadata": {},
   "source": [
    "# Creating Orga Indicies "
   ]
  },
  {
   "cell_type": "code",
   "execution_count": null,
   "metadata": {},
   "outputs": [],
   "source": [
    "def get_schulen_users():\n",
    "    result = []\n",
    "    for user in users:\n",
    "        if user[\"Education\"] == \"Schule\":\n",
    "            result += [user]\n",
    "    return result\n",
    "\n",
    "def get_orga_users(orga_name):\n",
    "    result = []\n",
    "    for user in users:\n",
    "        if user[\"advisorACID\"] == orga_name:\n",
    "            result += [user]\n",
    "    return result\n"
   ]
  },
  {
   "cell_type": "code",
   "execution_count": null,
   "metadata": {},
   "outputs": [],
   "source": [
    "mappings = {\n",
    "  \"settings\": {\n",
    "    \"number_of_shards\": 1\n",
    "  },\n",
    "  \"mappings\": {\n",
    "    \"properties\": {\n",
    "      \"geo\": {\n",
    "                  \"properties\": {\n",
    "                     \"location\": {\n",
    "                           \"type\": \"geo_point\"\n",
    "                     }\n",
    "                  }\n",
    "               }\n",
    "    }\n",
    "  }\n",
    "}\n",
    "\n",
    "\n",
    "\n",
    "def create_index(users, index_name):\n",
    "    client.indices.create(index=index_name, body=mappings)\n",
    "    for user in users:\n",
    "        client.index(index=index_name, body=user, id=user['id'])\n"
   ]
  },
  {
   "cell_type": "markdown",
   "metadata": {},
   "source": [
    "# Für Schüler"
   ]
  },
  {
   "cell_type": "code",
   "execution_count": null,
   "metadata": {},
   "outputs": [],
   "source": [
    "schueler = get_schulen_users()\n",
    "create_index(schueler, \"users_schueler\")"
   ]
  },
  {
   "cell_type": "markdown",
   "metadata": {},
   "source": [
    "# Für Organisationen"
   ]
  },
  {
   "cell_type": "code",
   "execution_count": null,
   "metadata": {},
   "outputs": [],
   "source": [
    "threshold = 10\n",
    "for orga in organizations:\n",
    "    name = orga[\"name\"]\n",
    "    if \"Schule\" in name:\n",
    "        continue\n",
    "    people = get_orga_users(name)\n",
    "    if len(people) < threshold:\n",
    "        print(name)\n",
    "        continue\n",
    "    create_index(people, \"users_\" + \"_\".join(name.lower().split(\" \")))\n"
   ]
  }
 ],
 "metadata": {
  "kernelspec": {
   "display_name": "Python 3",
   "language": "python",
   "name": "python3"
  },
  "language_info": {
   "codemirror_mode": {
    "name": "ipython",
    "version": 3
   },
   "file_extension": ".py",
   "mimetype": "text/x-python",
   "name": "python",
   "nbconvert_exporter": "python",
   "pygments_lexer": "ipython3",
   "version": "3.8.10"
  }
 },
 "nbformat": 4,
 "nbformat_minor": 2
}
