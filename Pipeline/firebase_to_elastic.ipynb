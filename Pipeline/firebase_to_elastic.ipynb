{
 "cells": [
  {
   "cell_type": "code",
   "execution_count": 292,
   "metadata": {
    "ExecuteTime": {
     "end_time": "2023-12-06T23:05:45.329136Z",
     "start_time": "2023-12-06T23:05:43.314166Z"
    }
   },
   "outputs": [
    {
     "name": "stdout",
     "output_type": "stream",
     "text": [
      "\u001B[33mWARNING: There was an error checking the latest version of pip.\u001B[0m\u001B[33m\r\n",
      "\u001B[0m"
     ]
    }
   ],
   "source": [
    "! pip install elasticsearch --quiet"
   ]
  },
  {
   "cell_type": "code",
   "execution_count": 293,
   "outputs": [
    {
     "name": "stdout",
     "output_type": "stream",
     "text": [
      "Requirement already satisfied: pandas in /Users/kaifedin/opt/anaconda3/lib/python3.8/site-packages (1.2.4)\r\n",
      "Requirement already satisfied: python-dateutil>=2.7.3 in /Users/kaifedin/opt/anaconda3/lib/python3.8/site-packages (from pandas) (2.8.2)\r\n",
      "Requirement already satisfied: pytz>=2017.3 in /Users/kaifedin/opt/anaconda3/lib/python3.8/site-packages (from pandas) (2023.3.post1)\r\n",
      "Requirement already satisfied: numpy>=1.16.5 in /Users/kaifedin/opt/anaconda3/lib/python3.8/site-packages (from pandas) (1.20.1)\r\n",
      "Requirement already satisfied: six>=1.5 in /Users/kaifedin/opt/anaconda3/lib/python3.8/site-packages (from python-dateutil>=2.7.3->pandas) (1.16.0)\r\n",
      "\u001B[33mWARNING: There was an error checking the latest version of pip.\u001B[0m\u001B[33m\r\n",
      "\u001B[0m"
     ]
    }
   ],
   "source": [
    "!pip install pandas"
   ],
   "metadata": {
    "collapsed": false,
    "ExecuteTime": {
     "end_time": "2023-12-06T23:05:46.991774Z",
     "start_time": "2023-12-06T23:05:45.335608Z"
    }
   }
  },
  {
   "cell_type": "code",
   "execution_count": 294,
   "metadata": {
    "ExecuteTime": {
     "end_time": "2023-12-06T23:05:48.923533Z",
     "start_time": "2023-12-06T23:05:46.994803Z"
    }
   },
   "outputs": [
    {
     "name": "stdout",
     "output_type": "stream",
     "text": [
      "\u001B[33mWARNING: There was an error checking the latest version of pip.\u001B[0m\u001B[33m\r\n",
      "\u001B[0m"
     ]
    }
   ],
   "source": [
    "! pip install firebase-admin faker --quiet"
   ]
  },
  {
   "cell_type": "code",
   "execution_count": 295,
   "outputs": [],
   "source": [
    "from datetime import datetime\n",
    "import pandas as pd"
   ],
   "metadata": {
    "collapsed": false,
    "ExecuteTime": {
     "end_time": "2023-12-06T23:05:48.937261Z",
     "start_time": "2023-12-06T23:05:48.934542Z"
    }
   }
  },
  {
   "cell_type": "markdown",
   "metadata": {},
   "source": [
    "# Load Firebasedata"
   ]
  },
  {
   "cell_type": "code",
   "execution_count": 296,
   "metadata": {
    "ExecuteTime": {
     "end_time": "2023-12-06T23:05:48.942903Z",
     "start_time": "2023-12-06T23:05:48.939311Z"
    }
   },
   "outputs": [],
   "source": [
    "import firebase_admin\n",
    "from firebase_admin import credentials, firestore\n",
    "from faker import Faker"
   ]
  },
  {
   "cell_type": "code",
   "execution_count": 297,
   "metadata": {
    "ExecuteTime": {
     "end_time": "2023-12-06T23:05:49.066289Z",
     "start_time": "2023-12-06T23:05:48.944712Z"
    }
   },
   "outputs": [
    {
     "ename": "ValueError",
     "evalue": "The default Firebase app already exists. This means you called initialize_app() more than once without providing an app name as the second argument. In most cases you only need to call initialize_app() once. But if you do want to initialize multiple apps, pass a second argument to initialize_app() to give each app a unique name.",
     "output_type": "error",
     "traceback": [
      "\u001B[0;31m---------------------------------------------------------------------------\u001B[0m",
      "\u001B[0;31mValueError\u001B[0m                                Traceback (most recent call last)",
      "Cell \u001B[0;32mIn[297], line 2\u001B[0m\n\u001B[1;32m      1\u001B[0m cred \u001B[38;5;241m=\u001B[39m credentials\u001B[38;5;241m.\u001B[39mCertificate(\u001B[38;5;124m'\u001B[39m\u001B[38;5;124mserviceAccount.json\u001B[39m\u001B[38;5;124m'\u001B[39m)\n\u001B[0;32m----> 2\u001B[0m \u001B[43mfirebase_admin\u001B[49m\u001B[38;5;241;43m.\u001B[39;49m\u001B[43minitialize_app\u001B[49m\u001B[43m(\u001B[49m\u001B[43mcred\u001B[49m\u001B[43m)\u001B[49m\n",
      "File \u001B[0;32m~/opt/anaconda3/lib/python3.8/site-packages/firebase_admin/__init__.py:73\u001B[0m, in \u001B[0;36minitialize_app\u001B[0;34m(credential, options, name)\u001B[0m\n\u001B[1;32m     70\u001B[0m         \u001B[38;5;28;01mreturn\u001B[39;00m app\n\u001B[1;32m     72\u001B[0m \u001B[38;5;28;01mif\u001B[39;00m name \u001B[38;5;241m==\u001B[39m _DEFAULT_APP_NAME:\n\u001B[0;32m---> 73\u001B[0m     \u001B[38;5;28;01mraise\u001B[39;00m \u001B[38;5;167;01mValueError\u001B[39;00m((\n\u001B[1;32m     74\u001B[0m         \u001B[38;5;124m'\u001B[39m\u001B[38;5;124mThe default Firebase app already exists. This means you called \u001B[39m\u001B[38;5;124m'\u001B[39m\n\u001B[1;32m     75\u001B[0m         \u001B[38;5;124m'\u001B[39m\u001B[38;5;124minitialize_app() more than once without providing an app name as \u001B[39m\u001B[38;5;124m'\u001B[39m\n\u001B[1;32m     76\u001B[0m         \u001B[38;5;124m'\u001B[39m\u001B[38;5;124mthe second argument. In most cases you only need to call \u001B[39m\u001B[38;5;124m'\u001B[39m\n\u001B[1;32m     77\u001B[0m         \u001B[38;5;124m'\u001B[39m\u001B[38;5;124minitialize_app() once. But if you do want to initialize multiple \u001B[39m\u001B[38;5;124m'\u001B[39m\n\u001B[1;32m     78\u001B[0m         \u001B[38;5;124m'\u001B[39m\u001B[38;5;124mapps, pass a second argument to initialize_app() to give each app \u001B[39m\u001B[38;5;124m'\u001B[39m\n\u001B[1;32m     79\u001B[0m         \u001B[38;5;124m'\u001B[39m\u001B[38;5;124ma unique name.\u001B[39m\u001B[38;5;124m'\u001B[39m))\n\u001B[1;32m     81\u001B[0m \u001B[38;5;28;01mraise\u001B[39;00m \u001B[38;5;167;01mValueError\u001B[39;00m((\n\u001B[1;32m     82\u001B[0m     \u001B[38;5;124m'\u001B[39m\u001B[38;5;124mFirebase app named \u001B[39m\u001B[38;5;124m\"\u001B[39m\u001B[38;5;132;01m{0}\u001B[39;00m\u001B[38;5;124m\"\u001B[39m\u001B[38;5;124m already exists. This means you called \u001B[39m\u001B[38;5;124m'\u001B[39m\n\u001B[1;32m     83\u001B[0m     \u001B[38;5;124m'\u001B[39m\u001B[38;5;124minitialize_app() more than once with the same app name as the \u001B[39m\u001B[38;5;124m'\u001B[39m\n\u001B[1;32m     84\u001B[0m     \u001B[38;5;124m'\u001B[39m\u001B[38;5;124msecond argument. Make sure you provide a unique name every time \u001B[39m\u001B[38;5;124m'\u001B[39m\n\u001B[1;32m     85\u001B[0m     \u001B[38;5;124m'\u001B[39m\u001B[38;5;124myou call initialize_app().\u001B[39m\u001B[38;5;124m'\u001B[39m)\u001B[38;5;241m.\u001B[39mformat(name))\n",
      "\u001B[0;31mValueError\u001B[0m: The default Firebase app already exists. This means you called initialize_app() more than once without providing an app name as the second argument. In most cases you only need to call initialize_app() once. But if you do want to initialize multiple apps, pass a second argument to initialize_app() to give each app a unique name."
     ]
    }
   ],
   "source": [
    "cred = credentials.Certificate('serviceAccount.json')\n",
    "firebase_admin.initialize_app(cred)"
   ]
  },
  {
   "cell_type": "code",
   "execution_count": null,
   "metadata": {
    "ExecuteTime": {
     "end_time": "2023-12-06T23:05:49.071274Z",
     "start_time": "2023-12-06T23:05:49.067167Z"
    }
   },
   "outputs": [],
   "source": [
    "#get list of collections\n",
    "db = firestore.client()\n",
    "collections = [x.id for x in db.collections()]\n",
    "print(collections)"
   ]
  },
  {
   "cell_type": "code",
   "execution_count": null,
   "metadata": {
    "ExecuteTime": {
     "start_time": "2023-12-06T23:05:49.068740Z"
    }
   },
   "outputs": [],
   "source": [
    "master_classes = db.collection(\"Masterclasses\").get()\n",
    "users = db.collection(\"Users\").get()\n",
    "coaches = db.collection(\"Coaches\").get()\n",
    "events = db.collection(\"Events\").get()\n",
    "blogs = db.collection(\"Blogs\").get()\n",
    "snax = db.collection(\"Snax\").get()\n",
    "\n",
    "#convert to json\n",
    "master_classes = [x.to_dict() for x in master_classes]\n",
    "users = [x.to_dict() for x in users]\n",
    "coaches = [x.to_dict() for x in coaches]\n",
    "events = [x.to_dict() for x in events]\n",
    "blogs = [x.to_dict() for x in blogs]\n",
    "snax = [x.to_dict() for x in snax]"
   ]
  },
  {
   "cell_type": "markdown",
   "metadata": {},
   "source": [
    "# Filter out Firebase fields"
   ]
  },
  {
   "cell_type": "markdown",
   "metadata": {},
   "source": [
    "### Users"
   ]
  },
  {
   "cell_type": "code",
   "execution_count": null,
   "metadata": {
    "ExecuteTime": {
     "start_time": "2023-12-06T23:05:49.070738Z"
    }
   },
   "outputs": [],
   "source": [
    "len(users)"
   ]
  },
  {
   "cell_type": "code",
   "execution_count": null,
   "metadata": {
    "ExecuteTime": {
     "start_time": "2023-12-06T23:05:49.072405Z"
    }
   },
   "outputs": [],
   "source": [
    "#remove fields email, firstName, lifetime, refACID, role, surname from users\n",
    "for user in users:\n",
    "    user.pop('email', None)\n",
    "    user.pop('firstName', None)\n",
    "    user.pop('lifetime', None)\n",
    "    user.pop('refACID', None)\n",
    "    user.pop('role', None)\n",
    "    user.pop('surname', None)"
   ]
  },
  {
   "cell_type": "markdown",
   "metadata": {},
   "source": [
    "### Coaches"
   ]
  },
  {
   "cell_type": "code",
   "execution_count": null,
   "metadata": {
    "ExecuteTime": {
     "start_time": "2023-12-06T23:05:49.073224Z"
    }
   },
   "outputs": [],
   "source": [
    "#remove about, blogs, books, facebook, image, instagram, link,linkedin, podcasts from coaches\n",
    "for coach in coaches:\n",
    "    coach.pop('about', None)\n",
    "    coach.pop('blogs', None)\n",
    "    coach.pop('books', None)\n",
    "    coach.pop('facebook', None)\n",
    "    coach.pop('image', None)\n",
    "    coach.pop('instagram', None)\n",
    "    coach.pop('link', None)\n",
    "    coach.pop('linkedin', None)\n",
    "    coach.pop('podcasts', None)"
   ]
  },
  {
   "cell_type": "markdown",
   "metadata": {},
   "source": [
    "### Masterclasses"
   ]
  },
  {
   "cell_type": "code",
   "execution_count": null,
   "metadata": {
    "ExecuteTime": {
     "start_time": "2023-12-06T23:05:49.074009Z"
    }
   },
   "outputs": [],
   "source": [
    "#remove fields, courseLessons, courseOverview, Description, filterTags, Progress, videoURL from master_classes\n",
    "for master_class in master_classes:\n",
    "    master_class.pop('courseLessons', None)\n",
    "    master_class.pop('courseOverview', None)\n",
    "    master_class.pop('Description', None)\n",
    "    master_class.pop('filterTags', None)\n",
    "    master_class.pop('Progress', None)\n",
    "    master_class.pop('videoURL', None)"
   ]
  },
  {
   "cell_type": "markdown",
   "metadata": {},
   "source": [
    "# Calculate additional metrics"
   ]
  },
  {
   "cell_type": "markdown",
   "metadata": {},
   "source": [
    "# Write data to elastic"
   ]
  },
  {
   "cell_type": "markdown",
   "metadata": {},
   "source": [
    "We will recalculate aggregate metrics"
   ]
  },
  {
   "cell_type": "markdown",
   "metadata": {},
   "source": [
    "### Users"
   ]
  },
  {
   "cell_type": "code",
   "execution_count": 298,
   "outputs": [
    {
     "name": "stdout",
     "output_type": "stream",
     "text": [
      "[{'score': 44, 'classroom': 'Job'}, {'score': 77, 'classroom': 'Geld für morgen'}, {'score': 100, 'classroom': 'Partnerschaft'}, {'score': 57, 'classroom': 'Gründung'}, {'score': 77, 'classroom': 'Familie'}, {'score': 75, 'classroom': 'Investieren'}, {'score': 71, 'classroom': 'Ausbildung'}]\n"
     ]
    }
   ],
   "source": [
    "print(users[10]['Interest'])"
   ],
   "metadata": {
    "collapsed": false,
    "ExecuteTime": {
     "end_time": "2023-12-06T23:05:49.178649Z",
     "start_time": "2023-12-06T23:05:49.173194Z"
    }
   }
  },
  {
   "cell_type": "markdown",
   "metadata": {},
   "source": [
    "Total Watchtime"
   ]
  },
  {
   "cell_type": "code",
   "execution_count": 299,
   "metadata": {
    "ExecuteTime": {
     "end_time": "2023-12-06T23:05:49.918937Z",
     "start_time": "2023-12-06T23:05:49.916437Z"
    }
   },
   "outputs": [
    {
     "data": {
      "text/plain": "[{'Masterclass': 5, 'progress': '154 min'},\n {'Masterclass': 6, 'progress': '470 min'}]"
     },
     "execution_count": 299,
     "metadata": {},
     "output_type": "execute_result"
    }
   ],
   "source": [
    "users[1][\"Watched\"]"
   ]
  },
  {
   "cell_type": "code",
   "execution_count": 300,
   "metadata": {
    "ExecuteTime": {
     "end_time": "2023-12-06T23:05:50.239365Z",
     "start_time": "2023-12-06T23:05:50.234027Z"
    }
   },
   "outputs": [],
   "source": [
    "#Total Watchtime\n",
    "#itertae through each users and calculate total watchtime by aggregating the Progress propertie of Watched\n",
    "for user in users:\n",
    "    watchtime = 0\n",
    "    for watched in user['Watched']:\n",
    "        watchtime += int(watched['progress'].split(\" \")[0])\n",
    "    user['TotalWatchtime'] = watchtime"
   ]
  },
  {
   "cell_type": "markdown",
   "metadata": {},
   "source": [
    "Courses enrolled"
   ]
  },
  {
   "cell_type": "code",
   "execution_count": 301,
   "metadata": {
    "ExecuteTime": {
     "end_time": "2023-12-06T23:05:50.736232Z",
     "start_time": "2023-12-06T23:05:50.734586Z"
    }
   },
   "outputs": [],
   "source": [
    "# for each users go through events and filter Event-Type = enroll_course and calculate total enrollments\n",
    "for user in users:\n",
    "    enrollments = 0\n",
    "    for event in events:\n",
    "        if event['Event-Type'] == 'enroll_course':\n",
    "            if event['User-Id'] == user['id']:\n",
    "                enrollments += 1\n",
    "    user['Age'] = datetime.today().year - int(user['Birthdate'].split(\"/\")[0])\n",
    "    user['Courses_enrolled'] = enrollments"
   ]
  },
  {
   "cell_type": "markdown",
   "metadata": {},
   "source": [
    "Courses completed"
   ]
  },
  {
   "cell_type": "code",
   "execution_count": 302,
   "metadata": {
    "ExecuteTime": {
     "end_time": "2023-12-06T23:05:51.239184Z",
     "start_time": "2023-12-06T23:05:51.225286Z"
    }
   },
   "outputs": [],
   "source": [
    "# for each users go through events and filter Event-Type = complete_course and calculate \"Courses_completed\"\n",
    "for user in users:\n",
    "    courses_completed = 0\n",
    "    for event in events:\n",
    "        if event['Event-Type'] == 'complete_course':\n",
    "            if event['User-Id'] == user['id']:\n",
    "                courses_completed += 1\n",
    "    user['Courses_completed'] = courses_completed"
   ]
  },
  {
   "cell_type": "markdown",
   "metadata": {},
   "source": [
    "Courses saved"
   ]
  },
  {
   "cell_type": "code",
   "execution_count": 303,
   "metadata": {
    "ExecuteTime": {
     "end_time": "2023-12-06T23:05:51.762954Z",
     "start_time": "2023-12-06T23:05:51.756759Z"
    }
   },
   "outputs": [],
   "source": [
    "# for each users go through events and filter Event-Type = save_course and calculate \"Courses_saved\"\n",
    "for user in users:\n",
    "    courses_saved = 0\n",
    "    for event in events:\n",
    "        if event['Event-Type'] == 'save_course':\n",
    "            if event['User-Id'] == user['id']:\n",
    "                courses_saved += 1\n",
    "    user['Courses_saved'] = courses_saved"
   ]
  },
  {
   "cell_type": "markdown",
   "source": [
    "Create Geospatial Index"
   ],
   "metadata": {
    "collapsed": false
   }
  },
  {
   "cell_type": "code",
   "execution_count": 304,
   "outputs": [
    {
     "data": {
      "text/plain": "            lat        lng\nplz                       \n1067  51.057550  13.717065\n1069  51.039135  13.737675\n1097  51.065908  13.736152\n1099  51.087188  13.802804\n1108  51.144324  13.799706",
      "text/html": "<div>\n<style scoped>\n    .dataframe tbody tr th:only-of-type {\n        vertical-align: middle;\n    }\n\n    .dataframe tbody tr th {\n        vertical-align: top;\n    }\n\n    .dataframe thead th {\n        text-align: right;\n    }\n</style>\n<table border=\"1\" class=\"dataframe\">\n  <thead>\n    <tr style=\"text-align: right;\">\n      <th></th>\n      <th>lat</th>\n      <th>lng</th>\n    </tr>\n    <tr>\n      <th>plz</th>\n      <th></th>\n      <th></th>\n    </tr>\n  </thead>\n  <tbody>\n    <tr>\n      <th>1067</th>\n      <td>51.057550</td>\n      <td>13.717065</td>\n    </tr>\n    <tr>\n      <th>1069</th>\n      <td>51.039135</td>\n      <td>13.737675</td>\n    </tr>\n    <tr>\n      <th>1097</th>\n      <td>51.065908</td>\n      <td>13.736152</td>\n    </tr>\n    <tr>\n      <th>1099</th>\n      <td>51.087188</td>\n      <td>13.802804</td>\n    </tr>\n    <tr>\n      <th>1108</th>\n      <td>51.144324</td>\n      <td>13.799706</td>\n    </tr>\n  </tbody>\n</table>\n</div>"
     },
     "execution_count": 304,
     "metadata": {},
     "output_type": "execute_result"
    }
   ],
   "source": [
    "geotable = 'plz_geocoord.csv'\n",
    "\n",
    "df = pd.read_csv(geotable)\n",
    "df.set_index('plz', inplace=True)\n",
    "df.head()"
   ],
   "metadata": {
    "collapsed": false,
    "ExecuteTime": {
     "end_time": "2023-12-06T23:05:53.857300Z",
     "start_time": "2023-12-06T23:05:53.819232Z"
    }
   }
  },
  {
   "cell_type": "markdown",
   "source": [
    "Create an index with \n",
    "mapping index_name = 'your_index' mapping = {\n",
    "     \"mappings\": \n",
    "        {         \n",
    "            \"properties\": \n",
    "                {             \"location\": {                 \"type\": \"geo_point\"             },             \"other_field\": {                 \"type\": \"text\"             }             # Add other fields as needed         }     } }  es.indices.create(index=index_name, body=mapping, ignore=400)  # Ignore 400 already exists  # Index a document with a geospatial location doc = {     \"location\": {         \"lat\": 40.7128,         \"lon\": -74.0060     },     \"other_field\": \"some_value\"     # Add other fields as needed }"
   ],
   "metadata": {
    "collapsed": false
   }
  },
  {
   "cell_type": "code",
   "execution_count": 312,
   "outputs": [],
   "source": [
    "for user in users:\n",
    "    if user['postalCode'] not in df.index:\n",
    "       print(user['postalCode'])\n",
    "       continue\n",
    "       \n",
    "    postalcode = int(str(user['postalCode']))\n",
    "    \n",
    "    user['location'] = { \n",
    "                #\"type\": \"Point\",\n",
    "                \"lat\": df.loc[postalcode]['lat'],\n",
    "                \"long\": df.loc[postalcode]['lng']\n",
    "                }"
   ],
   "metadata": {
    "collapsed": false,
    "ExecuteTime": {
     "end_time": "2023-12-06T23:16:28.888604Z",
     "start_time": "2023-12-06T23:16:28.887205Z"
    }
   }
  },
  {
   "cell_type": "markdown",
   "source": [
    "### Events"
   ],
   "metadata": {
    "collapsed": false
   }
  },
  {
   "cell_type": "code",
   "execution_count": 306,
   "outputs": [],
   "source": [
    "for event in events:\n",
    "    date = datetime.strptime(event['Timestamp'], '%Y-%m-%d').date()\n",
    "    event['Year'] = date.year\n",
    "    event['Month'] = date.month\n",
    "    event['Day'] = date.day"
   ],
   "metadata": {
    "collapsed": false,
    "ExecuteTime": {
     "end_time": "2023-12-06T23:05:56.927004Z",
     "start_time": "2023-12-06T23:05:56.906291Z"
    }
   }
  },
  {
   "cell_type": "markdown",
   "source": [
    "Average session duration (maybe remove)"
   ],
   "metadata": {
    "collapsed": false
   }
  },
  {
   "cell_type": "markdown",
   "source": [
    "It is important to note that here we can calculate additional field metrics"
   ],
   "metadata": {
    "collapsed": false
   }
  },
  {
   "cell_type": "code",
   "execution_count": 306,
   "outputs": [],
   "source": [],
   "metadata": {
    "collapsed": false,
    "ExecuteTime": {
     "end_time": "2023-12-06T23:06:00.349617Z",
     "start_time": "2023-12-06T23:06:00.344778Z"
    }
   }
  },
  {
   "cell_type": "markdown",
   "metadata": {},
   "source": [
    "# Move data to elastic"
   ]
  },
  {
   "cell_type": "code",
   "execution_count": 316,
   "metadata": {
    "ExecuteTime": {
     "end_time": "2023-12-06T23:19:37.738721Z",
     "start_time": "2023-12-06T23:19:37.685429Z"
    }
   },
   "outputs": [],
   "source": [
    "\n",
    "from elasticsearch import Elasticsearch\n",
    "# Found in the 'Manage this deployment' page\n",
    "CLOUD_ID = \"IP:dXMtY2VudHJhbDEuZ2NwLmNsb3VkLmVzLmlvOjQ0MyRkZTFjZjM2NjdkN2E0OTg2YTE1NDgzYTVkZmU5YmJkMyQwYTdhYWUyN2JhMmI0NWQ2YTVmOTVjNmM2ZjUxZDMzOA==\"\n",
    "# Found in the 'Management' page under the section 'Security'\n",
    "API_KEY = \"WmlxVFBvd0JGclg2OUZEY2NIZkU6cG5hSXQ2bjVTczY5eWl5VThLYzFaZw==\"\n",
    "# Create the client instance\n",
    "client = Elasticsearch(\n",
    "    cloud_id=CLOUD_ID,\n",
    "    api_key=API_KEY,\n",
    ")\n",
    "          "
   ]
  },
  {
   "cell_type": "code",
   "execution_count": 317,
   "metadata": {
    "ExecuteTime": {
     "end_time": "2023-12-06T23:19:53.936415Z",
     "start_time": "2023-12-06T23:19:38.420950Z"
    }
   },
   "outputs": [],
   "source": [
    "#write ['Blogs', 'Coaches', 'Events', 'Masterclasses', 'Snax', 'Users'] to elastic search\n",
    "for user in users:\n",
    "    client.index(index=\"users\", body=user)\n"
   ]
  },
  {
   "cell_type": "code",
   "execution_count": 311,
   "metadata": {
    "ExecuteTime": {
     "end_time": "2023-12-06T23:11:53.275669Z",
     "start_time": "2023-12-06T23:10:41.389810Z"
    }
   },
   "outputs": [],
   "source": [
    "\n",
    "for coach in coaches:\n",
    "    client.index(index=\"coaches\", body=coach)\n",
    "for event in events:\n",
    "    client.index(index=\"events\", body=event)\n",
    "for master_class in master_classes:\n",
    "    client.index(index=\"masterclasses\", body=master_class)\n",
    "for blog in blogs:\n",
    "    client.index(index=\"blogs\", body=blog)\n",
    "for snak in snax:\n",
    "    client.index(index=\"snax\", body=snak)"
   ]
  },
  {
   "cell_type": "code",
   "execution_count": 315,
   "outputs": [
    {
     "data": {
      "text/plain": "ObjectApiResponse({'acknowledged': True})"
     },
     "execution_count": 315,
     "metadata": {},
     "output_type": "execute_result"
    }
   ],
   "source": [
    "client.options(ignore_status=[400,404]).indices.delete(index='users')"
   ],
   "metadata": {
    "collapsed": false,
    "ExecuteTime": {
     "end_time": "2023-12-06T23:19:15.163468Z",
     "start_time": "2023-12-06T23:19:14.950671Z"
    }
   }
  },
  {
   "cell_type": "code",
   "execution_count": null,
   "outputs": [],
   "source": [],
   "metadata": {
    "collapsed": false
   }
  }
 ],
 "metadata": {
  "kernelspec": {
   "display_name": "Python 3",
   "language": "python",
   "name": "python3"
  },
  "language_info": {
   "codemirror_mode": {
    "name": "ipython",
    "version": 3
   },
   "file_extension": ".py",
   "mimetype": "text/x-python",
   "name": "python",
   "nbconvert_exporter": "python",
   "pygments_lexer": "ipython3",
   "version": "3.10.4"
  }
 },
 "nbformat": 4,
 "nbformat_minor": 2
}
