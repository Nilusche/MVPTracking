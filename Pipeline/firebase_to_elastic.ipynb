{
 "cells": [
  {
   "cell_type": "code",
   "execution_count": 1,
   "metadata": {},
   "outputs": [
    {
     "name": "stderr",
     "output_type": "stream",
     "text": [
      "\n",
      "[notice] A new release of pip is available: 23.1.2 -> 23.3.1\n",
      "[notice] To update, run: python.exe -m pip install --upgrade pip\n"
     ]
    }
   ],
   "source": [
    "! pip install elasticsearch --quiet"
   ]
  },
  {
   "cell_type": "code",
   "execution_count": 3,
   "metadata": {},
   "outputs": [
    {
     "name": "stderr",
     "output_type": "stream",
     "text": [
      "\n",
      "[notice] A new release of pip is available: 23.1.2 -> 23.3.1\n",
      "[notice] To update, run: python.exe -m pip install --upgrade pip\n"
     ]
    }
   ],
   "source": [
    "! pip install firebase-admin faker --quiet"
   ]
  },
  {
   "cell_type": "markdown",
   "metadata": {},
   "source": [
    "# Load Firebasedata"
   ]
  },
  {
   "cell_type": "code",
   "execution_count": 4,
   "metadata": {},
   "outputs": [],
   "source": [
    "import firebase_admin\n",
    "from firebase_admin import credentials, firestore\n",
    "from faker import Faker"
   ]
  },
  {
   "cell_type": "code",
   "execution_count": 5,
   "metadata": {},
   "outputs": [
    {
     "data": {
      "text/plain": [
       "<firebase_admin.App at 0x25fe7b9a800>"
      ]
     },
     "execution_count": 5,
     "metadata": {},
     "output_type": "execute_result"
    }
   ],
   "source": [
    "cred = credentials.Certificate('serviceAccount.json')\n",
    "firebase_admin.initialize_app(cred)"
   ]
  },
  {
   "cell_type": "code",
   "execution_count": 53,
   "metadata": {},
   "outputs": [
    {
     "name": "stdout",
     "output_type": "stream",
     "text": [
      "['Coaches', 'Events', 'Masterclasses', 'Users']\n"
     ]
    }
   ],
   "source": [
    "#get list of collections\n",
    "db = firestore.client()\n",
    "collections = [x.id for x in db.collections()]\n",
    "print(collections)"
   ]
  },
  {
   "cell_type": "code",
   "execution_count": 54,
   "metadata": {},
   "outputs": [],
   "source": [
    "master_classes = db.collection(\"Masterclasses\").get()\n",
    "users = db.collection(\"Users\").get()\n",
    "coaches = db.collection(\"Coaches\").get()\n",
    "events = db.collection(\"Events\").get()\n",
    "\n",
    "#convert to json\n",
    "master_classes = [x.to_dict() for x in master_classes]\n",
    "users = [x.to_dict() for x in users]\n",
    "coaches = [x.to_dict() for x in coaches]\n",
    "events = [x.to_dict() for x in events]"
   ]
  },
  {
   "cell_type": "markdown",
   "metadata": {},
   "source": [
    "# Filter out Firebase fields"
   ]
  },
  {
   "cell_type": "markdown",
   "metadata": {},
   "source": [
    "### Users"
   ]
  },
  {
   "cell_type": "code",
   "execution_count": 55,
   "metadata": {},
   "outputs": [
    {
     "data": {
      "text/plain": [
       "100"
      ]
     },
     "execution_count": 55,
     "metadata": {},
     "output_type": "execute_result"
    }
   ],
   "source": [
    "len(users)"
   ]
  },
  {
   "cell_type": "code",
   "execution_count": 56,
   "metadata": {},
   "outputs": [],
   "source": [
    "#remove fields email, firstName, lifetime, refACID, role, surname from users\n",
    "for user in users:\n",
    "    user.pop('email', None)\n",
    "    user.pop('firstName', None)\n",
    "    user.pop('lifetime', None)\n",
    "    user.pop('refACID', None)\n",
    "    user.pop('role', None)\n",
    "    user.pop('surname', None)"
   ]
  },
  {
   "cell_type": "markdown",
   "metadata": {},
   "source": [
    "### Coaches"
   ]
  },
  {
   "cell_type": "code",
   "execution_count": 57,
   "metadata": {},
   "outputs": [],
   "source": [
    "#remove about, blogs, books, facebook, image, instagram, link,linkedin, podcasts from coaches\n",
    "for coach in coaches:\n",
    "    coach.pop('about', None)\n",
    "    coach.pop('blogs', None)\n",
    "    coach.pop('books', None)\n",
    "    coach.pop('facebook', None)\n",
    "    coach.pop('image', None)\n",
    "    coach.pop('instagram', None)\n",
    "    coach.pop('link', None)\n",
    "    coach.pop('linkedin', None)\n",
    "    coach.pop('podcasts', None)"
   ]
  },
  {
   "cell_type": "markdown",
   "metadata": {},
   "source": [
    "### Masterclasses"
   ]
  },
  {
   "cell_type": "code",
   "execution_count": 59,
   "metadata": {},
   "outputs": [],
   "source": [
    "#remove fields, courseLessons, courseOverview, Description, filterTags, Progress, videoURL from master_classes\n",
    "for master_class in master_classes:\n",
    "    master_class.pop('courseLessons', None)\n",
    "    master_class.pop('courseOverview', None)\n",
    "    master_class.pop('Description', None)\n",
    "    master_class.pop('filterTags', None)\n",
    "    master_class.pop('Progress', None)\n",
    "    master_class.pop('videoURL', None)"
   ]
  },
  {
   "cell_type": "markdown",
   "metadata": {},
   "source": [
    "# Calculate additional metrics"
   ]
  },
  {
   "cell_type": "markdown",
   "metadata": {},
   "source": [
    "# Write data to elastic"
   ]
  },
  {
   "cell_type": "markdown",
   "metadata": {},
   "source": [
    "We will recalculate aggregate metrics"
   ]
  },
  {
   "cell_type": "markdown",
   "metadata": {},
   "source": [
    "### Users"
   ]
  },
  {
   "cell_type": "markdown",
   "metadata": {},
   "source": [
    "Total Watchtime"
   ]
  },
  {
   "cell_type": "code",
   "execution_count": 60,
   "metadata": {},
   "outputs": [
    {
     "data": {
      "text/plain": [
       "[{'Masterclass': 30, 'progress': '260 min'},\n",
       " {'Masterclass': 61, 'progress': '155 min'},\n",
       " {'Masterclass': 5, 'progress': '386 min'},\n",
       " {'Masterclass': 72, 'progress': '149 min'},\n",
       " {'Masterclass': 47, 'progress': '416 min'}]"
      ]
     },
     "execution_count": 60,
     "metadata": {},
     "output_type": "execute_result"
    }
   ],
   "source": [
    "users[1][\"Watched\"]"
   ]
  },
  {
   "cell_type": "code",
   "execution_count": 66,
   "metadata": {},
   "outputs": [],
   "source": [
    "#Total Watchtime\n",
    "#itertae through each users and calculate total watchtime by aggregating the Progress propertie of Watched\n",
    "for user in users:\n",
    "    watchtime = 0\n",
    "    for watched in user['Watched']:\n",
    "        watchtime += int(watched['progress'].split(\" \")[0])\n",
    "    user['TotalWatchtime'] = watchtime"
   ]
  },
  {
   "cell_type": "markdown",
   "metadata": {},
   "source": [
    "Courses enrolled"
   ]
  },
  {
   "cell_type": "code",
   "execution_count": 67,
   "metadata": {},
   "outputs": [],
   "source": [
    "# for each users go through events and filter Event-Type = enroll_course and calculate total enrollments\n",
    "for user in users:\n",
    "    enrollments = 0\n",
    "    for event in events:\n",
    "        if event['Event-Type'] == 'enroll_course':\n",
    "            if event['User-Id'] == user['id']:\n",
    "                enrollments += 1\n",
    "    user['Courses_enrolled'] = enrollments"
   ]
  },
  {
   "cell_type": "markdown",
   "metadata": {},
   "source": [
    "Courses completed"
   ]
  },
  {
   "cell_type": "code",
   "execution_count": 68,
   "metadata": {},
   "outputs": [],
   "source": [
    "# for each users go through events and filter Event-Type = complete_course and calculate \"Courses_completed\"\n",
    "for user in users:\n",
    "    courses_completed = 0\n",
    "    for event in events:\n",
    "        if event['Event-Type'] == 'complete_course':\n",
    "            if event['User-Id'] == user['id']:\n",
    "                courses_completed += 1\n",
    "    user['Courses_completed'] = courses_completed"
   ]
  },
  {
   "cell_type": "markdown",
   "metadata": {},
   "source": [
    "Courses saved"
   ]
  },
  {
   "cell_type": "code",
   "execution_count": 69,
   "metadata": {},
   "outputs": [],
   "source": [
    "# for each users go through events and filter Event-Type = save_course and calculate \"Courses_saved\"\n",
    "for user in users:\n",
    "    courses_saved = 0\n",
    "    for event in events:\n",
    "        if event['Event-Type'] == 'save_course':\n",
    "            if event['User-Id'] == user['id']:\n",
    "                courses_saved += 1\n",
    "    user['Courses_saved'] = courses_saved"
   ]
  },
  {
   "cell_type": "markdown",
   "metadata": {},
   "source": [
    "Average session duration (maybe remove)"
   ]
  },
  {
   "cell_type": "markdown",
   "metadata": {},
   "source": [
    "It is important to note that here we can calculate additional field metrics"
   ]
  },
  {
   "cell_type": "markdown",
   "metadata": {},
   "source": [
    "# Move data to elastic"
   ]
  },
  {
   "cell_type": "code",
   "execution_count": 71,
   "metadata": {},
   "outputs": [],
   "source": [
    "\n",
    "from elasticsearch import Elasticsearch\n",
    "# Found in the 'Manage this deployment' page\n",
    "CLOUD_ID = \"27730103de834f3faaf769245266b4e9:dXMtY2VudHJhbDEuZ2NwLmNsb3VkLmVzLmlvOjQ0MyRhYzdlZjMxZGZlZjM0MTYzOThjNzRhM2FhNjk1ZGI3MCQ2YjAxNzFhYjc1MmY0MGQ3OGQ2NDIzZjI5MmZmNjdkNg==\"\n",
    "# Found in the 'Management' page under the section 'Security'\n",
    "API_KEY = \"aWZKVjhvc0JkMUlzbWJUUWpjcTY6YkU0UWlPbmRSZmVwY0NKUWpMSnV3Zw==\"\n",
    "# Create the client instance\n",
    "client = Elasticsearch(\n",
    "    cloud_id=CLOUD_ID,\n",
    "    api_key=API_KEY,\n",
    ")\n",
    "          "
   ]
  },
  {
   "cell_type": "code",
   "execution_count": 73,
   "metadata": {},
   "outputs": [],
   "source": [
    "#write users to elastic\n",
    "for user in users:\n",
    "    client.index(index='users', body=user)"
   ]
  },
  {
   "cell_type": "code",
   "execution_count": null,
   "metadata": {},
   "outputs": [],
   "source": []
  }
 ],
 "metadata": {
  "kernelspec": {
   "display_name": "Python 3",
   "language": "python",
   "name": "python3"
  },
  "language_info": {
   "codemirror_mode": {
    "name": "ipython",
    "version": 3
   },
   "file_extension": ".py",
   "mimetype": "text/x-python",
   "name": "python",
   "nbconvert_exporter": "python",
   "pygments_lexer": "ipython3",
   "version": "3.10.4"
  }
 },
 "nbformat": 4,
 "nbformat_minor": 2
}
