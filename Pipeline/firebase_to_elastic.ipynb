{
 "cells": [
  {
   "cell_type": "code",
   "execution_count": 1,
   "metadata": {},
   "outputs": [
    {
     "name": "stderr",
     "output_type": "stream",
     "text": [
      "\n",
      "[notice] A new release of pip is available: 23.1.2 -> 23.3.1\n",
      "[notice] To update, run: python.exe -m pip install --upgrade pip\n"
     ]
    }
   ],
   "source": [
    "! pip install elasticsearch --quiet"
   ]
  },
  {
   "cell_type": "code",
   "execution_count": null,
   "metadata": {},
   "outputs": [],
   "source": [
    "\n",
    "from elasticsearch import Elasticsearch\n",
    "# Found in the 'Manage this deployment' page\n",
    "CLOUD_ID = \"IP:ZXVyb3BlLXdlc3QzLmdjcC5jbG91ZC5lcy5pbyRlMDg4ZjVjYWRiODY0MmMxYmEyMzUwNWRhY2ZkMWNiMiQwNjhmZGJmYzMzMGI0NzJlYTM2NDYzY2JiM2ZlMjRhMQ==\"\n",
    "# Found in the 'Management' page under the section 'Security'\n",
    "API_KEY = \"aHVLWnFvc0JMclpZOVlPVWFKVmc6ZHRQS2pFM3pTNmlQOENOaFJkMi1oQQ==\"\n",
    "# Create the client instance\n",
    "client = Elasticsearch(\n",
    "    cloud_id=CLOUD_ID,\n",
    "    api_key=API_KEY,\n",
    ")\n",
    "          "
   ]
  }
 ],
 "metadata": {
  "kernelspec": {
   "display_name": "Python 3",
   "language": "python",
   "name": "python3"
  },
  "language_info": {
   "codemirror_mode": {
    "name": "ipython",
    "version": 3
   },
   "file_extension": ".py",
   "mimetype": "text/x-python",
   "name": "python",
   "nbconvert_exporter": "python",
   "pygments_lexer": "ipython3",
   "version": "3.10.4"
  }
 },
 "nbformat": 4,
 "nbformat_minor": 2
}
