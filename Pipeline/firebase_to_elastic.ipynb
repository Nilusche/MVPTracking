{
 "cells": [
  {
   "cell_type": "code",
   "execution_count": null,
   "metadata": {
    "ExecuteTime": {
     "end_time": "2023-12-06T23:05:45.329136Z",
     "start_time": "2023-12-06T23:05:43.314166Z"
    }
   },
   "outputs": [],
   "source": [
    "! pip install elasticsearch --quiet"
   ]
  },
  {
   "cell_type": "code",
   "execution_count": null,
   "metadata": {
    "ExecuteTime": {
     "end_time": "2023-12-06T23:05:46.991774Z",
     "start_time": "2023-12-06T23:05:45.335608Z"
    },
    "collapsed": false
   },
   "outputs": [],
   "source": [
    "!pip install pandas"
   ]
  },
  {
   "cell_type": "code",
   "execution_count": null,
   "metadata": {
    "ExecuteTime": {
     "end_time": "2023-12-06T23:05:48.923533Z",
     "start_time": "2023-12-06T23:05:46.994803Z"
    }
   },
   "outputs": [],
   "source": [
    "! pip install firebase-admin faker --quiet"
   ]
  },
  {
   "cell_type": "code",
   "execution_count": null,
   "metadata": {
    "ExecuteTime": {
     "end_time": "2023-12-06T23:05:48.937261Z",
     "start_time": "2023-12-06T23:05:48.934542Z"
    },
    "collapsed": false
   },
   "outputs": [],
   "source": [
    "from datetime import datetime\n",
    "import pandas as pd"
   ]
  },
  {
   "cell_type": "markdown",
   "metadata": {},
   "source": [
    "# Load Firebasedata"
   ]
  },
  {
   "cell_type": "code",
   "execution_count": null,
   "metadata": {
    "ExecuteTime": {
     "end_time": "2023-12-06T23:05:48.942903Z",
     "start_time": "2023-12-06T23:05:48.939311Z"
    }
   },
   "outputs": [],
   "source": [
    "import firebase_admin\n",
    "from firebase_admin import credentials, firestore\n",
    "from faker import Faker"
   ]
  },
  {
   "cell_type": "markdown",
   "metadata": {},
   "source": [
    "## Authentifizierungsparameter"
   ]
  },
  {
   "cell_type": "code",
   "execution_count": null,
   "metadata": {},
   "outputs": [],
   "source": [
    "# Found in firestore under service Accounts / create new private key\n",
    "SERVICE_ACCOUNT = \"serviceAccount.json\"\n",
    "# Found in the 'Manage this deployment' page\n",
    "CLOUD_ID = \"IP_Explorativ_2023:ZXVyb3BlLXdlc3QzLmdjcC5jbG91ZC5lcy5pbzo0NDMkZWFhNjkzNGU4ZTk2NDJkOWI1MjM4Nzk4YmI1OTI2NDckMGVjMTVhZTM5ZGM5NDNkY2FmZWQ4MmU1OGI1Y2NlMTQ=\"\n",
    "# Found in the 'Management' page under the section 'Security'\n",
    "API_KEY = \"dTFhbjNvd0JYNm1QMTllbE9IbzE6X2ZSOFdBMUJUZzIwMkVNcXdIdTRYUQ==\"\n",
    "# Found in the 'Manage this deployment' page under Kibana / copy endpoint \n",
    "HOST = \"https://ip-explorativ-2023.kb.europe-west3.gcp.cloud.es.io:9243\"\n",
    "# Found in the 'Manage this deployment' page under Sqcurity / Reset password \n",
    "ELASTIC_PASSWORT = \"HelL56OyJH6FiJIH9Ro7oHoh\"\n"
   ]
  },
  {
   "cell_type": "code",
   "execution_count": null,
   "metadata": {
    "ExecuteTime": {
     "end_time": "2023-12-06T23:05:49.066289Z",
     "start_time": "2023-12-06T23:05:48.944712Z"
    }
   },
   "outputs": [],
   "source": [
    "cred = credentials.Certificate(SERVICE_ACCOUNT)                                                                                                \n",
    "firebase_admin.initialize_app(cred)"
   ]
  },
  {
   "cell_type": "code",
   "execution_count": null,
   "metadata": {
    "ExecuteTime": {
     "end_time": "2023-12-06T23:05:49.071274Z",
     "start_time": "2023-12-06T23:05:49.067167Z"
    }
   },
   "outputs": [],
   "source": [
    "#get list of collections\n",
    "db = firestore.client()\n",
    "collections = [x.id for x in db.collections()]\n",
    "print(collections)"
   ]
  },
  {
   "cell_type": "code",
   "execution_count": null,
   "metadata": {
    "ExecuteTime": {
     "start_time": "2023-12-06T23:05:49.068740Z"
    }
   },
   "outputs": [],
   "source": [
    "master_classes = db.collection(\"Masterclasses\").get()\n",
    "users = db.collection(\"Users\").get()\n",
    "coaches = db.collection(\"Coaches\").get()\n",
    "events = db.collection(\"Events\").get()\n",
    "blogs = db.collection(\"Blogs\").get()\n",
    "snax = db.collection(\"Snax\").get()\n",
    "organizations = db.collection(\"Orga\").get()\n",
    "\n",
    "#convert to json\n",
    "master_classes = [x.to_dict() for x in master_classes]\n",
    "users = [x.to_dict() for x in users]\n",
    "coaches = [x.to_dict() for x in coaches]\n",
    "events = [x.to_dict() for x in events]\n",
    "blogs = [x.to_dict() for x in blogs]\n",
    "snax = [x.to_dict() for x in snax]\n",
    "organizations = [x.to_dict() for x in organizations]"
   ]
  },
  {
   "cell_type": "markdown",
   "metadata": {},
   "source": [
    "# Filter out Firebase fields"
   ]
  },
  {
   "cell_type": "markdown",
   "metadata": {},
   "source": [
    "### Users"
   ]
  },
  {
   "cell_type": "code",
   "execution_count": null,
   "metadata": {
    "ExecuteTime": {
     "start_time": "2023-12-06T23:05:49.072405Z"
    }
   },
   "outputs": [],
   "source": [
    "#remove fields email, firstName, lifetime, refACID, role, surname from users\n",
    "for user in users:\n",
    "    user.pop('email', None)\n",
    "    user.pop('firstName', None)\n",
    "    user.pop('lifetime', None)\n",
    "    user.pop('refACID', None)\n",
    "    user.pop('role', None)\n",
    "    user.pop('surname', None)"
   ]
  },
  {
   "cell_type": "markdown",
   "metadata": {},
   "source": [
    "### Coaches"
   ]
  },
  {
   "cell_type": "code",
   "execution_count": null,
   "metadata": {
    "ExecuteTime": {
     "start_time": "2023-12-06T23:05:49.073224Z"
    }
   },
   "outputs": [],
   "source": [
    "#remove about, blogs, books, facebook, image, instagram, link,linkedin, podcasts from coaches\n",
    "for coach in coaches:\n",
    "    coach.pop('about', None)\n",
    "    coach.pop('blogs', None)\n",
    "    coach.pop('books', None)\n",
    "    coach.pop('facebook', None)\n",
    "    coach.pop('image', None)\n",
    "    coach.pop('instagram', None)\n",
    "    coach.pop('link', None)\n",
    "    coach.pop('linkedin', None)\n",
    "    coach.pop('podcasts', None)"
   ]
  },
  {
   "cell_type": "markdown",
   "metadata": {},
   "source": [
    "### Masterclasses"
   ]
  },
  {
   "cell_type": "code",
   "execution_count": null,
   "metadata": {
    "ExecuteTime": {
     "start_time": "2023-12-06T23:05:49.074009Z"
    }
   },
   "outputs": [],
   "source": [
    "#remove fields, courseLessons, courseOverview, Description, filterTags, Progress, videoURL from master_classes\n",
    "for master_class in master_classes:\n",
    "    master_class.pop('courseLessons', None)\n",
    "    master_class.pop('courseOverview', None)\n",
    "    master_class.pop('Description', None)\n",
    "    master_class.pop('filterTags', None)\n",
    "    master_class.pop('Progress', None)\n",
    "    master_class.pop('videoURL', None)"
   ]
  },
  {
   "cell_type": "code",
   "execution_count": null,
   "metadata": {},
   "outputs": [],
   "source": [
    "from enum import Enum\n",
    "\n",
    "class Event_Type(Enum):\n",
    "    ENROLL_COURSE = 0\n",
    "    SAVE_COURSE = 1\n",
    "    UNSAVE_COURSE = 2\n",
    "    COMPLETE_COURSE = 3\n",
    "    COMPLETE_LESSON = 4\n",
    "    LOGIN = 5\n",
    "    LOGOUT = 6\n",
    "    BERATER_KONTAKT = 7\n",
    "    SAVE_BLOG = 8\n",
    "    UNSAVE_BLOG = 9\n",
    "    SAVE_SNAC = 10\n",
    "    UNSAVE_SNAC = 11\n",
    "    "
   ]
  },
  {
   "cell_type": "markdown",
   "metadata": {},
   "source": [
    "# Calculate additional metrics"
   ]
  },
  {
   "cell_type": "markdown",
   "metadata": {},
   "source": [
    "# Write data to elastic"
   ]
  },
  {
   "cell_type": "markdown",
   "metadata": {},
   "source": [
    "We will recalculate aggregate metrics"
   ]
  },
  {
   "cell_type": "markdown",
   "metadata": {},
   "source": [
    "### Users"
   ]
  },
  {
   "cell_type": "markdown",
   "metadata": {},
   "source": [
    "Total Watchtime"
   ]
  },
  {
   "cell_type": "code",
   "execution_count": null,
   "metadata": {
    "ExecuteTime": {
     "end_time": "2023-12-06T23:05:50.239365Z",
     "start_time": "2023-12-06T23:05:50.234027Z"
    }
   },
   "outputs": [],
   "source": [
    "#Total Watchtime\n",
    "#itertae through each users and calculate total watchtime by aggregating the Progress propertie of Watched\n",
    "for user in users:\n",
    "    watchtime = 0\n",
    "    for watched in user['Watched']:\n",
    "        watchtime += int(watched['progress'].split(\" \")[0])\n",
    "    user['TotalWatchtime'] = watchtime"
   ]
  },
  {
   "cell_type": "markdown",
   "metadata": {},
   "source": [
    "Courses enrolled"
   ]
  },
  {
   "cell_type": "code",
   "execution_count": null,
   "metadata": {
    "ExecuteTime": {
     "end_time": "2023-12-06T23:05:50.736232Z",
     "start_time": "2023-12-06T23:05:50.734586Z"
    }
   },
   "outputs": [],
   "source": [
    "# for each users go through events and filter Event-Type = enroll_course and calculate total enrollments\n",
    "for user in users:\n",
    "    enrollments = 0\n",
    "    for event in events:\n",
    "        if event['Event-Type'] == Event_Type.ENROLL_COURSE.name:\n",
    "            if event['User-Id'] == user['id']:\n",
    "                enrollments += 1\n",
    "    user['Age'] = datetime.today().year - int(user['Birthdate'].split(\"/\")[0])\n",
    "    user['Courses_enrolled'] = enrollments"
   ]
  },
  {
   "cell_type": "markdown",
   "metadata": {},
   "source": [
    "Courses completed"
   ]
  },
  {
   "cell_type": "code",
   "execution_count": null,
   "metadata": {
    "ExecuteTime": {
     "end_time": "2023-12-06T23:05:51.239184Z",
     "start_time": "2023-12-06T23:05:51.225286Z"
    }
   },
   "outputs": [],
   "source": [
    "# for each users go through events and filter Event-Type = complete_course and calculate \"Courses_completed\"\n",
    "for user in users:\n",
    "    courses_completed = 0\n",
    "    for event in events:\n",
    "        if event['Event-Type'] == Event_Type.COMPLETE_COURSE.name:\n",
    "            if event['User-Id'] == user['id']:\n",
    "                courses_completed += 1\n",
    "    user['Courses_completed'] = courses_completed"
   ]
  },
  {
   "cell_type": "markdown",
   "metadata": {},
   "source": [
    "Courses saved"
   ]
  },
  {
   "cell_type": "code",
   "execution_count": null,
   "metadata": {
    "ExecuteTime": {
     "end_time": "2023-12-06T23:05:51.762954Z",
     "start_time": "2023-12-06T23:05:51.756759Z"
    }
   },
   "outputs": [],
   "source": [
    "# for each users go through events and filter Event-Type = save_course and calculate \"Courses_saved\"\n",
    "for user in users:\n",
    "    courses_saved = 0\n",
    "    for event in events:\n",
    "        if event['Event-Type'] == Event_Type.SAVE_COURSE.name:\n",
    "            if event['User-Id'] == user['id']:\n",
    "                courses_saved += 1\n",
    "    user['Courses_saved'] = courses_saved"
   ]
  },
  {
   "cell_type": "markdown",
   "metadata": {},
   "source": [
    "<span style=\"color:#BAE1FF\">Adding geopoint as mapping to index users</span>"
   ]
  },
  {
   "cell_type": "code",
   "execution_count": null,
   "metadata": {},
   "outputs": [],
   "source": [
    "mappings = {\n",
    "  \"settings\": {\n",
    "    \"number_of_shards\": 1\n",
    "  },\n",
    "  \"mappings\": {\n",
    "    \"properties\": {\n",
    "      \"geo\": {\n",
    "                  \"properties\": {\n",
    "                     \"location\": {\n",
    "                           \"type\": \"geo_point\"\n",
    "                     }\n",
    "                  }\n",
    "               }\n",
    "    }\n",
    "  }\n",
    "}\n",
    "\n",
    "\n",
    "client.indices.create(index='users_all', body=mappings)\n",
    "SECRET=\"Majd ist der Beste\""
   ]
  },
  {
   "cell_type": "markdown",
   "metadata": {},
   "source": [
    "<span style=\"color:#BAE1FF\">Adding the locations from the csv to each user</span>"
   ]
  },
  {
   "cell_type": "code",
   "execution_count": null,
   "metadata": {
    "ExecuteTime": {
     "end_time": "2023-12-06T23:16:28.888604Z",
     "start_time": "2023-12-06T23:16:28.887205Z"
    },
    "collapsed": false
   },
   "outputs": [],
   "source": [
    "geotable = 'plz_geocoord.csv'\n",
    "\n",
    "df = pd.read_csv(geotable)\n",
    "df.set_index('plz', inplace=True)\n",
    "df.head()\n",
    "\n",
    "for user in users:\n",
    "   if user['postalCode'] not in df.index:\n",
    "       print(user['postalCode'])\n",
    "       continue\n",
    "       \n",
    "   postalcode = int(str(user['postalCode']))\n",
    "   \n",
    "   user['geo'] =  {'location': str(df.loc[postalcode]['lat'])+\",\"+str(df.loc[postalcode]['lng'])}\n",
    "\n"
   ]
  },
  {
   "cell_type": "markdown",
   "metadata": {
    "collapsed": false
   },
   "source": [
    "### Events"
   ]
  },
  {
   "cell_type": "code",
   "execution_count": null,
   "metadata": {
    "ExecuteTime": {
     "end_time": "2023-12-06T23:05:56.927004Z",
     "start_time": "2023-12-06T23:05:56.906291Z"
    },
    "collapsed": false
   },
   "outputs": [],
   "source": [
    "for event in events:\n",
    "    date = datetime.strptime(event['Timestamp'], '%Y/%m/%d').date()\n",
    "    event['Year'] = date.year\n",
    "    event['Month'] = date.month\n",
    "    event['Day'] = date.day"
   ]
  },
  {
   "cell_type": "markdown",
   "metadata": {
    "collapsed": false
   },
   "source": [
    "Average session duration (maybe remove)"
   ]
  },
  {
   "cell_type": "markdown",
   "metadata": {
    "collapsed": false
   },
   "source": [
    "It is important to note that here we can calculate additional field metrics"
   ]
  },
  {
   "cell_type": "code",
   "execution_count": null,
   "metadata": {
    "ExecuteTime": {
     "end_time": "2023-12-06T23:06:00.349617Z",
     "start_time": "2023-12-06T23:06:00.344778Z"
    },
    "collapsed": false
   },
   "outputs": [],
   "source": [
    "print(SECRET)"
   ]
  },
  {
   "cell_type": "markdown",
   "metadata": {},
   "source": [
    "# Move data to elastic"
   ]
  },
  {
   "cell_type": "code",
   "execution_count": null,
   "metadata": {
    "ExecuteTime": {
     "end_time": "2023-12-06T23:19:37.738721Z",
     "start_time": "2023-12-06T23:19:37.685429Z"
    }
   },
   "outputs": [],
   "source": [
    "\n",
    "from elasticsearch import Elasticsearch\n",
    "\n",
    "\n",
    "# Create the client instance\n",
    "client = Elasticsearch(\n",
    "    cloud_id=CLOUD_ID,\n",
    "    api_key=API_KEY,\n",
    ")\n",
    "          "
   ]
  },
  {
   "cell_type": "markdown",
   "metadata": {},
   "source": [
    "<span style=\"color:#BAE1FF\">Add users</span>"
   ]
  },
  {
   "cell_type": "code",
   "execution_count": null,
   "metadata": {
    "ExecuteTime": {
     "end_time": "2023-12-06T23:19:53.936415Z",
     "start_time": "2023-12-06T23:19:38.420950Z"
    }
   },
   "outputs": [],
   "source": [
    "for user in users:\n",
    "    client.index(index=\"users_all\", body=user, id=user[\"id\"])\n"
   ]
  },
  {
   "cell_type": "markdown",
   "metadata": {},
   "source": [
    "<span style=\"color:#BAE1FF\">Add master classes</span>"
   ]
  },
  {
   "cell_type": "code",
   "execution_count": null,
   "metadata": {},
   "outputs": [],
   "source": [
    "for master_class in master_classes:\n",
    "    client.index(index=\"masterclasses\", body=master_class, id=master_class[\"id\"])"
   ]
  },
  {
   "cell_type": "markdown",
   "metadata": {},
   "source": [
    "<span style=\"color:#BAE1FF\">Add blogs</span>"
   ]
  },
  {
   "cell_type": "code",
   "execution_count": null,
   "metadata": {},
   "outputs": [],
   "source": [
    "for blog in blogs:\n",
    "    client.index(index=\"blogs\", body=blog, id=blog[\"id\"])"
   ]
  },
  {
   "cell_type": "markdown",
   "metadata": {},
   "source": [
    "<span style=\"color:#BAE1FF\">Add snax</span>"
   ]
  },
  {
   "cell_type": "code",
   "execution_count": null,
   "metadata": {},
   "outputs": [],
   "source": [
    "for snak in snax:\n",
    "    client.index(index=\"snax\", body=snak, id=snak[\"id\"])"
   ]
  },
  {
   "cell_type": "markdown",
   "metadata": {},
   "source": [
    "<span style=\"color:#BAE1FF\">Add coaches</span>"
   ]
  },
  {
   "cell_type": "code",
   "execution_count": null,
   "metadata": {},
   "outputs": [],
   "source": [
    "for coach in coaches:\n",
    "    client.index(index=\"coaches\", body=coach, id = coach[\"id\"])"
   ]
  },
  {
   "cell_type": "markdown",
   "metadata": {},
   "source": [
    "<span style=\"color:#BAE1FF\">Add events</span>"
   ]
  },
  {
   "cell_type": "code",
   "execution_count": null,
   "metadata": {
    "ExecuteTime": {
     "end_time": "2023-12-06T23:11:53.275669Z",
     "start_time": "2023-12-06T23:10:41.389810Z"
    }
   },
   "outputs": [],
   "source": [
    "for event in events:\n",
    "    client.index(index=\"events\", body=event, id = event[\"Event-ID\"])\n"
   ]
  },
  {
   "cell_type": "markdown",
   "metadata": {},
   "source": [
    "<h1 style=\"color:red\">Deleting indicies</h1>"
   ]
  },
  {
   "cell_type": "code",
   "execution_count": null,
   "metadata": {
    "ExecuteTime": {
     "end_time": "2023-12-06T23:19:15.163468Z",
     "start_time": "2023-12-06T23:19:14.950671Z"
    },
    "collapsed": false
   },
   "outputs": [],
   "source": [
    "#client.options(ignore_status=[400,404]).indices.delete(index='users_index')\n",
    "#client.options(ignore_status=[400,404]).indices.delete(index='masterclasses')\n",
    "#client.options(ignore_status=[400,404]).indices.delete(index='blogs')\n",
    "#client.options(ignore_status=[400,404]).indices.delete(index='snax')\n",
    "#client.options(ignore_status=[400,404]).indices.delete(index='coaches')\n",
    "#client.options(ignore_status=[400,404]).indices.delete(index='events')"
   ]
  },
  {
   "cell_type": "markdown",
   "metadata": {},
   "source": [
    "# Creating Orga Indicies "
   ]
  },
  {
   "cell_type": "code",
   "execution_count": null,
   "metadata": {},
   "outputs": [],
   "source": [
    "def get_schulen_users():\n",
    "    result = []\n",
    "    for user in users:\n",
    "        if user[\"Education\"] == \"Schule\":\n",
    "            result += [user]\n",
    "    return result\n",
    "\n",
    "def get_orga_users(orga_name):\n",
    "    result = []\n",
    "    for user in users:\n",
    "        if user[\"advisorACID\"] == orga_name:\n",
    "            result += [user]\n",
    "    return result\n"
   ]
  },
  {
   "cell_type": "code",
   "execution_count": null,
   "metadata": {},
   "outputs": [],
   "source": [
    "mappings = {\n",
    "  \"settings\": {\n",
    "    \"number_of_shards\": 1\n",
    "  },\n",
    "  \"mappings\": {\n",
    "    \"properties\": {\n",
    "      \"geo\": {\n",
    "                  \"properties\": {\n",
    "                     \"location\": {\n",
    "                           \"type\": \"geo_point\"\n",
    "                     }\n",
    "                  }\n",
    "               }\n",
    "    }\n",
    "  }\n",
    "}\n",
    "\n",
    "\n",
    "\n",
    "def create_index(users, index_name):\n",
    "    client.indices.create(index=index_name, body=mappings)\n",
    "    for user in users:\n",
    "        client.index(index=index_name, body=user, id=user['id'])\n"
   ]
  },
  {
   "cell_type": "markdown",
   "metadata": {},
   "source": [
    "# Für Schüler"
   ]
  },
  {
   "cell_type": "code",
   "execution_count": null,
   "metadata": {},
   "outputs": [],
   "source": [
    "schueler = get_schulen_users()\n",
    "create_index(schueler, \"users_schueler\")"
   ]
  },
  {
   "cell_type": "markdown",
   "metadata": {},
   "source": [
    "# Für Organisationen"
   ]
  },
  {
   "cell_type": "code",
   "execution_count": null,
   "metadata": {},
   "outputs": [],
   "source": [
    "threshold = 11\n",
    "big_organisations = []\n",
    "for orga in organizations:\n",
    "    name = orga[\"name\"]\n",
    "\n",
    "    if name not in [\"Allianz\",\n",
    "    \"Deutsche Bank\",\n",
    "    \"Axa\", \"Orga_1\"]:\n",
    "        continue\n",
    "\n",
    "    if \"Schule\" in name:\n",
    "        continue\n",
    "\n",
    "    people = get_orga_users(name)\n",
    "    '''\n",
    "    if len(people) < threshold:\n",
    "        print(name)\n",
    "        continue\n",
    "    '''\n",
    "    big_organisations += [name]\n"
   ]
  },
  {
   "cell_type": "code",
   "execution_count": null,
   "metadata": {},
   "outputs": [],
   "source": [
    "for name in big_organisations:\n",
    "    people = get_orga_users(name)\n",
    "    create_index(people, \"users_\" + \"_\".join(name.lower().split(\" \")))\n"
   ]
  },
  {
   "cell_type": "markdown",
   "metadata": {},
   "source": []
  },
  {
   "cell_type": "code",
   "execution_count": null,
   "metadata": {},
   "outputs": [],
   "source": [
    "import requests\n",
    "import json\n",
    "\n",
    "\n",
    "search_url = HOST + \"/api/saved_objects/_find?type=dashboard&search_fields=title&search=\"\n",
    "export_url = HOST + \"/api/saved_objects/_export\"\n",
    "import_url = HOST + \"/api/saved_objects/_import?createNewCopies=True\"\n",
    "data_view_api = HOST + \"/api/data_views/data_view\"\n",
    "space_api = HOST + \"/api/spaces/space\"\n",
    "\n",
    "\n",
    "def post_request(url, json, headers = None):\n",
    "    if headers is None:\n",
    "        headers = {'kbn-xsrf': 'true'}\n",
    "    s = requests.post(url, auth=('elastic', ELASTIC_PASSWORT), json=json, headers=headers)\n",
    "    print(s.text)\n",
    "\n",
    "def create_space(name):\n",
    "    url = space_api\n",
    "    data = {\n",
    "        \"id\": build_index_name(name),\n",
    "        \"name\": name,\n",
    "\n",
    "    }\n",
    "    post_request(url, data)\n",
    "\n",
    "def change_export(export, new_index, organaisation_name, new_view_id, new_dashboard_title=None):\n",
    "    data = export.split(\"\\n\")\n",
    "\n",
    "    index_pattern = json.loads(data[0])\n",
    "    dashboard = json.loads(data[1])\n",
    "    third = json.loads(data[2])\n",
    "    new_data = [index_pattern, dashboard, third]\n",
    "\n",
    "    index_pattern[\"attributes\"][\"name\"] = \"Users \" + organaisation_name\n",
    "    index_pattern[\"attributes\"][\"title\"] = new_index\n",
    "\n",
    "    index_pattern[\"id\"] = new_view_id\n",
    "\n",
    "    if new_dashboard_title is not None:\n",
    "        dashboard[\"attributes\"][\"title\"] = new_dashboard_title\n",
    "    else:\n",
    "        dashboard[\"attributes\"][\"title\"] = dashboard[\"attributes\"][\"title\"][0:-12] + \" [\"+organaisation_name+\"]\"\n",
    "    \n",
    "    for item in dashboard[\"references\"]:\n",
    "        item[\"id\"] = new_view_id\n",
    "        \n",
    "    new_data[0] = json.dumps(index_pattern)\n",
    "    new_data[1] = json.dumps(dashboard)\n",
    "    new_data[2] = json.dumps(third)\n",
    "\n",
    "    new_data = \"\\n\".join(new_data)\n",
    "    file_name = dashboard[\"attributes\"][\"title\"]\n",
    "    file_path = \"new_dashboards/\" + file_name + \".ndjson\"\n",
    "    f = open(file_path, \"w\")\n",
    "    f.write(new_data)\n",
    "    return file_path\n",
    "\n",
    "def get_dashboard_id(dashboard_name):\n",
    "    url = search_url + dashboard_name\n",
    "    r = requests.get(url, auth=('elastic', ELASTIC_PASSWORT))\n",
    "    return r.json()[\"saved_objects\"][0][\"id\"]\n",
    "\n",
    "def get_dashboard_export(id):\n",
    "    objects = [{\n",
    "        \"type\": \"dashboard\",\n",
    "        \"id\": id\n",
    "    }]\n",
    "\n",
    "    date = {\n",
    "        \"objects\":objects,\n",
    "        \"includeReferencesDeep\": \"true\"\n",
    "    }\n",
    "    headers = {'kbn-xsrf': 'true', \"Content-Type\" : \"application/json\"}\n",
    "\n",
    "    export = requests.post(export_url, auth=('elastic', ELASTIC_PASSWORT), json=date, headers=headers)\n",
    "    return export.text\n",
    "\n",
    "\n",
    "def import_new_export(file_path, space):\n",
    "    headers = {'kbn-xsrf': 'true'}\n",
    "    url = HOST + \"/s/\" + space + \"/api/saved_objects/_import?overwrite=True\"\n",
    "    s = requests.post(\n",
    "        url, \n",
    "        auth=('elastic', ELASTIC_PASSWORT), \n",
    "        files={'file': open(file_path,'rb')}, \n",
    "        headers=headers\n",
    "        )\n",
    "    print(s.text)\n",
    "\n",
    "\n",
    "def create_dataview(name, index, space=None):\n",
    "    data = {\n",
    "        \"data_view\": {\n",
    "            \"id\": \"dv_\" + build_index_name(name),\n",
    "            \"title\": index,\n",
    "            \"name\": \"Users \" + name,\n",
    "            \"namespaces\": [space] if space is not None else []\n",
    "        }\n",
    "    }\n",
    "    headers = {'kbn-xsrf': 'true'}\n",
    "    url = data_view_api\n",
    "    s = requests.post(url, auth=('elastic', ELASTIC_PASSWORT), json= data, headers=headers)\n",
    "    print(s.text)\n",
    "def get_data_view(name):\n",
    "    id =  \"dv_\" + build_index_name(name)\n",
    "    url = HOST + \"/s/\"  + build_index_name(name) + \"/api/data_views/data_view/\" + id\n",
    "    return requests.get(url, auth=('elastic', ELASTIC_PASSWORT)).json()\n",
    "\n",
    "def get_space(name):\n",
    "    url = space_api + \"/\" + build_index_name(name)\n",
    "    s = requests.get(url, auth=('elastic', ELASTIC_PASSWORT))\n",
    "    print(s.json())\n",
    "\n",
    "def build_index_name(name):\n",
    "    return str(\"_\".join(name.lower().split(\" \")))\n",
    "\n",
    "\n",
    "def add_read_only_role(space):\n",
    "    url = HOST + \"/api/security/role/readonly_\" + space\n",
    "    data = {\n",
    "        \"elasticsearch\": {\n",
    "            \"indices\": [\n",
    "                {\n",
    "                    \"names\": [ \"users_\" + space],\n",
    "                    \"privileges\": [ \"read\" ]\n",
    "                }\n",
    "            ]\n",
    "        },\n",
    "        \"kibana\" : [ {\n",
    "            \"feature\" : {\n",
    "                \"dashboard\" : [\"read\"]\n",
    "            },\n",
    "            \"spaces\" : [space]\n",
    "         }]\n",
    "    }\n",
    "    \n",
    "    \n",
    "    headers = {'kbn-xsrf': 'true'}\n",
    "    s = requests.put(url, auth=('elastic', ELASTIC_PASSWORT), json=data, headers=headers)\n",
    "    print(s.text)\n",
    "\n",
    "\n",
    "\n",
    "\n",
    "    \n"
   ]
  },
  {
   "cell_type": "markdown",
   "metadata": {},
   "source": [
    "## Create Spaces"
   ]
  },
  {
   "cell_type": "code",
   "execution_count": null,
   "metadata": {},
   "outputs": [],
   "source": [
    "for name in big_organisations:\n",
    "    create_space(name)"
   ]
  },
  {
   "cell_type": "markdown",
   "metadata": {},
   "source": [
    "##  Create Date-views"
   ]
  },
  {
   "cell_type": "code",
   "execution_count": null,
   "metadata": {},
   "outputs": [],
   "source": [
    "for name in big_organisations:\n",
    "    create_dataview( name, \"users_\" + build_index_name(name), build_index_name(name))"
   ]
  },
  {
   "cell_type": "markdown",
   "metadata": {},
   "source": [
    "## Create Dashboards"
   ]
  },
  {
   "cell_type": "code",
   "execution_count": null,
   "metadata": {},
   "outputs": [],
   "source": [
    "DASHBOARDS = [\n",
    "    \"\\\"Geographische Analysen [All Users]\\\"\",\n",
    "    \"\\\"Analysen mit soziodemographischen Filtern [All Users]\\\"\",\n",
    "    \"\\\"Soziodemographische Analyen ohne Filter [All Users]\\\"\"\n",
    "]\n",
    "\n",
    "IDS = []\n",
    "for dashboard in DASHBOARDS:\n",
    "    IDS +=  [get_dashboard_id(dashboard)]\n",
    "\n",
    "\n",
    "\n",
    "for name in big_organisations:\n",
    "\n",
    "    data_view_id = get_data_view(name)[\"data_view\"][\"id\"]\n",
    "    print(data_view_id)\n",
    "    for dashboard in DASHBOARDS:\n",
    "        id = get_dashboard_id(dashboard)\n",
    "        export = get_dashboard_export(id)\n",
    "        new_export = change_export(\n",
    "            export, \n",
    "            new_index=\"users_\" + build_index_name(name),\n",
    "            organaisation_name= name,\n",
    "            new_view_id= data_view_id \n",
    "            )\n",
    "        import_new_export(new_export, build_index_name(name))\n",
    "   "
   ]
  },
  {
   "cell_type": "markdown",
   "metadata": {},
   "source": [
    "## Create Roles"
   ]
  },
  {
   "cell_type": "code",
   "execution_count": null,
   "metadata": {},
   "outputs": [],
   "source": [
    "for name in big_organisations:\n",
    "    add_read_only_role(build_index_name(name))\n"
   ]
  }
 ],
 "metadata": {
  "kernelspec": {
   "display_name": "Python 3",
   "language": "python",
   "name": "python3"
  },
  "language_info": {
   "codemirror_mode": {
    "name": "ipython",
    "version": 3
   },
   "file_extension": ".py",
   "mimetype": "text/x-python",
   "name": "python",
   "nbconvert_exporter": "python",
   "pygments_lexer": "ipython3",
   "version": "3.8.10"
  }
 },
 "nbformat": 4,
 "nbformat_minor": 2
}
